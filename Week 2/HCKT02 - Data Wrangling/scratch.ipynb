{
 "cells": [
  {
   "cell_type": "markdown",
   "metadata": {},
   "source": [
    "# Hackathon 02"
   ]
  },
  {
   "cell_type": "markdown",
   "metadata": {},
   "source": [
    "## Imports"
   ]
  },
  {
   "cell_type": "code",
   "execution_count": 1,
   "metadata": {},
   "outputs": [],
   "source": [
    "import pandas as pd\n",
    "import numpy as np\n",
    "import requests\n",
    "from bs4 import BeautifulSoup\n",
    "import sqlalchemy"
   ]
  },
  {
   "cell_type": "markdown",
   "metadata": {},
   "source": [
    "## CSV files"
   ]
  },
  {
   "cell_type": "code",
   "execution_count": 12,
   "metadata": {},
   "outputs": [],
   "source": [
    "df_test = pd.read_csv('data/test.csv')\n",
    "df_train = pd.read_csv('data/train.csv')"
   ]
  },
  {
   "cell_type": "code",
   "execution_count": 13,
   "metadata": {
    "scrolled": true
   },
   "outputs": [],
   "source": [
    "id_list = list(df_test.game_id.append(df_train.game_id))"
   ]
  },
  {
   "cell_type": "markdown",
   "metadata": {},
   "source": [
    "## Website scraping"
   ]
  },
  {
   "cell_type": "code",
   "execution_count": 4,
   "metadata": {},
   "outputs": [],
   "source": [
    "def scrape_hackathon_website(min_page_index=1, max_page_index=762):\n",
    "    #parameters\n",
    "    cols = ['index','Type','min_1','min_2','min_3','min_4','min_5','min_6','min_7','min_8','min_9','min_10','game_id']\n",
    "    df = pd.DataFrame(columns=cols)\n",
    "\n",
    "    base_url = 'https://ldsa-scrap-me.herokuapp.com/items?page='\n",
    "\n",
    "    for page in range(min_page_index,max_page_index+1):\n",
    "        # get raw html\n",
    "        url = base_url+str(page)\n",
    "        response = requests.get(url)\n",
    "        soup = BeautifulSoup(response.content, 'html.parser')\n",
    "    \n",
    "        # get text\n",
    "        cast_list = soup.find_all('td', class_=\"align-middle\")\n",
    "        table_list = [i.get_text() for i in cast_list]\n",
    "        text_list = [i for i in table_list if i != '']\n",
    "    \n",
    "        # append dataframe\n",
    "        df_page = pd.DataFrame(np.array(text_list).reshape(-1,13),columns=cols)\n",
    "        df = df.append(df_page)\n",
    "        \n",
    "        # print progress\n",
    "        if page%25 == 0:\n",
    "            print('scaped page {}/{}'.format(page,max_page_index))\n",
    "\n",
    "    return df.set_index('index')"
   ]
  },
  {
   "cell_type": "code",
   "execution_count": 5,
   "metadata": {
    "scrolled": true
   },
   "outputs": [
    {
     "name": "stdout",
     "output_type": "stream",
     "text": [
      "scaped page 10/762\n",
      "scaped page 20/762\n",
      "scaped page 30/762\n",
      "scaped page 40/762\n",
      "scaped page 50/762\n",
      "scaped page 60/762\n",
      "scaped page 70/762\n",
      "scaped page 80/762\n",
      "scaped page 90/762\n",
      "scaped page 100/762\n",
      "scaped page 110/762\n",
      "scaped page 120/762\n",
      "scaped page 130/762\n",
      "scaped page 140/762\n",
      "scaped page 150/762\n",
      "scaped page 160/762\n",
      "scaped page 170/762\n",
      "scaped page 180/762\n",
      "scaped page 190/762\n",
      "scaped page 200/762\n",
      "scaped page 210/762\n",
      "scaped page 220/762\n",
      "scaped page 230/762\n",
      "scaped page 240/762\n",
      "scaped page 250/762\n",
      "scaped page 260/762\n",
      "scaped page 270/762\n",
      "scaped page 280/762\n",
      "scaped page 290/762\n",
      "scaped page 300/762\n",
      "scaped page 310/762\n",
      "scaped page 320/762\n",
      "scaped page 330/762\n",
      "scaped page 340/762\n",
      "scaped page 350/762\n",
      "scaped page 360/762\n",
      "scaped page 370/762\n",
      "scaped page 380/762\n",
      "scaped page 390/762\n",
      "scaped page 400/762\n",
      "scaped page 410/762\n",
      "scaped page 420/762\n",
      "scaped page 430/762\n",
      "scaped page 440/762\n",
      "scaped page 450/762\n",
      "scaped page 460/762\n",
      "scaped page 470/762\n",
      "scaped page 480/762\n",
      "scaped page 490/762\n",
      "scaped page 500/762\n",
      "scaped page 510/762\n",
      "scaped page 520/762\n",
      "scaped page 530/762\n",
      "scaped page 540/762\n",
      "scaped page 550/762\n",
      "scaped page 560/762\n",
      "scaped page 570/762\n",
      "scaped page 580/762\n",
      "scaped page 590/762\n",
      "scaped page 600/762\n",
      "scaped page 610/762\n",
      "scaped page 620/762\n",
      "scaped page 630/762\n",
      "scaped page 640/762\n",
      "scaped page 650/762\n",
      "scaped page 660/762\n",
      "scaped page 670/762\n",
      "scaped page 680/762\n",
      "scaped page 690/762\n",
      "scaped page 700/762\n",
      "scaped page 710/762\n",
      "scaped page 720/762\n",
      "scaped page 730/762\n",
      "scaped page 740/762\n",
      "scaped page 750/762\n",
      "scaped page 760/762\n",
      "CPU times: user 15min 28s, sys: 39.8 s, total: 16min 8s\n",
      "Wall time: 34min 47s\n"
     ]
    }
   ],
   "source": [
    "%%time\n",
    "df_website = scrape_hackathon_website()\n",
    "df_website.to_csv('data/df_website.csv')\n",
    "#pd.read_csv('data/df_website.csv')"
   ]
  },
  {
   "cell_type": "code",
   "execution_count": 103,
   "metadata": {},
   "outputs": [],
   "source": [
    "def tidy_up_gold_df(df):\n",
    "    df = df.copy()\\\n",
    "           .pivot(index=['game_id'], columns='Type')\\\n",
    "           .astype(int)\n",
    "    \n",
    "    return df\n",
    "\n",
    "def gold_lead_blue(df):\n",
    "    # define teams\n",
    "    blue_players = ['goldblueTop','goldblueJungle','goldblueMiddle','goldblueADC','goldblueSupport']\n",
    "    red_players = ['goldredTop','goldredJungle','goldredMiddle','goldredADC','goldredSupport']\n",
    "    \n",
    "    # aggregate team gold\n",
    "    blue_gold = df['min_10'][blue_players]\\\n",
    "                    .astype(int)\\\n",
    "                    .sum(axis=1)\n",
    "    red_gold= df['min_10'][red_players]\\\n",
    "                    .astype(int)\\\n",
    "                    .sum(axis=1)\n",
    "    \n",
    "    # return team difference\n",
    "    gold_lead_blue = blue_gold-red_gold\n",
    "    return gold_lead_blue"
   ]
  },
  {
   "cell_type": "code",
   "execution_count": 152,
   "metadata": {},
   "outputs": [],
   "source": [
    "def tidy_up_gold_df(df):\n",
    "    df = df.copy()\\\n",
    "           .pivot(index=['game_id'], columns='Type')\\\n",
    "           .astype(int)\n",
    "    return df\n",
    "\n",
    "def gold_blue(df, minute=10):\n",
    "    players = ['goldblueTop','goldblueJungle','goldblueMiddle','goldblueADC','goldblueSupport']\n",
    "    gold = df['min_'+str(minute)][players]\\\n",
    "                    .astype(int)\\\n",
    "                    .sum(axis=1)\n",
    "    return gold\n",
    "\n",
    "def gold_red(df, minute=10):\n",
    "    players = ['goldredTop','goldredJungle','goldredMiddle','goldredADC','goldredSupport']\n",
    "    gold = df['min_'+str(minute)][players]\\\n",
    "                    .astype(int)\\\n",
    "                    .sum(axis=1)\n",
    "    return gold\n",
    "\n",
    "def final_gold_diff(df):\n",
    "    blue = gold_blue(df,10)\n",
    "    red = gold_red(df,10)\n",
    "    diff = blue-red\n",
    "    return diff\n",
    "\n",
    "def all_gold_blue(df):\n",
    "    gold = 0\n",
    "    for minute in range(1,11):\n",
    "        gold += gold_blue(df, minute=minute)\n",
    "    return gold\n",
    "\n",
    "def all_gold_red(df):\n",
    "    gold = 0\n",
    "    for minute in range(1,11):\n",
    "        gold += gold_red(df, minute=minute)\n",
    "    return gold\n",
    "\n",
    "def last_earnings_blue(df):\n",
    "    earnings = gold_blue(df, minute=10)-gold_blue(df, minute=9)\n",
    "    return earnings\n",
    "\n",
    "def last_earnings_red(df):\n",
    "    earnings = gold_red(df, minute=10)-gold_red(df, minute=9)\n",
    "    return earnings\n",
    "\n",
    "def last_earnings_diff(df):\n",
    "    blue = last_earnings_blue(df)\n",
    "    red = last_earnings_red(df)\n",
    "    diff = blue-red\n",
    "    return diff\n",
    "\n",
    "def blue_richer_count(df):\n",
    "    count = 0\n",
    "    for minute in range(1,11):\n",
    "        count += gold_blue(df, minute=minute) > gold_red(df, minute=minute)\n",
    "    return count\n",
    "\n",
    "def generate_gold_features(df):\n",
    "    features = pd.DataFrame()\n",
    "    features['blue_gold'] = gold_blue(df)\n",
    "    features['red_gold'] = gold_red(df)\n",
    "    features['gold_diff'] = final_gold_diff(df)\n",
    "    features['blue_richer'] = features['gold_diff'] >= 0\n",
    "    features['blue_richer_count'] = blue_richer_count(df)\n",
    "    features['blue_earn'] = last_earnings_blue(df)\n",
    "    features['red_earn'] = last_earnings_red(df)\n",
    "    features['earn_diff'] = last_earnings_diff(df)\n",
    "    return features"
   ]
  },
  {
   "cell_type": "code",
   "execution_count": 155,
   "metadata": {},
   "outputs": [],
   "source": [
    "df_gold_features = df_website.pipe(tidy_up_gold_df)\\\n",
    "                             .pipe(generate_gold_features)\n",
    "df_gold_features.to_csv('data/df_gold_features.csv')"
   ]
  },
  {
   "cell_type": "code",
   "execution_count": 160,
   "metadata": {},
   "outputs": [
    {
     "data": {
      "text/html": [
       "<div>\n",
       "<style scoped>\n",
       "    .dataframe tbody tr th:only-of-type {\n",
       "        vertical-align: middle;\n",
       "    }\n",
       "\n",
       "    .dataframe tbody tr th {\n",
       "        vertical-align: top;\n",
       "    }\n",
       "\n",
       "    .dataframe thead th {\n",
       "        text-align: right;\n",
       "    }\n",
       "</style>\n",
       "<table border=\"1\" class=\"dataframe\">\n",
       "  <thead>\n",
       "    <tr style=\"text-align: right;\">\n",
       "      <th></th>\n",
       "      <th>blue_gold</th>\n",
       "      <th>red_gold</th>\n",
       "      <th>gold_diff</th>\n",
       "      <th>blue_richer</th>\n",
       "      <th>blue_richer_count</th>\n",
       "      <th>blue_earn</th>\n",
       "      <th>red_earn</th>\n",
       "      <th>earn_diff</th>\n",
       "    </tr>\n",
       "  </thead>\n",
       "  <tbody>\n",
       "    <tr>\n",
       "      <th>blue_gold</th>\n",
       "      <td>1.000000</td>\n",
       "      <td>0.208808</td>\n",
       "      <td>0.645808</td>\n",
       "      <td>0.481776</td>\n",
       "      <td>0.459980</td>\n",
       "      <td>0.511749</td>\n",
       "      <td>0.018804</td>\n",
       "      <td>0.350952</td>\n",
       "    </tr>\n",
       "    <tr>\n",
       "      <th>red_gold</th>\n",
       "      <td>0.208808</td>\n",
       "      <td>1.000000</td>\n",
       "      <td>-0.611819</td>\n",
       "      <td>-0.471558</td>\n",
       "      <td>-0.437031</td>\n",
       "      <td>0.025226</td>\n",
       "      <td>0.499159</td>\n",
       "      <td>-0.323446</td>\n",
       "    </tr>\n",
       "    <tr>\n",
       "      <th>gold_diff</th>\n",
       "      <td>0.645808</td>\n",
       "      <td>-0.611819</td>\n",
       "      <td>1.000000</td>\n",
       "      <td>0.757823</td>\n",
       "      <td>0.713238</td>\n",
       "      <td>0.394222</td>\n",
       "      <td>-0.374489</td>\n",
       "      <td>0.536376</td>\n",
       "    </tr>\n",
       "    <tr>\n",
       "      <th>blue_richer</th>\n",
       "      <td>0.481776</td>\n",
       "      <td>-0.471558</td>\n",
       "      <td>0.757823</td>\n",
       "      <td>1.000000</td>\n",
       "      <td>0.736088</td>\n",
       "      <td>0.274437</td>\n",
       "      <td>-0.283370</td>\n",
       "      <td>0.388902</td>\n",
       "    </tr>\n",
       "    <tr>\n",
       "      <th>blue_richer_count</th>\n",
       "      <td>0.459980</td>\n",
       "      <td>-0.437031</td>\n",
       "      <td>0.713238</td>\n",
       "      <td>0.736088</td>\n",
       "      <td>1.000000</td>\n",
       "      <td>0.139518</td>\n",
       "      <td>-0.141404</td>\n",
       "      <td>0.195893</td>\n",
       "    </tr>\n",
       "    <tr>\n",
       "      <th>blue_earn</th>\n",
       "      <td>0.511749</td>\n",
       "      <td>0.025226</td>\n",
       "      <td>0.394222</td>\n",
       "      <td>0.274437</td>\n",
       "      <td>0.139518</td>\n",
       "      <td>1.000000</td>\n",
       "      <td>-0.027626</td>\n",
       "      <td>0.729812</td>\n",
       "    </tr>\n",
       "    <tr>\n",
       "      <th>red_earn</th>\n",
       "      <td>0.018804</td>\n",
       "      <td>0.499159</td>\n",
       "      <td>-0.374489</td>\n",
       "      <td>-0.283370</td>\n",
       "      <td>-0.141404</td>\n",
       "      <td>-0.027626</td>\n",
       "      <td>1.000000</td>\n",
       "      <td>-0.703549</td>\n",
       "    </tr>\n",
       "    <tr>\n",
       "      <th>earn_diff</th>\n",
       "      <td>0.350952</td>\n",
       "      <td>-0.323446</td>\n",
       "      <td>0.536376</td>\n",
       "      <td>0.388902</td>\n",
       "      <td>0.195893</td>\n",
       "      <td>0.729812</td>\n",
       "      <td>-0.703549</td>\n",
       "      <td>1.000000</td>\n",
       "    </tr>\n",
       "  </tbody>\n",
       "</table>\n",
       "</div>"
      ],
      "text/plain": [
       "                   blue_gold  red_gold  gold_diff  blue_richer  \\\n",
       "blue_gold           1.000000  0.208808   0.645808     0.481776   \n",
       "red_gold            0.208808  1.000000  -0.611819    -0.471558   \n",
       "gold_diff           0.645808 -0.611819   1.000000     0.757823   \n",
       "blue_richer         0.481776 -0.471558   0.757823     1.000000   \n",
       "blue_richer_count   0.459980 -0.437031   0.713238     0.736088   \n",
       "blue_earn           0.511749  0.025226   0.394222     0.274437   \n",
       "red_earn            0.018804  0.499159  -0.374489    -0.283370   \n",
       "earn_diff           0.350952 -0.323446   0.536376     0.388902   \n",
       "\n",
       "                   blue_richer_count  blue_earn  red_earn  earn_diff  \n",
       "blue_gold                   0.459980   0.511749  0.018804   0.350952  \n",
       "red_gold                   -0.437031   0.025226  0.499159  -0.323446  \n",
       "gold_diff                   0.713238   0.394222 -0.374489   0.536376  \n",
       "blue_richer                 0.736088   0.274437 -0.283370   0.388902  \n",
       "blue_richer_count           1.000000   0.139518 -0.141404   0.195893  \n",
       "blue_earn                   0.139518   1.000000 -0.027626   0.729812  \n",
       "red_earn                   -0.141404  -0.027626  1.000000  -0.703549  \n",
       "earn_diff                   0.195893   0.729812 -0.703549   1.000000  "
      ]
     },
     "execution_count": 160,
     "metadata": {},
     "output_type": "execute_result"
    }
   ],
   "source": [
    "df_gold_features.corr()"
   ]
  },
  {
   "cell_type": "code",
   "execution_count": 167,
   "metadata": {},
   "outputs": [
    {
     "data": {
      "text/plain": [
       "<AxesSubplot:xlabel='gold_diff', ylabel='earn_diff'>"
      ]
     },
     "execution_count": 167,
     "metadata": {},
     "output_type": "execute_result"
    },
    {
     "data": {
      "image/png": "[encoded data removed]",
      "text/plain": [
       "<Figure size 432x288 with 1 Axes>"
      ]
     },
     "metadata": {
      "needs_background": "light"
     },
     "output_type": "display_data"
    }
   ],
   "source": [
    "df_gold_features.plot.scatter('gold_diff', 'earn_diff')"
   ]
  },
  {
   "cell_type": "code",
   "execution_count": null,
   "metadata": {},
   "outputs": [],
   "source": []
  },
  {
   "cell_type": "markdown",
   "metadata": {},
   "source": [
    "## SQL"
   ]
  },
  {
   "cell_type": "code",
   "execution_count": 29,
   "metadata": {},
   "outputs": [],
   "source": [
    "query = \"\"\" select t.game_id as game_id_towers, m.game_id as game_id_monsters, m.\"Team\" as team_monsters, m.\"Time\" as time_monsters, m.\"Team\" as team_towers, t.\"Time\" as time_towers\n",
    "            from monsters m \n",
    "            full outer join towers t\n",
    "            on m.game_id = t.game_id \"\"\"\n",
    "\n",
    "def query_hackathon_sql(query):    \n",
    "    # Create an engine that allows to connect to the database\n",
    "    username = 'ldsa_student'\n",
    "    password = 'R4Fr4P3aAgMYBqqP'\n",
    "    host_name = 'batch4-s02-db-instance.ctq2kxc7kx1i.eu-west-1.rds.amazonaws.com'\n",
    "    port = 5432\n",
    "    db_name = 'batch4_s02_db'\n",
    "    schema = 'hackathon_students'\n",
    "    conn_str = 'postgresql://{}:{}@{}:{}/{}'.format(username, password, host_name, port, db_name)\n",
    "    conn_args = {'options': '-csearch_path={}'.format(schema)}\n",
    "    engine = sqlalchemy.create_engine(conn_str, connect_args=conn_args)\n",
    "    # Reading the query and put the result into a DataFrame\n",
    "    df = pd.read_sql_query(query, engine)\n",
    "    return df"
   ]
  },
  {
   "cell_type": "code",
   "execution_count": 32,
   "metadata": {},
   "outputs": [],
   "source": [
    "df_sql = query_hackathon_sql(query)"
   ]
  },
  {
   "cell_type": "code",
   "execution_count": 33,
   "metadata": {},
   "outputs": [
    {
     "data": {
      "text/html": [
       "<div>\n",
       "<style scoped>\n",
       "    .dataframe tbody tr th:only-of-type {\n",
       "        vertical-align: middle;\n",
       "    }\n",
       "\n",
       "    .dataframe tbody tr th {\n",
       "        vertical-align: top;\n",
       "    }\n",
       "\n",
       "    .dataframe thead th {\n",
       "        text-align: right;\n",
       "    }\n",
       "</style>\n",
       "<table border=\"1\" class=\"dataframe\">\n",
       "  <thead>\n",
       "    <tr style=\"text-align: right;\">\n",
       "      <th></th>\n",
       "      <th>game_id_towers</th>\n",
       "      <th>game_id_monsters</th>\n",
       "      <th>team_monsters</th>\n",
       "      <th>time_monsters</th>\n",
       "      <th>team_towers</th>\n",
       "      <th>time_towers</th>\n",
       "    </tr>\n",
       "  </thead>\n",
       "  <tbody>\n",
       "    <tr>\n",
       "      <th>0</th>\n",
       "      <td>5f86d932-465d-4278-8f2c-e837398c696e</td>\n",
       "      <td>None</td>\n",
       "      <td>None</td>\n",
       "      <td>NaN</td>\n",
       "      <td>None</td>\n",
       "      <td>6.378</td>\n",
       "    </tr>\n",
       "    <tr>\n",
       "      <th>1</th>\n",
       "      <td>4b4c0c9f-62e2-44ea-a2fe-aa4c59a182b6</td>\n",
       "      <td>4b4c0c9f-62e2-44ea-a2fe-aa4c59a182b6</td>\n",
       "      <td>rDragons</td>\n",
       "      <td>8.246</td>\n",
       "      <td>rDragons</td>\n",
       "      <td>8.946</td>\n",
       "    </tr>\n",
       "    <tr>\n",
       "      <th>2</th>\n",
       "      <td>3beaa8b3-6263-47c9-85fa-8dde611f0bb6</td>\n",
       "      <td>3beaa8b3-6263-47c9-85fa-8dde611f0bb6</td>\n",
       "      <td>rDragons</td>\n",
       "      <td>9.551</td>\n",
       "      <td>rDragons</td>\n",
       "      <td>8.960</td>\n",
       "    </tr>\n",
       "    <tr>\n",
       "      <th>3</th>\n",
       "      <td>9dcadc3c-7c30-4773-af55-a73edb4cf589</td>\n",
       "      <td>None</td>\n",
       "      <td>None</td>\n",
       "      <td>NaN</td>\n",
       "      <td>None</td>\n",
       "      <td>10.332</td>\n",
       "    </tr>\n",
       "    <tr>\n",
       "      <th>4</th>\n",
       "      <td>3ca49512-a10f-472a-8c15-3bb67d6dbed3</td>\n",
       "      <td>3ca49512-a10f-472a-8c15-3bb67d6dbed3</td>\n",
       "      <td>rDragons</td>\n",
       "      <td>10.630</td>\n",
       "      <td>rDragons</td>\n",
       "      <td>8.743</td>\n",
       "    </tr>\n",
       "    <tr>\n",
       "      <th>...</th>\n",
       "      <td>...</td>\n",
       "      <td>...</td>\n",
       "      <td>...</td>\n",
       "      <td>...</td>\n",
       "      <td>...</td>\n",
       "      <td>...</td>\n",
       "    </tr>\n",
       "    <tr>\n",
       "      <th>9721</th>\n",
       "      <td>None</td>\n",
       "      <td>b14d0500-6098-4a3e-931f-3a6ed2452946</td>\n",
       "      <td>rDragons</td>\n",
       "      <td>10.711</td>\n",
       "      <td>rDragons</td>\n",
       "      <td>NaN</td>\n",
       "    </tr>\n",
       "    <tr>\n",
       "      <th>9722</th>\n",
       "      <td>None</td>\n",
       "      <td>9ae9a448-7df2-4435-8ba6-c7feabb977af</td>\n",
       "      <td>bDragons</td>\n",
       "      <td>10.716</td>\n",
       "      <td>bDragons</td>\n",
       "      <td>NaN</td>\n",
       "    </tr>\n",
       "    <tr>\n",
       "      <th>9723</th>\n",
       "      <td>None</td>\n",
       "      <td>727b1523-0c69-4bad-ac71-358725980e6c</td>\n",
       "      <td>rDragons</td>\n",
       "      <td>9.204</td>\n",
       "      <td>rDragons</td>\n",
       "      <td>NaN</td>\n",
       "    </tr>\n",
       "    <tr>\n",
       "      <th>9724</th>\n",
       "      <td>None</td>\n",
       "      <td>5f102608-22c8-41e7-a0ea-2fb3ff6c9bf9</td>\n",
       "      <td>rDragons</td>\n",
       "      <td>10.453</td>\n",
       "      <td>rDragons</td>\n",
       "      <td>NaN</td>\n",
       "    </tr>\n",
       "    <tr>\n",
       "      <th>9725</th>\n",
       "      <td>None</td>\n",
       "      <td>3e748351-b365-4788-9ad9-1e8155a77583</td>\n",
       "      <td>rDragons</td>\n",
       "      <td>9.902</td>\n",
       "      <td>rDragons</td>\n",
       "      <td>NaN</td>\n",
       "    </tr>\n",
       "  </tbody>\n",
       "</table>\n",
       "<p>9726 rows × 6 columns</p>\n",
       "</div>"
      ],
      "text/plain": [
       "                            game_id_towers  \\\n",
       "0     5f86d932-465d-4278-8f2c-e837398c696e   \n",
       "1     4b4c0c9f-62e2-44ea-a2fe-aa4c59a182b6   \n",
       "2     3beaa8b3-6263-47c9-85fa-8dde611f0bb6   \n",
       "3     9dcadc3c-7c30-4773-af55-a73edb4cf589   \n",
       "4     3ca49512-a10f-472a-8c15-3bb67d6dbed3   \n",
       "...                                    ...   \n",
       "9721                                  None   \n",
       "9722                                  None   \n",
       "9723                                  None   \n",
       "9724                                  None   \n",
       "9725                                  None   \n",
       "\n",
       "                          game_id_monsters team_monsters  time_monsters  \\\n",
       "0                                     None          None            NaN   \n",
       "1     4b4c0c9f-62e2-44ea-a2fe-aa4c59a182b6      rDragons          8.246   \n",
       "2     3beaa8b3-6263-47c9-85fa-8dde611f0bb6      rDragons          9.551   \n",
       "3                                     None          None            NaN   \n",
       "4     3ca49512-a10f-472a-8c15-3bb67d6dbed3      rDragons         10.630   \n",
       "...                                    ...           ...            ...   \n",
       "9721  b14d0500-6098-4a3e-931f-3a6ed2452946      rDragons         10.711   \n",
       "9722  9ae9a448-7df2-4435-8ba6-c7feabb977af      bDragons         10.716   \n",
       "9723  727b1523-0c69-4bad-ac71-358725980e6c      rDragons          9.204   \n",
       "9724  5f102608-22c8-41e7-a0ea-2fb3ff6c9bf9      rDragons         10.453   \n",
       "9725  3e748351-b365-4788-9ad9-1e8155a77583      rDragons          9.902   \n",
       "\n",
       "     team_towers  time_towers  \n",
       "0           None        6.378  \n",
       "1       rDragons        8.946  \n",
       "2       rDragons        8.960  \n",
       "3           None       10.332  \n",
       "4       rDragons        8.743  \n",
       "...          ...          ...  \n",
       "9721    rDragons          NaN  \n",
       "9722    bDragons          NaN  \n",
       "9723    rDragons          NaN  \n",
       "9724    rDragons          NaN  \n",
       "9725    rDragons          NaN  \n",
       "\n",
       "[9726 rows x 6 columns]"
      ]
     },
     "execution_count": 33,
     "metadata": {},
     "output_type": "execute_result"
    }
   ],
   "source": [
    "df_sql"
   ]
  },
  {
   "cell_type": "code",
   "execution_count": 157,
   "metadata": {},
   "outputs": [
    {
     "data": {
      "text/plain": [
       "array([None, 'rDragons', 'bDragons', 'bHeralds', 'rHeralds'], dtype=object)"
      ]
     },
     "execution_count": 157,
     "metadata": {},
     "output_type": "execute_result"
    }
   ],
   "source": [
    "df_sql.team_towers.unique()"
   ]
  },
  {
   "cell_type": "code",
   "execution_count": 158,
   "metadata": {},
   "outputs": [
    {
     "data": {
      "text/plain": [
       "<AxesSubplot:>"
      ]
     },
     "execution_count": 158,
     "metadata": {},
     "output_type": "execute_result"
    },
    {
     "data": {
      "image/png": "[encoded data removed]",
      "text/plain": [
       "<Figure size 432x288 with 1 Axes>"
      ]
     },
     "metadata": {
      "needs_background": "light"
     },
     "output_type": "display_data"
    }
   ],
   "source": [
    "df_sql.time_monsters.hist()"
   ]
  },
  {
   "cell_type": "code",
   "execution_count": null,
   "metadata": {},
   "outputs": [],
   "source": []
  }
 ],
 "metadata": {
  "kernelspec": {
   "display_name": "Python 3",
   "language": "python",
   "name": "python3"
  },
  "language_info": {
   "codemirror_mode": {
    "name": "ipython",
    "version": 3
   },
   "file_extension": ".py",
   "mimetype": "text/x-python",
   "name": "python",
   "nbconvert_exporter": "python",
   "pygments_lexer": "ipython3",
   "version": "3.6.9"
  }
 },
 "nbformat": 4,
 "nbformat_minor": 4
}
