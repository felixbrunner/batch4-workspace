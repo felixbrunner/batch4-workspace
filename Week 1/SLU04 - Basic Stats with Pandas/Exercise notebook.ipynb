{
 "cells": [
  {
   "cell_type": "markdown",
   "metadata": {
    "deletable": false,
    "editable": false,
    "nbgrader": {
     "grade": false,
     "grade_id": "cell-c52abac6c754c47e",
     "locked": true,
     "schema_version": 3,
     "solution": false,
     "task": false
    }
   },
   "source": [
    "# SLU04 - Basic Stats with Pandas: Exercises notebook\n",
    "\n",
    "In these exercises, we'll use a dataset with information on books from [Goodreads](https://www.goodreads.com/). Goodreads is a platform that allows users to rate and review books. The dataset comes from [Kaggle](https://www.kaggle.com/bahramjannesarr/goodreads-book-datasets-10m).\n",
    "\n",
    "\n",
    "## Objective\n",
    "\n",
    "In these exercises, the objective is for you to learn how to use pandas to obtain simple statistics of datasets. The following will be tested:\n",
    "- Minimum, maximum, argmin, argmax\n",
    "- Mean, median & mode\n",
    "- Standard deviation and variance\n",
    "- Skewness & Kurtosis\n",
    "- Quantiles\n",
    "- Outliers & how to deal with them\n",
    "\n",
    "## Dataset information\n",
    "\n",
    "![](media/goodreads.png)\n",
    "\n",
    "This dataset contains a sample of ~53,000 books rated and reviewed by users on Goodreads.\n",
    "\n",
    "The fields in the dataset are the following:\n",
    "\n",
    "- `Id`: Unique Goodreads identifier\n",
    "- `ISBN`: Unique book identifier (International Standard Book Number) \n",
    "- `Title`: Title of the book\n",
    "- `Authors`: Authors of the book\n",
    "- `PagesNumber`: Number of pages\n",
    "- `Publisher`: Company that published the book\n",
    "- `PublishYear`: Year the book was published\n",
    "- `PublishMonth`: Month the book was published\n",
    "- `PublishDay`: Day the book was published\n",
    "- `CountsOfReview`: Number of reviews\n",
    "- `CountsOfRating`: Number of ratings\n",
    "- `Rating`: Average rating of the book"
   ]
  },
  {
   "cell_type": "code",
   "execution_count": 1,
   "metadata": {},
   "outputs": [],
   "source": [
    "import pandas as pd\n",
    "import numpy as np\n",
    "import matplotlib.pyplot as plt\n",
    "import math \n",
    "import hashlib"
   ]
  },
  {
   "cell_type": "code",
   "execution_count": 2,
   "metadata": {
    "deletable": false,
    "editable": false,
    "nbgrader": {
     "grade": false,
     "grade_id": "cell-5ea08308358606c7",
     "locked": true,
     "schema_version": 3,
     "solution": false,
     "task": false
    }
   },
   "outputs": [
    {
     "data": {
      "text/html": [
       "<div>\n",
       "<style scoped>\n",
       "    .dataframe tbody tr th:only-of-type {\n",
       "        vertical-align: middle;\n",
       "    }\n",
       "\n",
       "    .dataframe tbody tr th {\n",
       "        vertical-align: top;\n",
       "    }\n",
       "\n",
       "    .dataframe thead th {\n",
       "        text-align: right;\n",
       "    }\n",
       "</style>\n",
       "<table border=\"1\" class=\"dataframe\">\n",
       "  <thead>\n",
       "    <tr style=\"text-align: right;\">\n",
       "      <th></th>\n",
       "      <th>ISBN</th>\n",
       "      <th>Title</th>\n",
       "      <th>Authors</th>\n",
       "      <th>PagesNumber</th>\n",
       "      <th>Publisher</th>\n",
       "      <th>PublishYear</th>\n",
       "      <th>PublishMonth</th>\n",
       "      <th>PublishDay</th>\n",
       "      <th>CountsOfReview</th>\n",
       "      <th>CountsOfRating</th>\n",
       "      <th>Rating</th>\n",
       "    </tr>\n",
       "    <tr>\n",
       "      <th>Id</th>\n",
       "      <th></th>\n",
       "      <th></th>\n",
       "      <th></th>\n",
       "      <th></th>\n",
       "      <th></th>\n",
       "      <th></th>\n",
       "      <th></th>\n",
       "      <th></th>\n",
       "      <th></th>\n",
       "      <th></th>\n",
       "      <th></th>\n",
       "    </tr>\n",
       "  </thead>\n",
       "  <tbody>\n",
       "    <tr>\n",
       "      <th>1</th>\n",
       "      <td>NaN</td>\n",
       "      <td>Harry Potter and the Half-Blood Prince (Harry ...</td>\n",
       "      <td>J.K. Rowling</td>\n",
       "      <td>652</td>\n",
       "      <td>Scholastic Inc.</td>\n",
       "      <td>2006</td>\n",
       "      <td>9</td>\n",
       "      <td>16</td>\n",
       "      <td>28062</td>\n",
       "      <td>2298124</td>\n",
       "      <td>4.57</td>\n",
       "    </tr>\n",
       "    <tr>\n",
       "      <th>2</th>\n",
       "      <td>439358078</td>\n",
       "      <td>Harry Potter and the Order of the Phoenix (Har...</td>\n",
       "      <td>J.K. Rowling</td>\n",
       "      <td>870</td>\n",
       "      <td>Scholastic Inc.</td>\n",
       "      <td>2004</td>\n",
       "      <td>9</td>\n",
       "      <td>1</td>\n",
       "      <td>29770</td>\n",
       "      <td>2358637</td>\n",
       "      <td>4.50</td>\n",
       "    </tr>\n",
       "    <tr>\n",
       "      <th>3</th>\n",
       "      <td>NaN</td>\n",
       "      <td>Harry Potter and the Sorcerer's Stone (Harry P...</td>\n",
       "      <td>J.K. Rowling</td>\n",
       "      <td>309</td>\n",
       "      <td>Scholastic Inc</td>\n",
       "      <td>2003</td>\n",
       "      <td>11</td>\n",
       "      <td>1</td>\n",
       "      <td>75911</td>\n",
       "      <td>6587388</td>\n",
       "      <td>4.47</td>\n",
       "    </tr>\n",
       "    <tr>\n",
       "      <th>4</th>\n",
       "      <td>439554896</td>\n",
       "      <td>Harry Potter and the Chamber of Secrets (Harry...</td>\n",
       "      <td>J.K. Rowling</td>\n",
       "      <td>352</td>\n",
       "      <td>Scholastic</td>\n",
       "      <td>2003</td>\n",
       "      <td>11</td>\n",
       "      <td>1</td>\n",
       "      <td>244</td>\n",
       "      <td>2560657</td>\n",
       "      <td>4.42</td>\n",
       "    </tr>\n",
       "    <tr>\n",
       "      <th>5</th>\n",
       "      <td>043965548X</td>\n",
       "      <td>Harry Potter and the Prisoner of Azkaban (Harr...</td>\n",
       "      <td>J.K. Rowling</td>\n",
       "      <td>435</td>\n",
       "      <td>Scholastic Inc.</td>\n",
       "      <td>2004</td>\n",
       "      <td>5</td>\n",
       "      <td>1</td>\n",
       "      <td>37093</td>\n",
       "      <td>2610317</td>\n",
       "      <td>4.57</td>\n",
       "    </tr>\n",
       "  </tbody>\n",
       "</table>\n",
       "</div>"
      ],
      "text/plain": [
       "          ISBN                                              Title  \\\n",
       "Id                                                                  \n",
       "1          NaN  Harry Potter and the Half-Blood Prince (Harry ...   \n",
       "2    439358078  Harry Potter and the Order of the Phoenix (Har...   \n",
       "3          NaN  Harry Potter and the Sorcerer's Stone (Harry P...   \n",
       "4    439554896  Harry Potter and the Chamber of Secrets (Harry...   \n",
       "5   043965548X  Harry Potter and the Prisoner of Azkaban (Harr...   \n",
       "\n",
       "         Authors  PagesNumber        Publisher  PublishYear  PublishMonth  \\\n",
       "Id                                                                          \n",
       "1   J.K. Rowling          652  Scholastic Inc.         2006             9   \n",
       "2   J.K. Rowling          870  Scholastic Inc.         2004             9   \n",
       "3   J.K. Rowling          309   Scholastic Inc         2003            11   \n",
       "4   J.K. Rowling          352       Scholastic         2003            11   \n",
       "5   J.K. Rowling          435  Scholastic Inc.         2004             5   \n",
       "\n",
       "    PublishDay  CountsOfReview  CountsOfRating  Rating  \n",
       "Id                                                      \n",
       "1           16           28062         2298124    4.57  \n",
       "2            1           29770         2358637    4.50  \n",
       "3            1           75911         6587388    4.47  \n",
       "4            1             244         2560657    4.42  \n",
       "5            1           37093         2610317    4.57  "
      ]
     },
     "execution_count": 2,
     "metadata": {},
     "output_type": "execute_result"
    }
   ],
   "source": [
    "data = pd.read_csv('data/sample_goodreads_books.csv').set_index(\"Id\")\n",
    "data.head()"
   ]
  },
  {
   "cell_type": "markdown",
   "metadata": {
    "deletable": false,
    "editable": false,
    "nbgrader": {
     "grade": false,
     "grade_id": "cell-fe13a44377d0ba0b",
     "locked": true,
     "schema_version": 3,
     "solution": false,
     "task": false
    }
   },
   "source": [
    "----"
   ]
  },
  {
   "cell_type": "markdown",
   "metadata": {
    "deletable": false,
    "editable": false,
    "nbgrader": {
     "grade": false,
     "grade_id": "cell-d9d9ec65058bd6ee",
     "locked": true,
     "schema_version": 3,
     "solution": false,
     "task": false
    }
   },
   "source": [
    "# Exercise 1 \n",
    "\n",
    "Let's start by having a look at the `CountsOfReview` variable.\n",
    " - How many reviews has the most reviewed book? What is its `Id`? What is its `Title`?\n",
    " - How many reviews has the least reviewed book? What is its `Id`? What is its `Title`?"
   ]
  },
  {
   "cell_type": "code",
   "execution_count": 3,
   "metadata": {
    "deletable": false,
    "nbgrader": {
     "grade": false,
     "grade_id": "cell-fddaf89ac5dc1f45",
     "locked": false,
     "schema_version": 3,
     "solution": true,
     "task": false
    }
   },
   "outputs": [],
   "source": [
    "number_reviews_most_reviewed_book = data.CountsOfReview.max()\n",
    "id_most_reviewed_book = data.CountsOfReview.idxmax()\n",
    "title_most_reviewed_book = data.Title[id_most_reviewed_book]\n",
    "\n",
    "number_reviews_least_reviewed_book = data.CountsOfReview.min()\n",
    "id_least_reviewed_book = data.CountsOfReview.idxmin()\n",
    "title_least_reviewed_book = data.Title[id_least_reviewed_book]"
   ]
  },
  {
   "cell_type": "markdown",
   "metadata": {
    "deletable": false,
    "editable": false,
    "nbgrader": {
     "grade": false,
     "grade_id": "cell-43250bca4248808c",
     "locked": true,
     "schema_version": 3,
     "solution": false,
     "task": false
    }
   },
   "source": [
    "##### Asserts"
   ]
  },
  {
   "cell_type": "code",
   "execution_count": 4,
   "metadata": {
    "deletable": false,
    "editable": false,
    "nbgrader": {
     "grade": true,
     "grade_id": "cell-95d2ea229add9a61",
     "locked": true,
     "points": 3,
     "schema_version": 3,
     "solution": false,
     "task": false
    }
   },
   "outputs": [],
   "source": [
    "number_reviews_most_reviewed_book_hash = \"16566de61d8485ee0c7bdeda75061d2f1433ee3f7c3e93e6f62a9d5b68380d3d\"\n",
    "id_most_reviewed_book_hash = \"4c3470ee4b24aed9c6f7a83b0326f61081770f91569046d6b3708d1786bb22be\"\n",
    "title_most_reviewed_book_hash = \"45954ffe8b6bfa3f1b2e46afe4435937d34047ace050c73166f0f99917537ee1\"\n",
    "number_reviews_least_reviewed_book_hash = \"e3b0c44298fc1c149afbf4c8996fb92427ae41e4649b934ca495991b7852b855\"\n",
    "id_least_reviewed_book_hash = \"878f32f76b159494f5a39f9321616c6068cdb82e88df89bcc739bbc1ea78e1f9\"\n",
    "title_least_reviewed_book_hash = \"a2bb6daef758750623cdfb30fbb84dbce7a26c624a91ecd3cd414cd3b6eaf8b7\"\n",
    "\n",
    "assert number_reviews_most_reviewed_book_hash == hashlib.sha256(bytes(number_reviews_most_reviewed_book)).hexdigest()\n",
    "assert id_most_reviewed_book_hash == hashlib.sha256(bytes(id_most_reviewed_book)).hexdigest()\n",
    "assert title_most_reviewed_book_hash == hashlib.sha256(bytes(title_most_reviewed_book, \"utf-8\")).hexdigest()\n",
    "assert number_reviews_least_reviewed_book_hash == hashlib.sha256(bytes(number_reviews_least_reviewed_book)).hexdigest()\n",
    "assert id_least_reviewed_book_hash == hashlib.sha256(bytes(id_least_reviewed_book)).hexdigest(), \"If there are multiple \"\\\n",
    "\"books with the minimum amount of reviews, return the id of the first occurrence.\"\n",
    "assert title_least_reviewed_book_hash == hashlib.sha256(bytes(title_least_reviewed_book, \"utf-8\")).hexdigest(), \"If there \"\\\n",
    "\"are multiple books with the minimum amount of reviews, return the title of the first occurrence.\""
   ]
  },
  {
   "cell_type": "markdown",
   "metadata": {
    "deletable": false,
    "editable": false,
    "nbgrader": {
     "grade": false,
     "grade_id": "cell-b480e8096f84d5ac",
     "locked": true,
     "schema_version": 3,
     "solution": false,
     "task": false
    }
   },
   "source": [
    "----"
   ]
  },
  {
   "cell_type": "markdown",
   "metadata": {
    "deletable": false,
    "editable": false,
    "nbgrader": {
     "grade": false,
     "grade_id": "cell-69fa6fada55b8f5f",
     "locked": true,
     "schema_version": 3,
     "solution": false,
     "task": false
    }
   },
   "source": [
    "# Exercise 2\n",
    "\n",
    "However, remember that `idxmax` and `idxmin` only return the index of the first of occurrence.\n",
    "\n",
    "Find how many books share the maximum and minimum number of reviews."
   ]
  },
  {
   "cell_type": "code",
   "execution_count": 5,
   "metadata": {
    "deletable": false,
    "nbgrader": {
     "grade": false,
     "grade_id": "cell-d473d33e76fd2e8b",
     "locked": false,
     "schema_version": 3,
     "solution": true,
     "task": false
    }
   },
   "outputs": [],
   "source": [
    "number_most_reviewed_books = data.CountsOfReview.loc[data.CountsOfReview == data.CountsOfReview.max()].count()\n",
    "number_least_reviewed_books = data.CountsOfReview.loc[data.CountsOfReview == data.CountsOfReview.min()].count()"
   ]
  },
  {
   "cell_type": "markdown",
   "metadata": {
    "deletable": false,
    "editable": false,
    "nbgrader": {
     "grade": false,
     "grade_id": "cell-d93a22d027865efb",
     "locked": true,
     "schema_version": 3,
     "solution": false,
     "task": false
    }
   },
   "source": [
    "##### Asserts"
   ]
  },
  {
   "cell_type": "code",
   "execution_count": 6,
   "metadata": {
    "deletable": false,
    "editable": false,
    "nbgrader": {
     "grade": true,
     "grade_id": "cell-e7b9e4a4d269fd22",
     "locked": true,
     "points": 2,
     "schema_version": 3,
     "solution": false,
     "task": false
    }
   },
   "outputs": [],
   "source": [
    "number_most_reviewed_books_hash = \"6e340b9cffb37a989ca544e6bb780a2c78901d3fb33738768511a30617afa01d\"\n",
    "number_least_reviewed_books_hash = \"de35468b490dd59675d88ef1061fb99259c0f0736f20b51ff77e95386930eecf\"\n",
    "\n",
    "assert number_most_reviewed_books_hash == hashlib.sha256(bytes(number_most_reviewed_books)).hexdigest()\n",
    "assert number_least_reviewed_books_hash == hashlib.sha256(bytes(number_least_reviewed_books)).hexdigest()"
   ]
  },
  {
   "cell_type": "markdown",
   "metadata": {
    "deletable": false,
    "editable": false,
    "nbgrader": {
     "grade": false,
     "grade_id": "cell-6fc4469243a1429e",
     "locked": true,
     "schema_version": 3,
     "solution": false,
     "task": false
    }
   },
   "source": [
    "----"
   ]
  },
  {
   "cell_type": "markdown",
   "metadata": {
    "deletable": false,
    "editable": false,
    "nbgrader": {
     "grade": false,
     "grade_id": "cell-d3106f3aeb5130de",
     "locked": true,
     "schema_version": 3,
     "solution": false,
     "task": false
    }
   },
   "source": [
    "# Exercise 3\n",
    "\n",
    "In the previous exercises, we had a look at the number of reviews. A review is when a user posts its opinion of a book. Alternatively, users are also able to rate the book. Ratings go from 1 (worst) to 5 (best). In the end, each book's final rating will be the average of all individual ratings.\n",
    "\n",
    "In this exercise, we are going to analyse each book's final rating. Find the following information:\n",
    "- What is the minimum and maximum rating?\n",
    "- What is the most common rating?\n",
    "- What is the average rating?\n",
    "- What is the median rating?\n",
    "- What is the standard deviation of the ratings?\n",
    "- What is the variance of the ratings?"
   ]
  },
  {
   "cell_type": "code",
   "execution_count": 7,
   "metadata": {
    "deletable": false,
    "nbgrader": {
     "grade": false,
     "grade_id": "cell-e3187b2ff7e4ceff",
     "locked": false,
     "schema_version": 3,
     "solution": true,
     "task": false
    }
   },
   "outputs": [],
   "source": [
    "maximum = data.Rating.max()\n",
    "minimum = data.Rating.min()\n",
    "most_common = data.Rating.mode()  # Hint: you should return a number, not a pandas Series :)\n",
    "average = data.Rating.mean()\n",
    "median = data.Rating.median()\n",
    "standard_deviation = data.Rating.std()\n",
    "variance = data.Rating.var()"
   ]
  },
  {
   "cell_type": "markdown",
   "metadata": {
    "deletable": false,
    "editable": false,
    "nbgrader": {
     "grade": false,
     "grade_id": "cell-099bf9f7134af6ba",
     "locked": true,
     "schema_version": 3,
     "solution": false,
     "task": false
    }
   },
   "source": [
    "##### Asserts"
   ]
  },
  {
   "cell_type": "code",
   "execution_count": 8,
   "metadata": {
    "deletable": false,
    "editable": false,
    "nbgrader": {
     "grade": true,
     "grade_id": "cell-713e14181134b0c7",
     "locked": true,
     "points": 2,
     "schema_version": 3,
     "solution": false,
     "task": false
    }
   },
   "outputs": [],
   "source": [
    "maximum_hash = \"8855508aade16ec573d21e6a485dfd0a7624085c1a14b5ecdd6485de0c6839a4\"\n",
    "minimum_hash = \"6e340b9cffb37a989ca544e6bb780a2c78901d3fb33738768511a30617afa01d\"\n",
    "\n",
    "assert maximum_hash == hashlib.sha256(bytes(int(maximum))).hexdigest()\n",
    "assert minimum_hash == hashlib.sha256(bytes(int(minimum))).hexdigest()\n",
    "assert math.isclose(most_common, 4, abs_tol = 0.01)\n",
    "assert math.isclose(average, 3.89, abs_tol = 0.01)\n",
    "assert median == 3.93\n",
    "assert math.isclose(standard_deviation, 0.432, abs_tol = 0.01)\n",
    "assert math.isclose(variance, 0.186, abs_tol = 0.01)"
   ]
  },
  {
   "cell_type": "markdown",
   "metadata": {
    "deletable": false,
    "editable": false,
    "nbgrader": {
     "grade": false,
     "grade_id": "cell-40f9207194263175",
     "locked": true,
     "schema_version": 3,
     "solution": false,
     "task": false
    }
   },
   "source": [
    "----"
   ]
  },
  {
   "cell_type": "markdown",
   "metadata": {
    "deletable": false,
    "editable": false,
    "nbgrader": {
     "grade": false,
     "grade_id": "cell-a2f1389c0b7e6272",
     "locked": true,
     "schema_version": 3,
     "solution": false,
     "task": false
    }
   },
   "source": [
    "# Exercise 4\n",
    "\n",
    "In the previous exercise, you calculated some basic statistics on each book's final rating. Have a look at the numbers you got again.\n",
    "\n",
    "- Are the mean, median, and mode closer to the maximum or the minimum?\n",
    "- Is the median smaller or larger than the mean? Is the mode smaller or larger than the mean?\n",
    "- Given your answers to the questions above, do you expect the distribution of ratings to be skewed? If so, do you expect it to be positively or negatively skewed?\n",
    "\n",
    "Plot a histogram for the distribution of ratings with 20 bins. Can you visually confirm if the distribution is skewed?\n",
    "\n",
    "Compute the skewness measure. Is it positive or negative?"
   ]
  },
  {
   "cell_type": "code",
   "execution_count": 9,
   "metadata": {
    "deletable": false,
    "nbgrader": {
     "grade": false,
     "grade_id": "cell-5ac1f6f5c10124b2",
     "locked": false,
     "schema_version": 3,
     "solution": true,
     "task": false
    }
   },
   "outputs": [
    {
     "name": "stdout",
     "output_type": "stream",
     "text": [
      "The skewness measure is -1.030.\n"
     ]
    },
    {
     "data": {
      "image/png": "[encoded data removed]",
      "text/plain": [
       "<Figure size 432x288 with 1 Axes>"
      ]
     },
     "metadata": {
      "needs_background": "light"
     },
     "output_type": "display_data"
    }
   ],
   "source": [
    "# plot a histogram\n",
    "data.Rating.hist()\n",
    "\n",
    "# compute the skewness measure\n",
    "skew = data.Rating.skew()\n",
    "\n",
    "print(\"The skewness measure is {:.3f}.\".format(skew))"
   ]
  },
  {
   "cell_type": "markdown",
   "metadata": {
    "deletable": false,
    "editable": false,
    "nbgrader": {
     "grade": false,
     "grade_id": "cell-323b374c9c7bd48c",
     "locked": true,
     "schema_version": 3,
     "solution": false,
     "task": false
    }
   },
   "source": [
    "##### Asserts"
   ]
  },
  {
   "cell_type": "code",
   "execution_count": 10,
   "metadata": {
    "deletable": false,
    "editable": false,
    "nbgrader": {
     "grade": true,
     "grade_id": "cell-98819e5018f38170",
     "locked": true,
     "points": 2,
     "schema_version": 3,
     "solution": false,
     "task": false
    }
   },
   "outputs": [],
   "source": [
    "assert math.isclose(skew, -1.030, abs_tol=0.01)"
   ]
  },
  {
   "cell_type": "markdown",
   "metadata": {
    "deletable": false,
    "editable": false,
    "nbgrader": {
     "grade": false,
     "grade_id": "cell-4d56a29328dcbf74",
     "locked": true,
     "schema_version": 3,
     "solution": false,
     "task": false
    }
   },
   "source": [
    "----"
   ]
  },
  {
   "cell_type": "markdown",
   "metadata": {
    "deletable": false,
    "editable": false,
    "nbgrader": {
     "grade": false,
     "grade_id": "cell-3899a0db5f6bf9cb",
     "locked": true,
     "schema_version": 3,
     "solution": false,
     "task": false
    }
   },
   "source": [
    "# Exercise 5\n",
    "\n",
    "Many books happen to have \"extreme\" ratings as a consequence of not being very popular. When a book is rated by many users, its final rating will tend to be more stable around the mean.\n",
    "\n",
    "Let's have a look at the distribution of ratings when we only consider books with more than 100 ratings.\n",
    "\n",
    "When comparing this new distribution with the one from the previous exercise:\n",
    "- Which distribution do you expect to have more kurtosis (i.e., a longer \"tail\")? Why?\n",
    "- Which distribution do you expect to be more skewed? Why?\n",
    "\n",
    "Plot a histogram with 20 bins for each of the distributions and select the correct answer."
   ]
  },
  {
   "cell_type": "code",
   "execution_count": 11,
   "metadata": {
    "deletable": false,
    "nbgrader": {
     "grade": false,
     "grade_id": "cell-8558e6ded246bfd4",
     "locked": false,
     "schema_version": 3,
     "solution": true,
     "task": false
    }
   },
   "outputs": [
    {
     "data": {
      "image/png": "[encoded data removed]",
      "text/plain": [
       "<Figure size 2400x800 with 2 Axes>"
      ]
     },
     "metadata": {
      "needs_background": "light"
     },
     "output_type": "display_data"
    }
   ],
   "source": [
    "## create a new dataset comprised of books with more than 100 ratings\n",
    "data_more_than_100_ratings = data[data[\"CountsOfRating\"] > 100]\n",
    "\n",
    "## plot two histograms, side-by-side\n",
    "plt.figure(1, figsize=(12,4), dpi=200)\n",
    "plt.subplot(121)\n",
    "plt.xlim(1, 5)\n",
    "## plot first histogram (using the data variable)\n",
    "plt.hist(data.Rating, bins=20)\n",
    "\n",
    "plt.subplot(122)\n",
    "plt.xlim(1, 5)\n",
    "## plot second histogram (using the data_more_than_100_ratings variable)\n",
    "plt.hist(data_more_than_100_ratings.Rating, bins=20)\n",
    "\n",
    "plt.show()\n",
    "\n",
    "# which one of the following statements is correct?\n",
    "# A) Distribution 1 is more skewed and has higher kurtosis\n",
    "# B) Distribution 1 is more skewed; Distribution 2 has higher kurtosis\n",
    "# C) Distribution 2 is more skewed; Distribution 1 has higher kurtosis\n",
    "# D) Distribution 2 is more skewed and has higher kurtosis\n",
    "\n",
    "# answer \"A\", \"B\", \"C\" or \"D\"\n",
    "answer = 'A'"
   ]
  },
  {
   "cell_type": "markdown",
   "metadata": {
    "deletable": false,
    "editable": false,
    "nbgrader": {
     "grade": false,
     "grade_id": "cell-12eed63cfcdcfa5d",
     "locked": true,
     "schema_version": 3,
     "solution": false,
     "task": false
    }
   },
   "source": [
    "##### Asserts"
   ]
  },
  {
   "cell_type": "code",
   "execution_count": 12,
   "metadata": {
    "deletable": false,
    "editable": false,
    "nbgrader": {
     "grade": true,
     "grade_id": "cell-b527580d9ea9fd16",
     "locked": true,
     "points": 2,
     "schema_version": 3,
     "solution": false,
     "task": false
    }
   },
   "outputs": [],
   "source": [
    "answer_hash = \"559aead08264d5795d3909718cdd05abd49572e84fe55590eef31a88a08fdffd\"\n",
    "\n",
    "assert answer_hash == hashlib.sha256(bytes(answer, \"utf-8\")).hexdigest()"
   ]
  },
  {
   "cell_type": "markdown",
   "metadata": {
    "deletable": false,
    "editable": false,
    "nbgrader": {
     "grade": false,
     "grade_id": "cell-c8afd5e0d6a6024b",
     "locked": true,
     "schema_version": 3,
     "solution": false,
     "task": false
    }
   },
   "source": [
    "----"
   ]
  },
  {
   "cell_type": "markdown",
   "metadata": {
    "deletable": false,
    "editable": false,
    "nbgrader": {
     "grade": false,
     "grade_id": "cell-76c080dda3c11bb3",
     "locked": true,
     "schema_version": 3,
     "solution": false,
     "task": false
    }
   },
   "source": [
    "# Exercise 6\n",
    "\n",
    "Verify your previous answer by computing the skewness and kurtosis for each distribution. "
   ]
  },
  {
   "cell_type": "code",
   "execution_count": 13,
   "metadata": {
    "deletable": false,
    "nbgrader": {
     "grade": false,
     "grade_id": "cell-815951eebf82dbe9",
     "locked": false,
     "schema_version": 3,
     "solution": true,
     "task": false
    }
   },
   "outputs": [
    {
     "name": "stdout",
     "output_type": "stream",
     "text": [
      "The skewness measure for the original distribution is -1.030.\n",
      "The skewness measure for the new distribution is -0.456.\n",
      "The kurtosis measure for the original distribution is 5.110.\n",
      "The kurtosis measure for the new distribution is 0.762.\n"
     ]
    }
   ],
   "source": [
    "skew = data.Rating.skew()\n",
    "skew_more_than_100_ratings = data_more_than_100_ratings.Rating.skew()\n",
    "kurt = data.Rating.kurt()\n",
    "kurt_more_than_100_ratings = data_more_than_100_ratings.Rating.kurt()\n",
    "\n",
    "print(\"The skewness measure for the original distribution is {:.3f}.\".format(skew))\n",
    "print(\"The skewness measure for the new distribution is {:.3f}.\".format(skew_more_than_100_ratings))\n",
    "print(\"The kurtosis measure for the original distribution is {:.3f}.\".format(kurt))\n",
    "print(\"The kurtosis measure for the new distribution is {:.3f}.\".format(kurt_more_than_100_ratings))"
   ]
  },
  {
   "cell_type": "markdown",
   "metadata": {
    "deletable": false,
    "editable": false,
    "nbgrader": {
     "grade": false,
     "grade_id": "cell-cdff39fec36fbba7",
     "locked": true,
     "schema_version": 3,
     "solution": false,
     "task": false
    }
   },
   "source": [
    "##### Asserts"
   ]
  },
  {
   "cell_type": "code",
   "execution_count": 14,
   "metadata": {
    "deletable": false,
    "editable": false,
    "nbgrader": {
     "grade": true,
     "grade_id": "cell-df60a94ec8fac03f",
     "locked": true,
     "points": 2,
     "schema_version": 3,
     "solution": false,
     "task": false
    }
   },
   "outputs": [],
   "source": [
    "assert math.isclose(skew, -1.030, abs_tol=0.01)\n",
    "assert math.isclose(skew_more_than_100_ratings, -0.456, abs_tol=0.01)\n",
    "assert math.isclose(kurt, 5.110, abs_tol=0.01)\n",
    "assert math.isclose(kurt_more_than_100_ratings, 0.762, abs_tol=0.01)"
   ]
  },
  {
   "cell_type": "markdown",
   "metadata": {
    "deletable": false,
    "editable": false,
    "nbgrader": {
     "grade": false,
     "grade_id": "cell-2a87bb8b8dd25fe9",
     "locked": true,
     "schema_version": 3,
     "solution": false,
     "task": false
    }
   },
   "source": [
    "----"
   ]
  },
  {
   "cell_type": "markdown",
   "metadata": {
    "deletable": false,
    "editable": false,
    "nbgrader": {
     "grade": false,
     "grade_id": "cell-49399d450f6464e2",
     "locked": true,
     "schema_version": 3,
     "solution": false,
     "task": false
    }
   },
   "source": [
    "# Exercise 7\n",
    "\n",
    "Find the value of the first, second, and third quartiles of the distribution of ratings. Did you notice the value of the second quartile is equal to the median calculated in Exercise 3?\n",
    "\n",
    "*Note: Always use the `data` variable going forward. The `data_more_than_100_ratings` variable will no longer be used.*"
   ]
  },
  {
   "cell_type": "code",
   "execution_count": 15,
   "metadata": {
    "deletable": false,
    "nbgrader": {
     "grade": false,
     "grade_id": "cell-b841c15779192b0b",
     "locked": false,
     "schema_version": 3,
     "solution": true,
     "task": false
    }
   },
   "outputs": [],
   "source": [
    "# output quartiles as pandas Series\n",
    "rating_quartiles = data.Rating.quantile(q=[.25, .5, .75])"
   ]
  },
  {
   "cell_type": "markdown",
   "metadata": {
    "deletable": false,
    "editable": false,
    "nbgrader": {
     "grade": false,
     "grade_id": "cell-4c058cb0cfdf7d72",
     "locked": true,
     "schema_version": 3,
     "solution": false,
     "task": false
    }
   },
   "source": [
    "##### Asserts"
   ]
  },
  {
   "cell_type": "code",
   "execution_count": 16,
   "metadata": {
    "deletable": false,
    "editable": false,
    "nbgrader": {
     "grade": true,
     "grade_id": "cell-86597d99495f352a",
     "locked": true,
     "points": 2,
     "schema_version": 3,
     "solution": false,
     "task": false
    }
   },
   "outputs": [],
   "source": [
    "assert isinstance(rating_quartiles, pd.Series)\n",
    "assert math.isclose(rating_quartiles.sum(), 11.74, abs_tol=0.01)"
   ]
  },
  {
   "cell_type": "markdown",
   "metadata": {
    "deletable": false,
    "editable": false,
    "nbgrader": {
     "grade": false,
     "grade_id": "cell-aa6cf1510b831310",
     "locked": true,
     "schema_version": 3,
     "solution": false,
     "task": false
    }
   },
   "source": [
    "---"
   ]
  },
  {
   "cell_type": "markdown",
   "metadata": {
    "deletable": false,
    "editable": false,
    "nbgrader": {
     "grade": false,
     "grade_id": "cell-61ecdc9023972bb4",
     "locked": true,
     "schema_version": 3,
     "solution": false,
     "task": false
    }
   },
   "source": [
    "# Exercise 8\n",
    "\n",
    "In this exercise, obtain:\n",
    "\n",
    "- A list with all the unique years during which books were published;\n",
    "- A Series with the number of unique values in each column of the `data` DataFrame."
   ]
  },
  {
   "cell_type": "code",
   "execution_count": 17,
   "metadata": {
    "deletable": false,
    "nbgrader": {
     "grade": false,
     "grade_id": "cell-ce6044162e3718dc",
     "locked": false,
     "schema_version": 3,
     "solution": true,
     "task": false
    }
   },
   "outputs": [],
   "source": [
    "unique_years_published = list(data.PublishYear.unique())\n",
    "unique_values_per_col = data.nunique()"
   ]
  },
  {
   "cell_type": "markdown",
   "metadata": {
    "deletable": false,
    "editable": false,
    "nbgrader": {
     "grade": false,
     "grade_id": "cell-cc7a32a689ffc1b6",
     "locked": true,
     "schema_version": 3,
     "solution": false,
     "task": false
    }
   },
   "source": [
    "##### Asserts"
   ]
  },
  {
   "cell_type": "code",
   "execution_count": 18,
   "metadata": {
    "deletable": false,
    "editable": false,
    "nbgrader": {
     "grade": true,
     "grade_id": "cell-9467ff6718109778",
     "locked": true,
     "points": 2,
     "schema_version": 3,
     "solution": false,
     "task": false
    }
   },
   "outputs": [],
   "source": [
    "unique_years_published_sum_hash = \"0dcf580f5f74465642419ae9f8c56ea2cb4116d8d2c37f4ee4e3dcd45c50f1f0\"\n",
    "unique_values_per_col_sum_hash = \"c0d65c59da4aefb4f96021a31bd41ad083eb617c15824609a7dc6e0038cf3a53\"\n",
    "\n",
    "assert isinstance(unique_years_published, list), \"Make sure the output is a list. Hint: you might have to convert a numpy \"\\\n",
    "\"array or a set to a list.\"\n",
    "assert unique_years_published_sum_hash == hashlib.sha256(bytes(sum(unique_years_published))).hexdigest(), \"Check that you \" \\\n",
    "\"have only unique years.\"\n",
    "assert isinstance(unique_values_per_col, pd.Series)\n",
    "assert unique_values_per_col_sum_hash == hashlib.sha256(bytes(unique_values_per_col.sum())).hexdigest()"
   ]
  },
  {
   "cell_type": "markdown",
   "metadata": {
    "deletable": false,
    "editable": false,
    "nbgrader": {
     "grade": false,
     "grade_id": "cell-cf1a0cc11decd455",
     "locked": true,
     "schema_version": 3,
     "solution": false,
     "task": false
    }
   },
   "source": [
    "----"
   ]
  },
  {
   "cell_type": "markdown",
   "metadata": {
    "deletable": false,
    "editable": false,
    "nbgrader": {
     "grade": false,
     "grade_id": "cell-1673ae713f0aedd7",
     "locked": true,
     "schema_version": 3,
     "solution": false,
     "task": false
    }
   },
   "source": [
    "# Exercise 9\n",
    "\n",
    "In this last exercise, we will focus on the number of ratings (`CountsOfRating` column). As you know, while most books are relatively unknown (e.g., in this sample 45% of the books have less than 100 ratings), some books do become massively popular with millions of ratings.\n",
    "\n",
    "Consequently, when you plot this distribution in a histogram, it's very easy to detect the presence of massive outliers."
   ]
  },
  {
   "cell_type": "code",
   "execution_count": 19,
   "metadata": {
    "deletable": false,
    "editable": false,
    "nbgrader": {
     "grade": false,
     "grade_id": "cell-7a76a512219853db",
     "locked": true,
     "schema_version": 3,
     "solution": false,
     "task": false
    }
   },
   "outputs": [
    {
     "data": {
      "image/png": "[encoded data removed]",
      "text/plain": [
       "<Figure size 432x288 with 1 Axes>"
      ]
     },
     "metadata": {
      "needs_background": "light"
     },
     "output_type": "display_data"
    }
   ],
   "source": [
    "data[\"CountsOfRating\"].plot.hist()\n",
    "plt.xlabel('Number of ratings (in millions)')\n",
    "plt.title('Distribution of the number of ratings');"
   ]
  },
  {
   "cell_type": "markdown",
   "metadata": {
    "deletable": false,
    "editable": false,
    "nbgrader": {
     "grade": false,
     "grade_id": "cell-a8f9bb492ab3b3c8",
     "locked": true,
     "schema_version": 3,
     "solution": false,
     "task": false
    }
   },
   "source": [
    "How to deal with these outliers?\n",
    "\n",
    "In the Learning Notebook, you learned a few ways to deal with the outliers, in case they are negatively affecting your Machine Learning models. In this exercise, let's explore the **log transformation** and see if it helps us in this case.\n",
    "\n",
    "Do the following:\n",
    "- Obtain the mean and the median of the number of ratings; which one is greater?\n",
    "- Create a new column named `Log_CountsOfRating` with the log of the number of ratings;\n",
    "- Obtain the mean and the median of the log of the number of ratings; are they very different from each other?\n",
    "- Plot `Log_CountsOfRating` using a histogram with 30 bins. Compare the results.\n",
    "\n",
    "What do you think? Were the outliers dealt with?"
   ]
  },
  {
   "cell_type": "code",
   "execution_count": 20,
   "metadata": {
    "deletable": false,
    "nbgrader": {
     "grade": false,
     "grade_id": "cell-1d1e1277ce389d16",
     "locked": false,
     "schema_version": 3,
     "solution": true,
     "task": false
    }
   },
   "outputs": [
    {
     "name": "stdout",
     "output_type": "stream",
     "text": [
      "The number of ratings has mean 16887 and median 151\n",
      "The log of the number of ratings has mean 5.2 and median 5.0\n"
     ]
    },
    {
     "data": {
      "image/png": "[encoded data removed]",
      "text/plain": [
       "<Figure size 432x288 with 1 Axes>"
      ]
     },
     "metadata": {
      "needs_background": "light"
     },
     "output_type": "display_data"
    }
   ],
   "source": [
    "number_of_ratings_mean = data.CountsOfRating.mean()\n",
    "number_of_ratings_median = data.CountsOfRating.median()\n",
    "\n",
    "# create new column named Log_CountsOfRating with the log of the number of ratings\n",
    "data['Log_CountsOfRating'] = np.log(data.CountsOfRating)\n",
    "\n",
    "log_number_of_ratings_mean = data.Log_CountsOfRating.mean()\n",
    "log_number_of_ratings_median = data.Log_CountsOfRating.median()\n",
    "\n",
    "## Plot an histogram (with 30 bins) of the log of the number of ratings\n",
    "data.Log_CountsOfRating.hist(bins=30)\n",
    "\n",
    "print('The number of ratings has mean %d and median %d' % (number_of_ratings_mean, number_of_ratings_median))\n",
    "print('The log of the number of ratings has mean %0.1f and median %0.1f' % (log_number_of_ratings_mean, log_number_of_ratings_median))"
   ]
  },
  {
   "cell_type": "markdown",
   "metadata": {
    "deletable": false,
    "editable": false,
    "nbgrader": {
     "grade": false,
     "grade_id": "cell-a350820f02a20505",
     "locked": true,
     "schema_version": 3,
     "solution": false,
     "task": false
    }
   },
   "source": [
    "##### Asserts"
   ]
  },
  {
   "cell_type": "code",
   "execution_count": 21,
   "metadata": {
    "deletable": false,
    "editable": false,
    "nbgrader": {
     "grade": true,
     "grade_id": "cell-934ebc9dabbf27af",
     "locked": true,
     "points": 3,
     "schema_version": 3,
     "solution": false,
     "task": false
    }
   },
   "outputs": [],
   "source": [
    "assert math.isclose(number_of_ratings_mean, 16887.4, abs_tol=0.1)\n",
    "assert math.isclose(number_of_ratings_median, 151.0, abs_tol=0.1)\n",
    "assert math.isclose(log_number_of_ratings_mean, 5.21, abs_tol=0.01)\n",
    "assert math.isclose(log_number_of_ratings_median, 5.02, abs_tol=0.01)\n",
    "assert math.isclose(data['Log_CountsOfRating'].sum(), 276994.25, abs_tol=0.1)"
   ]
  },
  {
   "cell_type": "markdown",
   "metadata": {
    "deletable": false,
    "editable": false,
    "nbgrader": {
     "grade": false,
     "grade_id": "cell-04470644f32e5d8c",
     "locked": true,
     "schema_version": 3,
     "solution": false,
     "task": false
    }
   },
   "source": [
    "----"
   ]
  },
  {
   "cell_type": "markdown",
   "metadata": {},
   "source": [
    "Congratulations! You have finished. Good luck with the upcoming SLUs!\n",
    "\n",
    "![](media/complete.gif)"
   ]
  }
 ],
 "metadata": {
  "kernelspec": {
   "display_name": "Python 3",
   "language": "python",
   "name": "python3"
  },
  "language_info": {
   "codemirror_mode": {
    "name": "ipython",
    "version": 3
   },
   "file_extension": ".py",
   "mimetype": "text/x-python",
   "name": "python",
   "nbconvert_exporter": "python",
   "pygments_lexer": "ipython3",
   "version": "3.6.9"
  }
 },
 "nbformat": 4,
 "nbformat_minor": 4
}
