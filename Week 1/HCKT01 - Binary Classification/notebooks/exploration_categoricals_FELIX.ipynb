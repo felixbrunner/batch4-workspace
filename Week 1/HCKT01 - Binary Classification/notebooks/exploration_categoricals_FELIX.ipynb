{
 "cells": [
  {
   "cell_type": "markdown",
   "metadata": {},
   "source": [
    "# Imports"
   ]
  },
  {
   "cell_type": "code",
   "execution_count": 1,
   "metadata": {},
   "outputs": [],
   "source": [
    "import pandas as pd\n",
    "import numpy as np\n",
    "import matplotlib.pyplot as plt\n",
    "import sklearn"
   ]
  },
  {
   "cell_type": "markdown",
   "metadata": {},
   "source": [
    "# Load data"
   ]
  },
  {
   "cell_type": "code",
   "execution_count": 70,
   "metadata": {},
   "outputs": [],
   "source": [
    "df_train = pd.read_csv('../data/train.csv')\n",
    "df_test = pd.read_csv('../data/test.csv')"
   ]
  },
  {
   "cell_type": "code",
   "execution_count": 67,
   "metadata": {
    "scrolled": true
   },
   "outputs": [
    {
     "data": {
      "text/plain": [
       "ID                           0\n",
       "DATE_DEPARTURE_UTC           0\n",
       "DATE_ARRIVAL_UTC             0\n",
       "DATE_DEPARTURE_LCL           0\n",
       "DATE_ARRIVAL_LCL             0\n",
       "ORIGIN                       0\n",
       "ORIGIN_AIRPORT_ID            0\n",
       "DEST                         0\n",
       "DEST_AIRPORT_ID              0\n",
       "TAIL_NUM                     0\n",
       "OP_CARRIER                   0\n",
       "OP_CARRIER_AIRLINE_ID        0\n",
       "OP_CARRIER_FL_NUM            0\n",
       "DISTANCE                  7550\n",
       "CANCELLED                    0\n",
       "DEP_DEL15                62923\n",
       "dtype: int64"
      ]
     },
     "execution_count": 67,
     "metadata": {},
     "output_type": "execute_result"
    }
   ],
   "source": [
    "df_test.isna().sum()"
   ]
  },
  {
   "cell_type": "code",
   "execution_count": 68,
   "metadata": {},
   "outputs": [],
   "source": [
    "def fill_missing(df, df_train):\n",
    "    df['Origin_Dest_Carrier'] = df['ORIGIN'].str.cat(df['DEST'], sep='_').str.cat(df['OP_CARRIER'], sep='_')\n",
    "    df['DEP_DEL15'] = df['DEP_DEL15'].fillna(df_train.groupby('Origin_Dest_Carrier')['DEP_DEL15'].transform('mean'))\n",
    "\n",
    "    df['DISTANCE'] = df['DISTANCE'].fillna(df_train['DISTANCE'].mean())\n",
    "    df['DEP_DEL15'] = df['DEP_DEL15'].fillna(0)\n",
    "    \n",
    "    return df"
   ]
  },
  {
   "cell_type": "code",
   "execution_count": 69,
   "metadata": {},
   "outputs": [],
   "source": [
    "df_train = fill_missing(df_train, df_train)\n",
    "df_test = fill_missing(df_test, df_train)"
   ]
  },
  {
   "cell_type": "markdown",
   "metadata": {},
   "source": [
    "# Exploration"
   ]
  },
  {
   "cell_type": "code",
   "execution_count": 8,
   "metadata": {},
   "outputs": [
    {
     "data": {
      "text/html": [
       "<div>\n",
       "<style scoped>\n",
       "    .dataframe tbody tr th:only-of-type {\n",
       "        vertical-align: middle;\n",
       "    }\n",
       "\n",
       "    .dataframe tbody tr th {\n",
       "        vertical-align: top;\n",
       "    }\n",
       "\n",
       "    .dataframe thead th {\n",
       "        text-align: right;\n",
       "    }\n",
       "</style>\n",
       "<table border=\"1\" class=\"dataframe\">\n",
       "  <thead>\n",
       "    <tr style=\"text-align: right;\">\n",
       "      <th></th>\n",
       "      <th>ID</th>\n",
       "      <th>DATE_DEPARTURE_UTC</th>\n",
       "      <th>DATE_ARRIVAL_UTC</th>\n",
       "      <th>DATE_DEPARTURE_LCL</th>\n",
       "      <th>DATE_ARRIVAL_LCL</th>\n",
       "      <th>ORIGIN</th>\n",
       "      <th>ORIGIN_AIRPORT_ID</th>\n",
       "      <th>DEST</th>\n",
       "      <th>DEST_AIRPORT_ID</th>\n",
       "      <th>TAIL_NUM</th>\n",
       "      <th>OP_CARRIER</th>\n",
       "      <th>OP_CARRIER_AIRLINE_ID</th>\n",
       "      <th>OP_CARRIER_FL_NUM</th>\n",
       "      <th>DISTANCE</th>\n",
       "      <th>CANCELLED</th>\n",
       "      <th>DEP_DEL15</th>\n",
       "      <th>ARR_DEL15</th>\n",
       "    </tr>\n",
       "  </thead>\n",
       "  <tbody>\n",
       "    <tr>\n",
       "      <th>0</th>\n",
       "      <td>345355</td>\n",
       "      <td>2020-01-18 22:10:00</td>\n",
       "      <td>2020-01-18 23:59:00</td>\n",
       "      <td>2020-01-18 15:10:00</td>\n",
       "      <td>2020-01-18 15:59:00</td>\n",
       "      <td>SLC</td>\n",
       "      <td>14869</td>\n",
       "      <td>SNA</td>\n",
       "      <td>14908</td>\n",
       "      <td>N128DU</td>\n",
       "      <td>DL</td>\n",
       "      <td>19790</td>\n",
       "      <td>1056</td>\n",
       "      <td>588.0</td>\n",
       "      <td>0</td>\n",
       "      <td>0.0</td>\n",
       "      <td>0</td>\n",
       "    </tr>\n",
       "    <tr>\n",
       "      <th>1</th>\n",
       "      <td>323447</td>\n",
       "      <td>2020-01-17 21:47:00</td>\n",
       "      <td>2020-01-18 04:10:00</td>\n",
       "      <td>2020-01-17 16:47:00</td>\n",
       "      <td>2020-01-17 20:10:00</td>\n",
       "      <td>BOS</td>\n",
       "      <td>10721</td>\n",
       "      <td>SEA</td>\n",
       "      <td>14747</td>\n",
       "      <td>N486AS</td>\n",
       "      <td>AS</td>\n",
       "      <td>19930</td>\n",
       "      <td>15</td>\n",
       "      <td>2496.0</td>\n",
       "      <td>0</td>\n",
       "      <td>NaN</td>\n",
       "      <td>0</td>\n",
       "    </tr>\n",
       "    <tr>\n",
       "      <th>2</th>\n",
       "      <td>242237</td>\n",
       "      <td>2020-01-13 13:26:00</td>\n",
       "      <td>2020-01-13 14:26:00</td>\n",
       "      <td>2020-01-13 07:26:00</td>\n",
       "      <td>2020-01-13 08:26:00</td>\n",
       "      <td>DAL</td>\n",
       "      <td>11259</td>\n",
       "      <td>HOU</td>\n",
       "      <td>12191</td>\n",
       "      <td>N901WN</td>\n",
       "      <td>WN</td>\n",
       "      <td>19393</td>\n",
       "      <td>3</td>\n",
       "      <td>239.0</td>\n",
       "      <td>0</td>\n",
       "      <td>NaN</td>\n",
       "      <td>0</td>\n",
       "    </tr>\n",
       "    <tr>\n",
       "      <th>3</th>\n",
       "      <td>271408</td>\n",
       "      <td>2020-01-15 02:45:00</td>\n",
       "      <td>2020-01-15 03:37:00</td>\n",
       "      <td>2020-01-14 20:45:00</td>\n",
       "      <td>2020-01-14 21:37:00</td>\n",
       "      <td>STL</td>\n",
       "      <td>15016</td>\n",
       "      <td>DSM</td>\n",
       "      <td>11423</td>\n",
       "      <td>N778SW</td>\n",
       "      <td>WN</td>\n",
       "      <td>19393</td>\n",
       "      <td>1588</td>\n",
       "      <td>259.0</td>\n",
       "      <td>0</td>\n",
       "      <td>0.0</td>\n",
       "      <td>0</td>\n",
       "    </tr>\n",
       "    <tr>\n",
       "      <th>4</th>\n",
       "      <td>282447</td>\n",
       "      <td>2020-01-15 23:22:00</td>\n",
       "      <td>2020-01-16 00:49:00</td>\n",
       "      <td>2020-01-15 18:22:00</td>\n",
       "      <td>2020-01-15 19:49:00</td>\n",
       "      <td>CLT</td>\n",
       "      <td>11057</td>\n",
       "      <td>CHS</td>\n",
       "      <td>10994</td>\n",
       "      <td>N579NN</td>\n",
       "      <td>OH</td>\n",
       "      <td>20397</td>\n",
       "      <td>5207</td>\n",
       "      <td>168.0</td>\n",
       "      <td>0</td>\n",
       "      <td>NaN</td>\n",
       "      <td>1</td>\n",
       "    </tr>\n",
       "  </tbody>\n",
       "</table>\n",
       "</div>"
      ],
      "text/plain": [
       "       ID   DATE_DEPARTURE_UTC     DATE_ARRIVAL_UTC   DATE_DEPARTURE_LCL  \\\n",
       "0  345355  2020-01-18 22:10:00  2020-01-18 23:59:00  2020-01-18 15:10:00   \n",
       "1  323447  2020-01-17 21:47:00  2020-01-18 04:10:00  2020-01-17 16:47:00   \n",
       "2  242237  2020-01-13 13:26:00  2020-01-13 14:26:00  2020-01-13 07:26:00   \n",
       "3  271408  2020-01-15 02:45:00  2020-01-15 03:37:00  2020-01-14 20:45:00   \n",
       "4  282447  2020-01-15 23:22:00  2020-01-16 00:49:00  2020-01-15 18:22:00   \n",
       "\n",
       "      DATE_ARRIVAL_LCL ORIGIN  ORIGIN_AIRPORT_ID DEST  DEST_AIRPORT_ID  \\\n",
       "0  2020-01-18 15:59:00    SLC              14869  SNA            14908   \n",
       "1  2020-01-17 20:10:00    BOS              10721  SEA            14747   \n",
       "2  2020-01-13 08:26:00    DAL              11259  HOU            12191   \n",
       "3  2020-01-14 21:37:00    STL              15016  DSM            11423   \n",
       "4  2020-01-15 19:49:00    CLT              11057  CHS            10994   \n",
       "\n",
       "  TAIL_NUM OP_CARRIER  OP_CARRIER_AIRLINE_ID  OP_CARRIER_FL_NUM  DISTANCE  \\\n",
       "0   N128DU         DL                  19790               1056     588.0   \n",
       "1   N486AS         AS                  19930                 15    2496.0   \n",
       "2   N901WN         WN                  19393                  3     239.0   \n",
       "3   N778SW         WN                  19393               1588     259.0   \n",
       "4   N579NN         OH                  20397               5207     168.0   \n",
       "\n",
       "   CANCELLED  DEP_DEL15  ARR_DEL15  \n",
       "0          0        0.0          0  \n",
       "1          0        NaN          0  \n",
       "2          0        NaN          0  \n",
       "3          0        0.0          0  \n",
       "4          0        NaN          1  "
      ]
     },
     "execution_count": 8,
     "metadata": {},
     "output_type": "execute_result"
    }
   ],
   "source": [
    "df_train.head(5)"
   ]
  },
  {
   "cell_type": "code",
   "execution_count": 9,
   "metadata": {},
   "outputs": [
    {
     "data": {
      "text/plain": [
       "ID                         int64\n",
       "DATE_DEPARTURE_UTC        object\n",
       "DATE_ARRIVAL_UTC          object\n",
       "DATE_DEPARTURE_LCL        object\n",
       "DATE_ARRIVAL_LCL          object\n",
       "ORIGIN                    object\n",
       "ORIGIN_AIRPORT_ID          int64\n",
       "DEST                      object\n",
       "DEST_AIRPORT_ID            int64\n",
       "TAIL_NUM                  object\n",
       "OP_CARRIER                object\n",
       "OP_CARRIER_AIRLINE_ID      int64\n",
       "OP_CARRIER_FL_NUM          int64\n",
       "DISTANCE                 float64\n",
       "CANCELLED                  int64\n",
       "DEP_DEL15                float64\n",
       "ARR_DEL15                  int64\n",
       "dtype: object"
      ]
     },
     "execution_count": 9,
     "metadata": {},
     "output_type": "execute_result"
    }
   ],
   "source": [
    "df_train.dtypes"
   ]
  },
  {
   "cell_type": "markdown",
   "metadata": {},
   "source": [
    "Categorical Columns:\n",
    "- ORIGIN: 3-letter Airport ID\n",
    "- ORIGIN_AIRPORT_ID: Numeric Airport ID\n",
    "- DEST: 3-letter Airport ID\n",
    "- DEST_AIRPORT_ID: Numeric Airport ID\n",
    "- OP_CARRIER: 2-letter Airline ID\n",
    "- OP_CARRIER_AIRLINE_ID:  Numeric Airline ID\n",
    "- OP_CARRIER_FL_NUM: Numeric Flight Number\n",
    "- CANCELLED: Boolean"
   ]
  },
  {
   "cell_type": "code",
   "execution_count": 72,
   "metadata": {},
   "outputs": [
    {
     "data": {
      "text/plain": [
       "0    419487\n",
       "Name: CANCELLED, dtype: int64"
      ]
     },
     "execution_count": 72,
     "metadata": {},
     "output_type": "execute_result"
    }
   ],
   "source": [
    "df_train['CANCELLED'].value_counts()"
   ]
  },
  {
   "cell_type": "code",
   "execution_count": 10,
   "metadata": {},
   "outputs": [
    {
     "data": {
      "text/html": [
       "<div>\n",
       "<style scoped>\n",
       "    .dataframe tbody tr th:only-of-type {\n",
       "        vertical-align: middle;\n",
       "    }\n",
       "\n",
       "    .dataframe tbody tr th {\n",
       "        vertical-align: top;\n",
       "    }\n",
       "\n",
       "    .dataframe thead th {\n",
       "        text-align: right;\n",
       "    }\n",
       "</style>\n",
       "<table border=\"1\" class=\"dataframe\">\n",
       "  <thead>\n",
       "    <tr style=\"text-align: right;\">\n",
       "      <th></th>\n",
       "      <th>ORIGIN</th>\n",
       "      <th>DEST</th>\n",
       "      <th>OP_CARRIER</th>\n",
       "    </tr>\n",
       "  </thead>\n",
       "  <tbody>\n",
       "    <tr>\n",
       "      <th>count</th>\n",
       "      <td>419487</td>\n",
       "      <td>419487</td>\n",
       "      <td>419487</td>\n",
       "    </tr>\n",
       "    <tr>\n",
       "      <th>unique</th>\n",
       "      <td>351</td>\n",
       "      <td>350</td>\n",
       "      <td>17</td>\n",
       "    </tr>\n",
       "    <tr>\n",
       "      <th>top</th>\n",
       "      <td>ATL</td>\n",
       "      <td>ATL</td>\n",
       "      <td>WN</td>\n",
       "    </tr>\n",
       "    <tr>\n",
       "      <th>freq</th>\n",
       "      <td>22241</td>\n",
       "      <td>22393</td>\n",
       "      <td>75801</td>\n",
       "    </tr>\n",
       "  </tbody>\n",
       "</table>\n",
       "</div>"
      ],
      "text/plain": [
       "        ORIGIN    DEST OP_CARRIER\n",
       "count   419487  419487     419487\n",
       "unique     351     350         17\n",
       "top        ATL     ATL         WN\n",
       "freq     22241   22393      75801"
      ]
     },
     "execution_count": 10,
     "metadata": {},
     "output_type": "execute_result"
    }
   ],
   "source": [
    "df_train[['ORIGIN','DEST','OP_CARRIER']].describe()"
   ]
  },
  {
   "cell_type": "code",
   "execution_count": 11,
   "metadata": {
    "scrolled": true
   },
   "outputs": [
    {
     "data": {
      "text/html": [
       "<div>\n",
       "<style scoped>\n",
       "    .dataframe tbody tr th:only-of-type {\n",
       "        vertical-align: middle;\n",
       "    }\n",
       "\n",
       "    .dataframe tbody tr th {\n",
       "        vertical-align: top;\n",
       "    }\n",
       "\n",
       "    .dataframe thead th {\n",
       "        text-align: right;\n",
       "    }\n",
       "</style>\n",
       "<table border=\"1\" class=\"dataframe\">\n",
       "  <thead>\n",
       "    <tr style=\"text-align: right;\">\n",
       "      <th></th>\n",
       "      <th>OP_CARRIER_FL_NUM</th>\n",
       "      <th>CANCELLED</th>\n",
       "    </tr>\n",
       "  </thead>\n",
       "  <tbody>\n",
       "    <tr>\n",
       "      <th>count</th>\n",
       "      <td>419487.000000</td>\n",
       "      <td>419487.0</td>\n",
       "    </tr>\n",
       "    <tr>\n",
       "      <th>mean</th>\n",
       "      <td>2628.837404</td>\n",
       "      <td>0.0</td>\n",
       "    </tr>\n",
       "    <tr>\n",
       "      <th>std</th>\n",
       "      <td>1825.643818</td>\n",
       "      <td>0.0</td>\n",
       "    </tr>\n",
       "    <tr>\n",
       "      <th>min</th>\n",
       "      <td>1.000000</td>\n",
       "      <td>0.0</td>\n",
       "    </tr>\n",
       "    <tr>\n",
       "      <th>25%</th>\n",
       "      <td>1073.000000</td>\n",
       "      <td>0.0</td>\n",
       "    </tr>\n",
       "    <tr>\n",
       "      <th>50%</th>\n",
       "      <td>2184.000000</td>\n",
       "      <td>0.0</td>\n",
       "    </tr>\n",
       "    <tr>\n",
       "      <th>75%</th>\n",
       "      <td>4115.000000</td>\n",
       "      <td>0.0</td>\n",
       "    </tr>\n",
       "    <tr>\n",
       "      <th>max</th>\n",
       "      <td>6799.000000</td>\n",
       "      <td>0.0</td>\n",
       "    </tr>\n",
       "  </tbody>\n",
       "</table>\n",
       "</div>"
      ],
      "text/plain": [
       "       OP_CARRIER_FL_NUM  CANCELLED\n",
       "count      419487.000000   419487.0\n",
       "mean         2628.837404        0.0\n",
       "std          1825.643818        0.0\n",
       "min             1.000000        0.0\n",
       "25%          1073.000000        0.0\n",
       "50%          2184.000000        0.0\n",
       "75%          4115.000000        0.0\n",
       "max          6799.000000        0.0"
      ]
     },
     "execution_count": 11,
     "metadata": {},
     "output_type": "execute_result"
    }
   ],
   "source": [
    "df_train[['OP_CARRIER_FL_NUM','CANCELLED']].describe()"
   ]
  },
  {
   "cell_type": "code",
   "execution_count": 12,
   "metadata": {
    "scrolled": false
   },
   "outputs": [
    {
     "data": {
      "image/png": "[encoded data removed]",
      "text/plain": [
       "<Figure size 1152x576 with 1 Axes>"
      ]
     },
     "metadata": {
      "needs_background": "light"
     },
     "output_type": "display_data"
    }
   ],
   "source": [
    "cols = ['CANCELLED','ORIGIN','ORIGIN_AIRPORT_ID','DEST','DEST_AIRPORT_ID','OP_CARRIER','OP_CARRIER_AIRLINE_ID']\n",
    "fig, ax = plt.subplots(1,1,figsize=(16,8))\n",
    "ax.barh(cols, df_train[cols].nunique())\n",
    "plt.show()"
   ]
  },
  {
   "cell_type": "code",
   "execution_count": 65,
   "metadata": {
    "scrolled": false
   },
   "outputs": [
    {
     "ename": "KeyError",
     "evalue": "'ORIGIN'",
     "output_type": "error",
     "traceback": [
      "\u001b[0;31m---------------------------------------------------------------------------\u001b[0m",
      "\u001b[0;31mKeyError\u001b[0m                                  Traceback (most recent call last)",
      "\u001b[0;32m~/.virtualenvs/hckt01/lib/python3.6/site-packages/pandas/core/indexes/base.py\u001b[0m in \u001b[0;36mget_loc\u001b[0;34m(self, key, method, tolerance)\u001b[0m\n\u001b[1;32m   2645\u001b[0m             \u001b[0;32mtry\u001b[0m\u001b[0;34m:\u001b[0m\u001b[0;34m\u001b[0m\u001b[0;34m\u001b[0m\u001b[0m\n\u001b[0;32m-> 2646\u001b[0;31m                 \u001b[0;32mreturn\u001b[0m \u001b[0mself\u001b[0m\u001b[0;34m.\u001b[0m\u001b[0m_engine\u001b[0m\u001b[0;34m.\u001b[0m\u001b[0mget_loc\u001b[0m\u001b[0;34m(\u001b[0m\u001b[0mkey\u001b[0m\u001b[0;34m)\u001b[0m\u001b[0;34m\u001b[0m\u001b[0;34m\u001b[0m\u001b[0m\n\u001b[0m\u001b[1;32m   2647\u001b[0m             \u001b[0;32mexcept\u001b[0m \u001b[0mKeyError\u001b[0m\u001b[0;34m:\u001b[0m\u001b[0;34m\u001b[0m\u001b[0;34m\u001b[0m\u001b[0m\n",
      "\u001b[0;32mpandas/_libs/index.pyx\u001b[0m in \u001b[0;36mpandas._libs.index.IndexEngine.get_loc\u001b[0;34m()\u001b[0m\n",
      "\u001b[0;32mpandas/_libs/index.pyx\u001b[0m in \u001b[0;36mpandas._libs.index.IndexEngine.get_loc\u001b[0;34m()\u001b[0m\n",
      "\u001b[0;32mpandas/_libs/hashtable_class_helper.pxi\u001b[0m in \u001b[0;36mpandas._libs.hashtable.PyObjectHashTable.get_item\u001b[0;34m()\u001b[0m\n",
      "\u001b[0;32mpandas/_libs/hashtable_class_helper.pxi\u001b[0m in \u001b[0;36mpandas._libs.hashtable.PyObjectHashTable.get_item\u001b[0;34m()\u001b[0m\n",
      "\u001b[0;31mKeyError\u001b[0m: 'ORIGIN'",
      "\nDuring handling of the above exception, another exception occurred:\n",
      "\u001b[0;31mKeyError\u001b[0m                                  Traceback (most recent call last)",
      "\u001b[0;32m<ipython-input-65-8585da5ecbe0>\u001b[0m in \u001b[0;36m<module>\u001b[0;34m\u001b[0m\n\u001b[1;32m      1\u001b[0m \u001b[0mfig\u001b[0m\u001b[0;34m,\u001b[0m \u001b[0max\u001b[0m \u001b[0;34m=\u001b[0m \u001b[0mplt\u001b[0m\u001b[0;34m.\u001b[0m\u001b[0msubplots\u001b[0m\u001b[0;34m(\u001b[0m\u001b[0;36m1\u001b[0m\u001b[0;34m,\u001b[0m\u001b[0;36m1\u001b[0m\u001b[0;34m,\u001b[0m \u001b[0mfigsize\u001b[0m\u001b[0;34m=\u001b[0m\u001b[0;34m(\u001b[0m\u001b[0;36m16\u001b[0m\u001b[0;34m,\u001b[0m\u001b[0;36m6\u001b[0m\u001b[0;34m)\u001b[0m\u001b[0;34m)\u001b[0m\u001b[0;34m\u001b[0m\u001b[0;34m\u001b[0m\u001b[0m\n\u001b[0;32m----> 2\u001b[0;31m \u001b[0max\u001b[0m\u001b[0;34m.\u001b[0m\u001b[0mbar\u001b[0m\u001b[0;34m(\u001b[0m\u001b[0mdf_train\u001b[0m\u001b[0;34m[\u001b[0m\u001b[0;34m'ORIGIN'\u001b[0m\u001b[0;34m]\u001b[0m\u001b[0;34m.\u001b[0m\u001b[0mvalue_counts\u001b[0m\u001b[0;34m(\u001b[0m\u001b[0;34m)\u001b[0m\u001b[0;34m.\u001b[0m\u001b[0mindex\u001b[0m\u001b[0;34m,\u001b[0m \u001b[0mdf_train\u001b[0m\u001b[0;34m[\u001b[0m\u001b[0;34m'ORIGIN'\u001b[0m\u001b[0;34m]\u001b[0m\u001b[0;34m.\u001b[0m\u001b[0mvalue_counts\u001b[0m\u001b[0;34m(\u001b[0m\u001b[0;34m)\u001b[0m\u001b[0;34m)\u001b[0m\u001b[0;34m\u001b[0m\u001b[0;34m\u001b[0m\u001b[0m\n\u001b[0m\u001b[1;32m      3\u001b[0m \u001b[0;34m\u001b[0m\u001b[0m\n\u001b[1;32m      4\u001b[0m \u001b[0mplt\u001b[0m\u001b[0;34m.\u001b[0m\u001b[0mshow\u001b[0m\u001b[0;34m(\u001b[0m\u001b[0;34m)\u001b[0m\u001b[0;34m\u001b[0m\u001b[0;34m\u001b[0m\u001b[0m\n",
      "\u001b[0;32m~/.virtualenvs/hckt01/lib/python3.6/site-packages/pandas/core/frame.py\u001b[0m in \u001b[0;36m__getitem__\u001b[0;34m(self, key)\u001b[0m\n\u001b[1;32m   2798\u001b[0m             \u001b[0;32mif\u001b[0m \u001b[0mself\u001b[0m\u001b[0;34m.\u001b[0m\u001b[0mcolumns\u001b[0m\u001b[0;34m.\u001b[0m\u001b[0mnlevels\u001b[0m \u001b[0;34m>\u001b[0m \u001b[0;36m1\u001b[0m\u001b[0;34m:\u001b[0m\u001b[0;34m\u001b[0m\u001b[0;34m\u001b[0m\u001b[0m\n\u001b[1;32m   2799\u001b[0m                 \u001b[0;32mreturn\u001b[0m \u001b[0mself\u001b[0m\u001b[0;34m.\u001b[0m\u001b[0m_getitem_multilevel\u001b[0m\u001b[0;34m(\u001b[0m\u001b[0mkey\u001b[0m\u001b[0;34m)\u001b[0m\u001b[0;34m\u001b[0m\u001b[0;34m\u001b[0m\u001b[0m\n\u001b[0;32m-> 2800\u001b[0;31m             \u001b[0mindexer\u001b[0m \u001b[0;34m=\u001b[0m \u001b[0mself\u001b[0m\u001b[0;34m.\u001b[0m\u001b[0mcolumns\u001b[0m\u001b[0;34m.\u001b[0m\u001b[0mget_loc\u001b[0m\u001b[0;34m(\u001b[0m\u001b[0mkey\u001b[0m\u001b[0;34m)\u001b[0m\u001b[0;34m\u001b[0m\u001b[0;34m\u001b[0m\u001b[0m\n\u001b[0m\u001b[1;32m   2801\u001b[0m             \u001b[0;32mif\u001b[0m \u001b[0mis_integer\u001b[0m\u001b[0;34m(\u001b[0m\u001b[0mindexer\u001b[0m\u001b[0;34m)\u001b[0m\u001b[0;34m:\u001b[0m\u001b[0;34m\u001b[0m\u001b[0;34m\u001b[0m\u001b[0m\n\u001b[1;32m   2802\u001b[0m                 \u001b[0mindexer\u001b[0m \u001b[0;34m=\u001b[0m \u001b[0;34m[\u001b[0m\u001b[0mindexer\u001b[0m\u001b[0;34m]\u001b[0m\u001b[0;34m\u001b[0m\u001b[0;34m\u001b[0m\u001b[0m\n",
      "\u001b[0;32m~/.virtualenvs/hckt01/lib/python3.6/site-packages/pandas/core/indexes/base.py\u001b[0m in \u001b[0;36mget_loc\u001b[0;34m(self, key, method, tolerance)\u001b[0m\n\u001b[1;32m   2646\u001b[0m                 \u001b[0;32mreturn\u001b[0m \u001b[0mself\u001b[0m\u001b[0;34m.\u001b[0m\u001b[0m_engine\u001b[0m\u001b[0;34m.\u001b[0m\u001b[0mget_loc\u001b[0m\u001b[0;34m(\u001b[0m\u001b[0mkey\u001b[0m\u001b[0;34m)\u001b[0m\u001b[0;34m\u001b[0m\u001b[0;34m\u001b[0m\u001b[0m\n\u001b[1;32m   2647\u001b[0m             \u001b[0;32mexcept\u001b[0m \u001b[0mKeyError\u001b[0m\u001b[0;34m:\u001b[0m\u001b[0;34m\u001b[0m\u001b[0;34m\u001b[0m\u001b[0m\n\u001b[0;32m-> 2648\u001b[0;31m                 \u001b[0;32mreturn\u001b[0m \u001b[0mself\u001b[0m\u001b[0;34m.\u001b[0m\u001b[0m_engine\u001b[0m\u001b[0;34m.\u001b[0m\u001b[0mget_loc\u001b[0m\u001b[0;34m(\u001b[0m\u001b[0mself\u001b[0m\u001b[0;34m.\u001b[0m\u001b[0m_maybe_cast_indexer\u001b[0m\u001b[0;34m(\u001b[0m\u001b[0mkey\u001b[0m\u001b[0;34m)\u001b[0m\u001b[0;34m)\u001b[0m\u001b[0;34m\u001b[0m\u001b[0;34m\u001b[0m\u001b[0m\n\u001b[0m\u001b[1;32m   2649\u001b[0m         \u001b[0mindexer\u001b[0m \u001b[0;34m=\u001b[0m \u001b[0mself\u001b[0m\u001b[0;34m.\u001b[0m\u001b[0mget_indexer\u001b[0m\u001b[0;34m(\u001b[0m\u001b[0;34m[\u001b[0m\u001b[0mkey\u001b[0m\u001b[0;34m]\u001b[0m\u001b[0;34m,\u001b[0m \u001b[0mmethod\u001b[0m\u001b[0;34m=\u001b[0m\u001b[0mmethod\u001b[0m\u001b[0;34m,\u001b[0m \u001b[0mtolerance\u001b[0m\u001b[0;34m=\u001b[0m\u001b[0mtolerance\u001b[0m\u001b[0;34m)\u001b[0m\u001b[0;34m\u001b[0m\u001b[0;34m\u001b[0m\u001b[0m\n\u001b[1;32m   2650\u001b[0m         \u001b[0;32mif\u001b[0m \u001b[0mindexer\u001b[0m\u001b[0;34m.\u001b[0m\u001b[0mndim\u001b[0m \u001b[0;34m>\u001b[0m \u001b[0;36m1\u001b[0m \u001b[0;32mor\u001b[0m \u001b[0mindexer\u001b[0m\u001b[0;34m.\u001b[0m\u001b[0msize\u001b[0m \u001b[0;34m>\u001b[0m \u001b[0;36m1\u001b[0m\u001b[0;34m:\u001b[0m\u001b[0;34m\u001b[0m\u001b[0;34m\u001b[0m\u001b[0m\n",
      "\u001b[0;32mpandas/_libs/index.pyx\u001b[0m in \u001b[0;36mpandas._libs.index.IndexEngine.get_loc\u001b[0;34m()\u001b[0m\n",
      "\u001b[0;32mpandas/_libs/index.pyx\u001b[0m in \u001b[0;36mpandas._libs.index.IndexEngine.get_loc\u001b[0;34m()\u001b[0m\n",
      "\u001b[0;32mpandas/_libs/hashtable_class_helper.pxi\u001b[0m in \u001b[0;36mpandas._libs.hashtable.PyObjectHashTable.get_item\u001b[0;34m()\u001b[0m\n",
      "\u001b[0;32mpandas/_libs/hashtable_class_helper.pxi\u001b[0m in \u001b[0;36mpandas._libs.hashtable.PyObjectHashTable.get_item\u001b[0;34m()\u001b[0m\n",
      "\u001b[0;31mKeyError\u001b[0m: 'ORIGIN'"
     ]
    },
    {
     "data": {
      "image/png": "[encoded data removed]",
      "text/plain": [
       "<Figure size 1152x432 with 1 Axes>"
      ]
     },
     "metadata": {
      "needs_background": "light"
     },
     "output_type": "display_data"
    }
   ],
   "source": [
    "fig, ax = plt.subplots(1,1, figsize=(16,6))\n",
    "ax.bar(df_train['ORIGIN'].value_counts().index, df_train['ORIGIN'].value_counts())\n",
    "\n",
    "plt.show()"
   ]
  },
  {
   "cell_type": "code",
   "execution_count": 14,
   "metadata": {},
   "outputs": [
    {
     "data": {
      "text/plain": [
       "ATL    22241\n",
       "ORD    17135\n",
       "DFW    16679\n",
       "DEN    14145\n",
       "CLT    13903\n",
       "       ...  \n",
       "TUS     1181\n",
       "BOI     1165\n",
       "RNO     1159\n",
       "GRR     1072\n",
       "BHM     1064\n",
       "Name: ORIGIN, Length: 71, dtype: int64"
      ]
     },
     "execution_count": 14,
     "metadata": {},
     "output_type": "execute_result"
    }
   ],
   "source": [
    "df_train['ORIGIN'].value_counts()[df_train['ORIGIN'].value_counts()>1000]"
   ]
  },
  {
   "cell_type": "code",
   "execution_count": 15,
   "metadata": {},
   "outputs": [
    {
     "data": {
      "image/png": "[encoded data removed]",
      "text/plain": [
       "<Figure size 1152x432 with 1 Axes>"
      ]
     },
     "metadata": {
      "needs_background": "light"
     },
     "output_type": "display_data"
    }
   ],
   "source": [
    "fig, ax = plt.subplots(1,1, figsize=(16,6))\n",
    "ax.bar(df_train['DEST'].value_counts().index, df_train['DEST'].value_counts())\n",
    "plt.show()"
   ]
  },
  {
   "cell_type": "code",
   "execution_count": 16,
   "metadata": {},
   "outputs": [
    {
     "data": {
      "image/png": "[encoded data removed]",
      "text/plain": [
       "<Figure size 1152x432 with 1 Axes>"
      ]
     },
     "metadata": {
      "needs_background": "light"
     },
     "output_type": "display_data"
    }
   ],
   "source": [
    "fig, ax = plt.subplots(1,1, figsize=(16,6))\n",
    "ax.bar(df_train['OP_CARRIER'].value_counts().index, df_train['OP_CARRIER'].value_counts())\n",
    "plt.show()"
   ]
  },
  {
   "cell_type": "markdown",
   "metadata": {},
   "source": [
    "# Transformations"
   ]
  },
  {
   "cell_type": "markdown",
   "metadata": {},
   "source": [
    "Suggestions:\n",
    "- drop columns that end with 'ID'\n",
    "- columns 'CANCELLED','ORIGIN','DEST','OP_CARRIER' astype categorical\n",
    "- one hot encode 'OP_CARRIER' (17 values)\n",
    "- what shall we do with the airports? ~350 unique values"
   ]
  },
  {
   "cell_type": "code",
   "execution_count": 28,
   "metadata": {},
   "outputs": [],
   "source": [
    "df_train = pd.read_csv('../data/train.csv')\n",
    "df_test = pd.read_csv('../data/test.csv')"
   ]
  },
  {
   "cell_type": "code",
   "execution_count": null,
   "metadata": {},
   "outputs": [],
   "source": [
    "df_train = df_train.set_index('ID')"
   ]
  },
  {
   "cell_type": "code",
   "execution_count": 30,
   "metadata": {},
   "outputs": [
    {
     "data": {
      "text/plain": [
       "Index(['ID', 'DATE_DEPARTURE_UTC', 'DATE_ARRIVAL_UTC', 'DATE_DEPARTURE_LCL',\n",
       "       'DATE_ARRIVAL_LCL', 'ORIGIN', 'ORIGIN_AIRPORT_ID', 'DEST',\n",
       "       'DEST_AIRPORT_ID', 'TAIL_NUM', 'OP_CARRIER', 'OP_CARRIER_AIRLINE_ID',\n",
       "       'OP_CARRIER_FL_NUM', 'DISTANCE', 'CANCELLED', 'DEP_DEL15'],\n",
       "      dtype='object')"
      ]
     },
     "execution_count": 30,
     "metadata": {},
     "output_type": "execute_result"
    }
   ],
   "source": [
    "df_test.columns"
   ]
  },
  {
   "cell_type": "code",
   "execution_count": null,
   "metadata": {},
   "outputs": [],
   "source": []
  },
  {
   "cell_type": "markdown",
   "metadata": {},
   "source": [
    "# Transformation CODE"
   ]
  },
  {
   "cell_type": "code",
   "execution_count": 22,
   "metadata": {},
   "outputs": [],
   "source": []
  },
  {
   "cell_type": "code",
   "execution_count": 56,
   "metadata": {},
   "outputs": [],
   "source": [
    "# get value mappings\n",
    "origin_map = df_train['ARR_DEL15'].groupby(df_train['ORIGIN']).mean()\n",
    "dest_map = df_train['ARR_DEL15'].groupby(df_train['DEST']).mean()\n",
    "\n",
    "# get airline encoder\n",
    "import category_encoders as ce\n",
    "airline_encoder = ce.one_hot.OneHotEncoder(use_cat_names=True).fit(df_train[['OP_CARRIER']])"
   ]
  },
  {
   "cell_type": "code",
   "execution_count": 57,
   "metadata": {},
   "outputs": [],
   "source": [
    "def transform_categoricals(df, origin_map, dest_map):\n",
    "    # replace airport IDs by percent delayed\n",
    "    df['ORIGIN_PCT_DELAY'] = df['ORIGIN'].map(origin_map)\n",
    "    df['DEST_PCT_DELAY'] = df['DEST'].map(origin_map)\n",
    "    \n",
    "    # transform dtypes\n",
    "    df[['OP_CARRIER']] = df[['OP_CARRIER']].astype('category')\n",
    "    \n",
    "    # drop redundant columns\n",
    "    df = df.drop(columns=['ORIGIN_AIRPORT_ID', 'DEST_AIRPORT_ID', 'OP_CARRIER_AIRLINE_ID','ORIGIN','DEST'])\n",
    "    \n",
    "    # transform airline into dummies\n",
    "    df_airline_dummys = airline_encoder.transform(df['OP_CARRIER'])\n",
    "    df = df.drop(columns=['OP_CARRIER'])\n",
    "    df = df.merge(df_airline_dummys, how='left', left_index=True, right_index=True)\n",
    "    \n",
    "    return df"
   ]
  },
  {
   "cell_type": "code",
   "execution_count": null,
   "metadata": {},
   "outputs": [],
   "source": [
    "['ORIGIN_PCT_DELAY','DEST_PCT_DELAY']"
   ]
  },
  {
   "cell_type": "code",
   "execution_count": 58,
   "metadata": {},
   "outputs": [],
   "source": [
    "# transform datasets\n",
    "df_train = transform_categoricals(df_train, origin_map, dest_map)\n",
    "df_test = transform_categoricals(df_test, origin_map, dest_map)"
   ]
  },
  {
   "cell_type": "code",
   "execution_count": null,
   "metadata": {},
   "outputs": [],
   "source": []
  },
  {
   "cell_type": "code",
   "execution_count": null,
   "metadata": {},
   "outputs": [],
   "source": []
  },
  {
   "cell_type": "markdown",
   "metadata": {},
   "source": [
    "# SCRATCH"
   ]
  },
  {
   "cell_type": "code",
   "execution_count": 49,
   "metadata": {},
   "outputs": [],
   "source": [
    "def transform_categoricals(df, origin_map, dest_map):\n",
    "    # replace airport IDs by percent delayed\n",
    "    df['ORIGIN_PCT_DELAY'] = df['ORIGIN'].map(origin_map)\n",
    "    df['DEST_PCT_DELAY'] = df['DEST'].map(origin_map)\n",
    "    \n",
    "    # transform dtypes\n",
    "    df[['OP_CARRIER']] = df[['OP_CARRIER']].astype('category')\n",
    "    \n",
    "    # drop redundant columns\n",
    "    df = df.drop(columns=['ORIGIN_AIRPORT_ID', 'DEST_AIRPORT_ID', 'OP_CARRIER_AIRLINE_ID','ORIGIN','DEST'])\n",
    "    \n",
    "    # transform airline into dummies\n",
    "    vars_to_encode = ['OP_CARRIER']\n",
    "    df_airline_dummys = pd.get_dummies(df[vars_to_encode])\n",
    "    df = df.drop(columns=vars_to_encode)\n",
    "    df = df.merge(df_airline_dummys, how='left', left_index=True, right_index=True)\n",
    "    \n",
    "    return df"
   ]
  },
  {
   "cell_type": "code",
   "execution_count": 26,
   "metadata": {},
   "outputs": [],
   "source": [
    "def transform_categoricals(df):\n",
    "    # replace least frequent airports by 'other'\n",
    "    minimum_count = 1000\n",
    "    df.loc[df['ORIGIN'].map(df['ORIGIN'].value_counts())<minimum_count,'ORIGIN'] = 'OTHER'\n",
    "    df.loc[df['DEST'].map(df['DEST'].value_counts())<minimum_count,'DEST'] = 'OTHER'\n",
    "    \n",
    "    # transform dtypes\n",
    "    df[['CANCELLED','ORIGIN','DEST','OP_CARRIER']] = df[['CANCELLED','ORIGIN','DEST','OP_CARRIER']].astype('category')\n",
    "    \n",
    "    # drop redundant columns\n",
    "    df = df.drop(columns=['ORIGIN_AIRPORT_ID', 'DEST_AIRPORT_ID', 'OP_CARRIER_AIRLINE_ID'])\n",
    "    \n",
    "    # transform airline & airport variable into dummies\n",
    "    vars_to_encode = ['OP_CARRIER','ORIGIN','DEST']\n",
    "    df_airline_dummys = pd.get_dummies(df[vars_to_encode])\n",
    "    df = df.drop(columns=vars_to_encode)\n",
    "    df = df.merge(df_airline_dummys, how='left', left_index=True, right_index=True)\n",
    "    \n",
    "    return df"
   ]
  },
  {
   "cell_type": "code",
   "execution_count": null,
   "metadata": {},
   "outputs": [],
   "source": [
    "class categorical_transformer(TransformerMixin):\n",
    "    \n",
    "    def fit(self, df):\n",
    "        self.airline_encoder = ce.one_hot.OneHotEncoder(use_cat_names=True).fit(df['OP_CARRIER'])\n",
    "        self.origin_encoder = ce.one_hot.OneHotEncoder(use_cat_names=True).fit(df['ORIGIN'])\n",
    "        self.dest_encoder = ce.one_hot.OneHotEncoder(use_cat_names=True).fit(df['DEST'])\n",
    "        origin_counts = self.origin_encoder.transform(df['ORIGIN']).sum()\n",
    "        self.drop_origins = self.origin_encoder.transform(df['ORIGIN']).sum()\n",
    "        \n",
    "    def transform(self, df):\n",
    "        # transform dtypes\n",
    "        df[['CANCELLED','ORIGIN','DEST','OP_CARRIER']] = df[['CANCELLED','ORIGIN','DEST','OP_CARRIER']].astype('category')\n",
    "    \n",
    "        # drop redundant columns\n",
    "        df = df.drop(columns=['ORIGIN_AIRPORT_ID', 'DEST_AIRPORT_ID', 'OP_CARRIER_AIRLINE_ID'])\n",
    "        "
   ]
  },
  {
   "cell_type": "code",
   "execution_count": null,
   "metadata": {},
   "outputs": [],
   "source": []
  }
 ],
 "metadata": {
  "kernelspec": {
   "display_name": "Python 3",
   "language": "python",
   "name": "python3"
  },
  "language_info": {
   "codemirror_mode": {
    "name": "ipython",
    "version": 3
   },
   "file_extension": ".py",
   "mimetype": "text/x-python",
   "name": "python",
   "nbconvert_exporter": "python",
   "pygments_lexer": "ipython3",
   "version": "3.6.9"
  }
 },
 "nbformat": 4,
 "nbformat_minor": 4
}
