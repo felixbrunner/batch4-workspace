{
 "cells": [
  {
   "cell_type": "code",
   "execution_count": 1,
   "metadata": {
    "deletable": false,
    "editable": false,
    "nbgrader": {
     "grade": false,
     "grade_id": "cell-7527be455d372803",
     "locked": true,
     "schema_version": 3,
     "solution": false,
     "task": false
    }
   },
   "outputs": [
    {
     "name": "stdout",
     "output_type": "stream",
     "text": [
      "ERROR! Session/line number was not unique in database. History logging moved to new session 600\n"
     ]
    }
   ],
   "source": [
    "import numpy as np\n",
    "import hashlib\n",
    "import math\n",
    "import pandas as pd \n",
    "import matplotlib.pyplot as plt\n",
    "import random\n",
    "import re\n",
    "import string\n",
    "from nltk.tokenize import WordPunctTokenizer\n",
    "\n",
    "from sklearn.metrics import accuracy_score, precision_score, recall_score\n",
    "from sklearn.model_selection import train_test_split\n",
    "from sklearn.feature_extraction.text import TfidfVectorizer\n",
    "from sklearn.naive_bayes import MultinomialNB\n",
    "from sklearn.neighbors import KNeighborsClassifier\n",
    "from sklearn.feature_selection import SelectKBest, chi2\n",
    "from sklearn.decomposition import TruncatedSVD, PCA\n",
    "from sklearn.metrics.pairwise import cosine_similarity\n",
    "from sklearn.svm import SVC\n",
    "import spacy"
   ]
  },
  {
   "cell_type": "markdown",
   "metadata": {
    "deletable": false,
    "editable": false,
    "nbgrader": {
     "grade": false,
     "grade_id": "cell-a9bab744c327dc14",
     "locked": true,
     "schema_version": 3,
     "solution": false,
     "task": false
    }
   },
   "source": [
    "## Q1.\n",
    "\n",
    "It's 2020 and every second you spend in quarantine is driving you crazy. The pandemic would already be enough, but it seems that day in, day out, people are commenting on another disaster or weird event happening around the globe. Well, at least according to twitter. \n",
    "\n",
    "<img src=\"media/biblical.png\" width=\"50%\" />\n",
    "\n",
    "\n",
    "_\"Maybe I shouldn't get my news from twitter...\"_, you wonder.\n",
    "\n",
    "But nah, it's too adictive. So, instead, you set your mind on trying to do a little filtering yourself and detect when  disasters are going on and people are tweeting about it. For that purpose you decide to start building a disaster detector.\n",
    "\n",
    "\n",
    "After a lot of trouble extracting and classifying tweets, you come up with a dataset. \n",
    "\n",
    "\n",
    "Load the dataset and check its structure:\n"
   ]
  },
  {
   "cell_type": "code",
   "execution_count": 2,
   "metadata": {
    "deletable": false,
    "editable": false,
    "nbgrader": {
     "grade": false,
     "grade_id": "cell-a6273f8aa182f664",
     "locked": true,
     "schema_version": 3,
     "solution": false,
     "task": false
    }
   },
   "outputs": [
    {
     "data": {
      "text/html": [
       "<div>\n",
       "<style scoped>\n",
       "    .dataframe tbody tr th:only-of-type {\n",
       "        vertical-align: middle;\n",
       "    }\n",
       "\n",
       "    .dataframe tbody tr th {\n",
       "        vertical-align: top;\n",
       "    }\n",
       "\n",
       "    .dataframe thead th {\n",
       "        text-align: right;\n",
       "    }\n",
       "</style>\n",
       "<table border=\"1\" class=\"dataframe\">\n",
       "  <thead>\n",
       "    <tr style=\"text-align: right;\">\n",
       "      <th></th>\n",
       "      <th>id</th>\n",
       "      <th>keyword</th>\n",
       "      <th>location</th>\n",
       "      <th>text</th>\n",
       "      <th>target</th>\n",
       "    </tr>\n",
       "  </thead>\n",
       "  <tbody>\n",
       "    <tr>\n",
       "      <th>0</th>\n",
       "      <td>1</td>\n",
       "      <td>NaN</td>\n",
       "      <td>NaN</td>\n",
       "      <td>Our Deeds are the Reason of this #earthquake M...</td>\n",
       "      <td>1</td>\n",
       "    </tr>\n",
       "    <tr>\n",
       "      <th>1</th>\n",
       "      <td>4</td>\n",
       "      <td>NaN</td>\n",
       "      <td>NaN</td>\n",
       "      <td>Forest fire near La Ronge Sask. Canada</td>\n",
       "      <td>1</td>\n",
       "    </tr>\n",
       "    <tr>\n",
       "      <th>2</th>\n",
       "      <td>5</td>\n",
       "      <td>NaN</td>\n",
       "      <td>NaN</td>\n",
       "      <td>All residents asked to 'shelter in place' are ...</td>\n",
       "      <td>1</td>\n",
       "    </tr>\n",
       "    <tr>\n",
       "      <th>3</th>\n",
       "      <td>6</td>\n",
       "      <td>NaN</td>\n",
       "      <td>NaN</td>\n",
       "      <td>13,000 people receive #wildfires evacuation or...</td>\n",
       "      <td>1</td>\n",
       "    </tr>\n",
       "    <tr>\n",
       "      <th>4</th>\n",
       "      <td>7</td>\n",
       "      <td>NaN</td>\n",
       "      <td>NaN</td>\n",
       "      <td>Just got sent this photo from Ruby #Alaska as ...</td>\n",
       "      <td>1</td>\n",
       "    </tr>\n",
       "  </tbody>\n",
       "</table>\n",
       "</div>"
      ],
      "text/plain": [
       "   id keyword location                                               text  \\\n",
       "0   1     NaN      NaN  Our Deeds are the Reason of this #earthquake M...   \n",
       "1   4     NaN      NaN             Forest fire near La Ronge Sask. Canada   \n",
       "2   5     NaN      NaN  All residents asked to 'shelter in place' are ...   \n",
       "3   6     NaN      NaN  13,000 people receive #wildfires evacuation or...   \n",
       "4   7     NaN      NaN  Just got sent this photo from Ruby #Alaska as ...   \n",
       "\n",
       "   target  \n",
       "0       1  \n",
       "1       1  \n",
       "2       1  \n",
       "3       1  \n",
       "4       1  "
      ]
     },
     "execution_count": 2,
     "metadata": {},
     "output_type": "execute_result"
    }
   ],
   "source": [
    "df = pd.read_csv('datasets/twitter_disaster.csv')\n",
    "\n",
    "df.head()"
   ]
  },
  {
   "cell_type": "markdown",
   "metadata": {
    "deletable": false,
    "editable": false,
    "nbgrader": {
     "grade": false,
     "grade_id": "cell-a0f698ca70b9e015",
     "locked": true,
     "schema_version": 3,
     "solution": false,
     "task": false
    }
   },
   "source": [
    "### Q1.a)\n",
    "\n",
    "You realize, after all that you've learned in the NLP specialization, that it might be worth it to process your text a bit. \n",
    "\n",
    "Implement below a preprocessing function that does the following:\n",
    "\n",
    "- tokenizes the text \n",
    "- lowercases the text \n",
    "- removes punctuation \n",
    " "
   ]
  },
  {
   "cell_type": "code",
   "execution_count": 3,
   "metadata": {
    "deletable": false,
    "nbgrader": {
     "grade": false,
     "grade_id": "cell-1492b0bfab58773c",
     "locked": false,
     "schema_version": 3,
     "solution": true,
     "task": false
    }
   },
   "outputs": [],
   "source": [
    "def preprocess_data(df):\n",
    "    \"\"\"Returns a dataframe with preprocessed text as a new column\n",
    "    \n",
    "    Parameters:\n",
    "        df: input dataframe, containing a \"text\" column\n",
    "    \n",
    "    Returns:\n",
    "        preprocessed_df: output dataframe, with a new column \"preprocessed_text\" \n",
    "    \"\"\"\n",
    "    \n",
    "    # setup\n",
    "    preprocessed_df = df.copy()\n",
    "    \n",
    "    # tokenize\n",
    "    tokens = [WordPunctTokenizer().tokenize(t) for t in df['text']]\n",
    "    \n",
    "    # lower\n",
    "    lower_tokens = [[token.lower() for token in line] for line in tokens]\n",
    "    \n",
    "    # remove punctuation\n",
    "    preprocessed_df['preprocessed_text'] = [[token for token in line if token not in string.punctuation] for line in lower_tokens]\n",
    "    \n",
    "    return preprocessed_df"
   ]
  },
  {
   "cell_type": "code",
   "execution_count": 4,
   "metadata": {
    "deletable": false,
    "editable": false,
    "nbgrader": {
     "grade": true,
     "grade_id": "cell-761d12c2e662383e",
     "locked": true,
     "points": 1,
     "schema_version": 3,
     "solution": false,
     "task": false
    }
   },
   "outputs": [],
   "source": [
    "preprocessed_df = preprocess_data(df)\n",
    "\n",
    "assert hashlib.sha256(preprocessed_df['text'][200].encode()).hexdigest() == 'cb01387fe41613faa876fb6793179578747693d8dbfe57fd7a808376531f836f'\n",
    "assert hashlib.sha256(preprocessed_df['text'][400].encode()).hexdigest() == '89869900237bf608f53e686bacb698075e76102791c7c7973dd6015730ca271c'\n",
    "assert hashlib.sha256(preprocessed_df['text'][745].encode()).hexdigest() == '8ffa8f4f715c83feb96d9d8b427d90e6732e0e048e8d39b5d2694a797ed76c4e'"
   ]
  },
  {
   "cell_type": "markdown",
   "metadata": {
    "deletable": false,
    "editable": false,
    "nbgrader": {
     "grade": false,
     "grade_id": "cell-28fc4a869d434823",
     "locked": true,
     "schema_version": 3,
     "solution": false,
     "task": false
    }
   },
   "source": [
    "See how the preprocessed data looks like:"
   ]
  },
  {
   "cell_type": "code",
   "execution_count": 5,
   "metadata": {
    "deletable": false,
    "editable": false,
    "nbgrader": {
     "grade": false,
     "grade_id": "cell-73641df7a355d937",
     "locked": true,
     "schema_version": 3,
     "solution": false,
     "task": false
    }
   },
   "outputs": [
    {
     "data": {
      "text/html": [
       "<div>\n",
       "<style scoped>\n",
       "    .dataframe tbody tr th:only-of-type {\n",
       "        vertical-align: middle;\n",
       "    }\n",
       "\n",
       "    .dataframe tbody tr th {\n",
       "        vertical-align: top;\n",
       "    }\n",
       "\n",
       "    .dataframe thead th {\n",
       "        text-align: right;\n",
       "    }\n",
       "</style>\n",
       "<table border=\"1\" class=\"dataframe\">\n",
       "  <thead>\n",
       "    <tr style=\"text-align: right;\">\n",
       "      <th></th>\n",
       "      <th>id</th>\n",
       "      <th>keyword</th>\n",
       "      <th>location</th>\n",
       "      <th>text</th>\n",
       "      <th>target</th>\n",
       "      <th>preprocessed_text</th>\n",
       "    </tr>\n",
       "  </thead>\n",
       "  <tbody>\n",
       "    <tr>\n",
       "      <th>0</th>\n",
       "      <td>1</td>\n",
       "      <td>NaN</td>\n",
       "      <td>NaN</td>\n",
       "      <td>Our Deeds are the Reason of this #earthquake M...</td>\n",
       "      <td>1</td>\n",
       "      <td>[our, deeds, are, the, reason, of, this, earth...</td>\n",
       "    </tr>\n",
       "    <tr>\n",
       "      <th>1</th>\n",
       "      <td>4</td>\n",
       "      <td>NaN</td>\n",
       "      <td>NaN</td>\n",
       "      <td>Forest fire near La Ronge Sask. Canada</td>\n",
       "      <td>1</td>\n",
       "      <td>[forest, fire, near, la, ronge, sask, canada]</td>\n",
       "    </tr>\n",
       "    <tr>\n",
       "      <th>2</th>\n",
       "      <td>5</td>\n",
       "      <td>NaN</td>\n",
       "      <td>NaN</td>\n",
       "      <td>All residents asked to 'shelter in place' are ...</td>\n",
       "      <td>1</td>\n",
       "      <td>[all, residents, asked, to, shelter, in, place...</td>\n",
       "    </tr>\n",
       "    <tr>\n",
       "      <th>3</th>\n",
       "      <td>6</td>\n",
       "      <td>NaN</td>\n",
       "      <td>NaN</td>\n",
       "      <td>13,000 people receive #wildfires evacuation or...</td>\n",
       "      <td>1</td>\n",
       "      <td>[13, 000, people, receive, wildfires, evacuati...</td>\n",
       "    </tr>\n",
       "    <tr>\n",
       "      <th>4</th>\n",
       "      <td>7</td>\n",
       "      <td>NaN</td>\n",
       "      <td>NaN</td>\n",
       "      <td>Just got sent this photo from Ruby #Alaska as ...</td>\n",
       "      <td>1</td>\n",
       "      <td>[just, got, sent, this, photo, from, ruby, ala...</td>\n",
       "    </tr>\n",
       "  </tbody>\n",
       "</table>\n",
       "</div>"
      ],
      "text/plain": [
       "   id keyword location                                               text  \\\n",
       "0   1     NaN      NaN  Our Deeds are the Reason of this #earthquake M...   \n",
       "1   4     NaN      NaN             Forest fire near La Ronge Sask. Canada   \n",
       "2   5     NaN      NaN  All residents asked to 'shelter in place' are ...   \n",
       "3   6     NaN      NaN  13,000 people receive #wildfires evacuation or...   \n",
       "4   7     NaN      NaN  Just got sent this photo from Ruby #Alaska as ...   \n",
       "\n",
       "   target                                  preprocessed_text  \n",
       "0       1  [our, deeds, are, the, reason, of, this, earth...  \n",
       "1       1      [forest, fire, near, la, ronge, sask, canada]  \n",
       "2       1  [all, residents, asked, to, shelter, in, place...  \n",
       "3       1  [13, 000, people, receive, wildfires, evacuati...  \n",
       "4       1  [just, got, sent, this, photo, from, ruby, ala...  "
      ]
     },
     "execution_count": 5,
     "metadata": {},
     "output_type": "execute_result"
    }
   ],
   "source": [
    "preprocessed_df.head()"
   ]
  },
  {
   "cell_type": "markdown",
   "metadata": {
    "deletable": false,
    "editable": false,
    "nbgrader": {
     "grade": false,
     "grade_id": "cell-d9cb713e4ce781f1",
     "locked": true,
     "schema_version": 3,
     "solution": false,
     "task": false
    }
   },
   "source": [
    "With your preprocessing looking nice and after spending hours just coming up with the dataset, you decide to call it a day and save your data. \n",
    "\n",
    "You save it in a different file (never know when you might need the raw one again) and go to sleep. \n",
    "\n",
    "**Note**: for further exercises you'll be using the pre-saved version of the data we provide."
   ]
  },
  {
   "cell_type": "markdown",
   "metadata": {
    "deletable": false,
    "editable": false,
    "nbgrader": {
     "grade": false,
     "grade_id": "cell-a27675ff9718a6fa",
     "locked": true,
     "schema_version": 3,
     "solution": false,
     "task": false
    }
   },
   "source": [
    "### Q1.b)\n",
    "\n",
    "In the morning you go back to your data. You start by loading your preprocessed data and split into a train and test set. \n",
    "\n",
    "\n"
   ]
  },
  {
   "cell_type": "code",
   "execution_count": 6,
   "metadata": {
    "deletable": false,
    "editable": false,
    "nbgrader": {
     "grade": false,
     "grade_id": "cell-0fb42588a6beea1e",
     "locked": true,
     "schema_version": 3,
     "solution": false,
     "task": false
    }
   },
   "outputs": [
    {
     "data": {
      "text/html": [
       "<div>\n",
       "<style scoped>\n",
       "    .dataframe tbody tr th:only-of-type {\n",
       "        vertical-align: middle;\n",
       "    }\n",
       "\n",
       "    .dataframe tbody tr th {\n",
       "        vertical-align: top;\n",
       "    }\n",
       "\n",
       "    .dataframe thead th {\n",
       "        text-align: right;\n",
       "    }\n",
       "</style>\n",
       "<table border=\"1\" class=\"dataframe\">\n",
       "  <thead>\n",
       "    <tr style=\"text-align: right;\">\n",
       "      <th></th>\n",
       "      <th>keyword</th>\n",
       "      <th>location</th>\n",
       "      <th>text</th>\n",
       "      <th>target</th>\n",
       "      <th>preprocessed_text</th>\n",
       "    </tr>\n",
       "  </thead>\n",
       "  <tbody>\n",
       "    <tr>\n",
       "      <th>0</th>\n",
       "      <td>sunk</td>\n",
       "      <td>Essex</td>\n",
       "      <td>FOOTBALL IS BACK THIS WEEKEND ITS JUST SUNK IN...</td>\n",
       "      <td>0</td>\n",
       "      <td>football is back this weekend its just sunk in...</td>\n",
       "    </tr>\n",
       "    <tr>\n",
       "      <th>1</th>\n",
       "      <td>mass%20murderer</td>\n",
       "      <td>NaN</td>\n",
       "      <td>White people I know you worry tirelessly about...</td>\n",
       "      <td>1</td>\n",
       "      <td>white people i know you worry tirelessly about...</td>\n",
       "    </tr>\n",
       "    <tr>\n",
       "      <th>2</th>\n",
       "      <td>displaced</td>\n",
       "      <td>Pedophile hunting ground</td>\n",
       "      <td>.POTUS #StrategicPatience is a strategy for #G...</td>\n",
       "      <td>1</td>\n",
       "      <td>potus strategicpatience is a strategy for geno...</td>\n",
       "    </tr>\n",
       "    <tr>\n",
       "      <th>3</th>\n",
       "      <td>wrecked</td>\n",
       "      <td>NaN</td>\n",
       "      <td>I wrecked my stomach help</td>\n",
       "      <td>0</td>\n",
       "      <td>i wrecked my stomach help</td>\n",
       "    </tr>\n",
       "    <tr>\n",
       "      <th>4</th>\n",
       "      <td>curfew</td>\n",
       "      <td>urÌ£nus</td>\n",
       "      <td>It was past curfew\\nand we were at the Grove</td>\n",
       "      <td>0</td>\n",
       "      <td>it was past curfew and we were at the grove</td>\n",
       "    </tr>\n",
       "  </tbody>\n",
       "</table>\n",
       "</div>"
      ],
      "text/plain": [
       "           keyword                  location  \\\n",
       "0             sunk                     Essex   \n",
       "1  mass%20murderer                       NaN   \n",
       "2        displaced  Pedophile hunting ground   \n",
       "3          wrecked                       NaN   \n",
       "4           curfew                   urÌ£nus   \n",
       "\n",
       "                                                text  target  \\\n",
       "0  FOOTBALL IS BACK THIS WEEKEND ITS JUST SUNK IN...       0   \n",
       "1  White people I know you worry tirelessly about...       1   \n",
       "2  .POTUS #StrategicPatience is a strategy for #G...       1   \n",
       "3                          I wrecked my stomach help       0   \n",
       "4       It was past curfew\\nand we were at the Grove       0   \n",
       "\n",
       "                                   preprocessed_text  \n",
       "0  football is back this weekend its just sunk in...  \n",
       "1  white people i know you worry tirelessly about...  \n",
       "2  potus strategicpatience is a strategy for geno...  \n",
       "3                          i wrecked my stomach help  \n",
       "4        it was past curfew and we were at the grove  "
      ]
     },
     "execution_count": 6,
     "metadata": {},
     "output_type": "execute_result"
    }
   ],
   "source": [
    "df = pd.read_csv('datasets/twitter_disaster_preprocessed.csv')\n",
    "\n",
    "df.head()"
   ]
  },
  {
   "cell_type": "code",
   "execution_count": 7,
   "metadata": {},
   "outputs": [
    {
     "data": {
      "text/plain": [
       "1186    Rly tragedy in MP: Some live to recount horror...\n",
       "4071    I have been bleeding into this typewriter all ...\n",
       "5461    @J3Lyon I'm going to put the FFVII ones out at...\n",
       "5787    Womens Buckle Casual Stylish Shoulder Handbags...\n",
       "7445    Vladimir Putin Issues Major Warning But Is It ...\n",
       "Name: text, dtype: object"
      ]
     },
     "execution_count": 7,
     "metadata": {},
     "output_type": "execute_result"
    }
   ],
   "source": [
    "X_train, X_test, y_train, y_test = train_test_split(df['text'], df['target'], test_size=0.3, random_state=42)\n",
    "\n",
    "X_train.head()"
   ]
  },
  {
   "cell_type": "markdown",
   "metadata": {
    "deletable": false,
    "editable": false,
    "nbgrader": {
     "grade": false,
     "grade_id": "cell-86fc8b7b17496e84",
     "locked": true,
     "schema_version": 3,
     "solution": false,
     "task": false
    }
   },
   "source": [
    "You decide to move forward with some feature extraction, and go for a TFIDF tokenizer. However, you know that your space might be high-dimensional and you want to prepare for that. \n",
    "\n",
    "Implement a function that receives the number of desired features and returns the vectorized data together with the vectorizer and the space dimension:"
   ]
  },
  {
   "cell_type": "code",
   "execution_count": 8,
   "metadata": {
    "deletable": false,
    "nbgrader": {
     "grade": false,
     "grade_id": "cell-128e829939182a14",
     "locked": false,
     "schema_version": 3,
     "solution": true,
     "task": false
    }
   },
   "outputs": [],
   "source": [
    "def extract_features(X_train, X_test, feature_limit=None):\n",
    "    \"\"\"Converts the provided text training and test data into \n",
    "    TF-IDF feature counts. Additionally, returns the used\n",
    "    vectorizer and the space dimension\n",
    "    \n",
    "    Parameters:\n",
    "        X_train: training data\n",
    "        X_test: test data\n",
    "        feature_limit: maximum number of features to use\n",
    "\n",
    "    Returns:\n",
    "        vectorizer: used tf-idf vectorizer \n",
    "        num_features: vectorizer actual number of features, for sanity check\n",
    "        X_train_vec: processed training features\n",
    "        X_test_vec: processed test features\n",
    "    \"\"\"\n",
    "    \n",
    "    # setup\n",
    "    vectorizer = TfidfVectorizer(max_features=feature_limit)\n",
    "    \n",
    "    # fit & transform\n",
    "    X_train_vec = vectorizer.fit_transform(X_train)\n",
    "    X_test_vec = vectorizer.transform(X_test)\n",
    "    \n",
    "    # number of words in vocabulary\n",
    "    num_features = len(vectorizer.vocabulary_)\n",
    "    \n",
    "    return (vectorizer, num_features, X_train_vec, X_test_vec)"
   ]
  },
  {
   "cell_type": "code",
   "execution_count": 9,
   "metadata": {
    "deletable": false,
    "editable": false,
    "nbgrader": {
     "grade": true,
     "grade_id": "cell-1f46a8e42a3d0e27",
     "locked": true,
     "points": 2,
     "schema_version": 3,
     "solution": false,
     "task": false
    }
   },
   "outputs": [],
   "source": [
    "vectorizer, num_features, X_train_vec, X_test_vec = extract_features(X_train, X_test)\n",
    "assert math.isclose(np.sum(X_train_vec.todense()[12, :]), 3.08383176160954)\n",
    "assert num_features == 16801\n",
    "\n",
    "vectorizer, num_features, X_train_vec, X_test_vec = extract_features(X_train, X_test, feature_limit=100)\n",
    "assert math.isclose(X_train_vec.todense()[121, 12], 0.6280235685065689)\n",
    "assert num_features == 100\n",
    "\n",
    "vectorizer, num_features, X_train_vec, X_test_vec = extract_features(X_train, X_test, feature_limit=232)\n",
    "assert math.isclose(np.sum(X_train_vec.todense()[300, :]), 2.906725853395745)\n",
    "assert num_features == 232\n"
   ]
  },
  {
   "cell_type": "markdown",
   "metadata": {
    "deletable": false,
    "editable": false,
    "nbgrader": {
     "grade": false,
     "grade_id": "cell-dbf799a0c674b23c",
     "locked": true,
     "schema_version": 3,
     "solution": false,
     "task": false
    }
   },
   "source": [
    "### Q1.c)\n",
    "\n",
    "Let's see what happens when we limit the number of features. What are the features the vectorizer selects?\n",
    "\n",
    "Let's start by applying your function to obtain the vectorizer with 500 features: "
   ]
  },
  {
   "cell_type": "code",
   "execution_count": 10,
   "metadata": {
    "deletable": false,
    "editable": false,
    "nbgrader": {
     "grade": false,
     "grade_id": "cell-80540a2ca1335c31",
     "locked": true,
     "schema_version": 3,
     "solution": false,
     "task": false
    }
   },
   "outputs": [],
   "source": [
    "vectorizer, num_features, X_train_vec, X_test_vec = extract_features(X_train, X_test, feature_limit=500)"
   ]
  },
  {
   "cell_type": "markdown",
   "metadata": {
    "deletable": false,
    "editable": false,
    "nbgrader": {
     "grade": false,
     "grade_id": "cell-d5a52052e32c04a4",
     "locked": true,
     "schema_version": 3,
     "solution": false,
     "task": false
    }
   },
   "source": [
    "Now create a function to obtain the selected features of the fitted vectorizer, sorted by their inverse document frequency (in descending order). In case of tie, this is, if several features have the same IDF score, the features should be sorted by alphabetical order."
   ]
  },
  {
   "cell_type": "code",
   "execution_count": 11,
   "metadata": {
    "deletable": false,
    "nbgrader": {
     "grade": false,
     "grade_id": "cell-6657a70e1e5e0486",
     "locked": false,
     "schema_version": 3,
     "solution": true,
     "task": false
    }
   },
   "outputs": [],
   "source": [
    "def get_ngrams_sorted_by_idf(fitted_vectorizer, top_features=30):\n",
    "    \"\"\"Returns a subset of features of a fitted TfidfVectorizer ordered by \n",
    "    their idf score\n",
    "    \n",
    "    Parameters:\n",
    "        fitted_vectorizer (TfidfVectorizer): A fitted TfidfVectorizer\n",
    "        top_features: Top features to return \n",
    "    \n",
    "    Returns:\n",
    "        ngrams_sorted (list): The top features of fitted_vectorizer sorted in ascending order\n",
    "                              by their idf score\n",
    "    \"\"\"\n",
    "    \n",
    "    top_ngrams = [tup[0] for tup in sorted(zip(vectorizer.get_feature_names(), vectorizer.idf_),\n",
    "                                           key=lambda x: x[1], reverse=True)][:top_features]\n",
    "    return top_ngrams"
   ]
  },
  {
   "cell_type": "code",
   "execution_count": 12,
   "metadata": {
    "deletable": false,
    "editable": false,
    "nbgrader": {
     "grade": true,
     "grade_id": "cell-b8188311a1f32f69",
     "locked": true,
     "points": 1,
     "schema_version": 3,
     "solution": false,
     "task": false
    }
   },
   "outputs": [],
   "source": [
    "assert hashlib.sha256(get_ngrams_sorted_by_idf(vectorizer, top_features=100)[12].encode()).hexdigest() == \"aacd834b5cdc64a329e27649143406dd068306542988dfc250d6184745894849\"\n",
    "assert hashlib.sha256(get_ngrams_sorted_by_idf(vectorizer, top_features=100)[41].encode()).hexdigest() == \"9e96274abcf3df0dfcd14617d6a14931c97fca364083918e38f8cfd20d136f0d\"\n"
   ]
  },
  {
   "cell_type": "markdown",
   "metadata": {
    "deletable": false,
    "editable": false,
    "nbgrader": {
     "grade": false,
     "grade_id": "cell-adca65f62fff79d8",
     "locked": true,
     "schema_version": 3,
     "solution": false,
     "task": false
    }
   },
   "source": [
    "Check the features with top inverse document frequency in your vectorizer:"
   ]
  },
  {
   "cell_type": "code",
   "execution_count": 13,
   "metadata": {
    "deletable": false,
    "editable": false,
    "nbgrader": {
     "grade": false,
     "grade_id": "cell-cd01e244d60c3db1",
     "locked": true,
     "schema_version": 3,
     "solution": false,
     "task": false
    }
   },
   "outputs": [
    {
     "data": {
      "text/plain": [
       "['charged',\n",
       " 'ok',\n",
       " 'stock',\n",
       " 'trauma',\n",
       " '00',\n",
       " 'heart',\n",
       " 'issues',\n",
       " 'men',\n",
       " 'self',\n",
       " 'trouble',\n",
       " 'use',\n",
       " 'wounded',\n",
       " '06',\n",
       " 'boy',\n",
       " 'calgary',\n",
       " 'danger',\n",
       " 'declares',\n",
       " 'demolished',\n",
       " 'drowning',\n",
       " 'evacuated',\n",
       " 'left',\n",
       " 'lightning',\n",
       " 'migrants',\n",
       " 'mosque',\n",
       " 'must',\n",
       " 'person',\n",
       " 'sandstorm',\n",
       " 'traffic',\n",
       " 'twister',\n",
       " 'against']"
      ]
     },
     "execution_count": 13,
     "metadata": {},
     "output_type": "execute_result"
    }
   ],
   "source": [
    "#show most specifc 30 features of the 100 selected features\n",
    "get_ngrams_sorted_by_idf(vectorizer, top_features=30)"
   ]
  },
  {
   "cell_type": "markdown",
   "metadata": {},
   "source": [
    "### Q1.d)\n",
    "\n",
    "Not bad, but you remember learning about Chi squared,  method that will select features by relevance and you decide to compare how effective it is. \n"
   ]
  },
  {
   "cell_type": "code",
   "execution_count": 14,
   "metadata": {
    "deletable": false,
    "nbgrader": {
     "grade": false,
     "grade_id": "cell-f0c66b2edf797342",
     "locked": false,
     "schema_version": 3,
     "solution": true,
     "task": false
    }
   },
   "outputs": [],
   "source": [
    "def extract_features_chi2(X_train, X_test, y_train, feature_limit=100):\n",
    "    \"\"\"Converts the provided text training and test data into \n",
    "    TF-IDF feature counts. Additionally, selects the best features\n",
    "    with chi squared method. Finally, it returns the used\n",
    "    vectorizer and the feature selector\n",
    "    \n",
    "    Parameters:\n",
    "        X_train: training data\n",
    "        X_test: test data\n",
    "        y_train: training labels\n",
    "        feature_limit: maximum number of features to use\n",
    "\n",
    "    Returns:\n",
    "        vectorizer: used tf-idf vectorizer \n",
    "        ch2: used feature selector\n",
    "        X_train_ch2: processed training features\n",
    "        X_test_ch2: processed test features\n",
    "    \"\"\"\n",
    "    \n",
    "    # create vectorized features\n",
    "    vectorizer, num_features, X_train_vec, X_test_vec = extract_features(X_train, X_test)\n",
    "    \n",
    "    # feature selection\n",
    "    ch2 = SelectKBest(chi2, k=feature_limit)\n",
    "    X_train_ch2 = ch2.fit_transform(X_train_vec, y_train)\n",
    "    X_test_ch2 = ch2.transform(X_test_vec)\n",
    "    \n",
    "    return (vectorizer, ch2, X_train_ch2, X_test_ch2)"
   ]
  },
  {
   "cell_type": "code",
   "execution_count": 15,
   "metadata": {
    "deletable": false,
    "editable": false,
    "nbgrader": {
     "grade": true,
     "grade_id": "cell-0b7f52fc1fdef287",
     "locked": true,
     "points": 2,
     "schema_version": 3,
     "solution": false,
     "task": false
    }
   },
   "outputs": [],
   "source": [
    "vectorizer_ch2, ch2, X_train_ch2, X_test_ch2 = extract_features_chi2(X_train, X_test, y_train)\n",
    "assert math.isclose(np.sum(X_train_ch2.todense()[12, :]), 0.15232491597861014)\n",
    "assert ch2.k == 100\n",
    "\n",
    "vectorizer_ch2, ch2, X_train_ch2, X_test_ch2 = extract_features_chi2(X_train, X_test, y_train, feature_limit=123)\n",
    "assert math.isclose(np.sum(X_train_ch2.todense()[:, 122]), 36.32984514344287)\n",
    "assert ch2.k == 123\n",
    "\n",
    "vectorizer_ch2, ch2, X_train_ch2, X_test_ch2 = extract_features_chi2(X_train, X_test, y_train, feature_limit=232)\n",
    "assert math.isclose(np.sum(X_train_ch2.todense()[300, :]), 1.1419313656030479)\n",
    "assert ch2.k == 232"
   ]
  },
  {
   "cell_type": "markdown",
   "metadata": {
    "deletable": false,
    "editable": false,
    "nbgrader": {
     "grade": false,
     "grade_id": "cell-15b6c9135c1144ae",
     "locked": true,
     "schema_version": 3,
     "solution": false,
     "task": false
    }
   },
   "source": [
    "Once again, apply the extractor to our data and check the top relevant features"
   ]
  },
  {
   "cell_type": "code",
   "execution_count": 16,
   "metadata": {
    "deletable": false,
    "editable": false,
    "nbgrader": {
     "grade": false,
     "grade_id": "cell-de4f48b0315a5c15",
     "locked": true,
     "schema_version": 3,
     "solution": false,
     "task": false
    }
   },
   "outputs": [],
   "source": [
    "vectorizer_ch2, ch2, X_train_ch2, X_test_ch2 = extract_features_chi2(X_train, X_test, y_train, feature_limit=30)"
   ]
  },
  {
   "cell_type": "markdown",
   "metadata": {
    "deletable": false,
    "editable": false,
    "nbgrader": {
     "grade": false,
     "grade_id": "cell-8835726672eb231a",
     "locked": true,
     "schema_version": 3,
     "solution": false,
     "task": false
    }
   },
   "source": [
    "Now create a function similar to the one before to get the selected features ordered"
   ]
  },
  {
   "cell_type": "code",
   "execution_count": 17,
   "metadata": {
    "deletable": false,
    "nbgrader": {
     "grade": false,
     "grade_id": "cell-a6cbf7d5e2f0f189",
     "locked": false,
     "schema_version": 3,
     "solution": true,
     "task": false
    }
   },
   "outputs": [],
   "source": [
    "def get_chi2_ngrams_sorted(fitted_vectorizer, fitted_ch2_selector):\n",
    "    \"\"\"Returns the selected features (ngrams) given a vectorizer and \n",
    "    chi-squared selector\n",
    "    \n",
    "    Parameters:\n",
    "        fitted_vectorizer (TfidfVectorizer): A fitted TfidfVectorizer\n",
    "        fitted_ch2_selector (SelectKBest): A fitted chi squared selector \n",
    "    \n",
    "    Returns:\n",
    "        ngrams_sorted (list): The top features of fitted_vectorizer sorted in ascending order\n",
    "                              by their idf score\n",
    "    \"\"\"\n",
    "    \n",
    "    ngrams_sorted = [fitted_vectorizer.get_feature_names()[i] for i in fitted_ch2_selector.get_support(indices=True)]\n",
    "    return ngrams_sorted"
   ]
  },
  {
   "cell_type": "markdown",
   "metadata": {
    "deletable": false,
    "editable": false,
    "nbgrader": {
     "grade": false,
     "grade_id": "cell-2e14aae9835f075c",
     "locked": true,
     "schema_version": 3,
     "solution": false,
     "task": false
    }
   },
   "source": [
    "Finally, check the features selected by chi squared:"
   ]
  },
  {
   "cell_type": "code",
   "execution_count": 18,
   "metadata": {
    "deletable": false,
    "editable": false,
    "nbgrader": {
     "grade": true,
     "grade_id": "cell-d281f535669c2f4b",
     "locked": true,
     "points": 1,
     "schema_version": 3,
     "solution": false,
     "task": false
    }
   },
   "outputs": [
    {
     "data": {
      "text/plain": [
       "['after',\n",
       " 'atomic',\n",
       " 'bomber',\n",
       " 'bombing',\n",
       " 'california',\n",
       " 'confirmed',\n",
       " 'debris',\n",
       " 'derailment',\n",
       " 'families',\n",
       " 'fires',\n",
       " 'hiroshima',\n",
       " 'homes',\n",
       " 'http',\n",
       " 'in',\n",
       " 'japan',\n",
       " 'killed',\n",
       " 'legionnaires',\n",
       " 'malaysia',\n",
       " 'mh370',\n",
       " 'my',\n",
       " 'northern',\n",
       " 'obama',\n",
       " 'severe',\n",
       " 'spill',\n",
       " 'suicide',\n",
       " 'train',\n",
       " 'typhoon',\n",
       " 'wildfire',\n",
       " 'wreckage',\n",
       " 'you']"
      ]
     },
     "execution_count": 18,
     "metadata": {},
     "output_type": "execute_result"
    }
   ],
   "source": [
    "most_important_features = get_chi2_ngrams_sorted(vectorizer_ch2, ch2)\n",
    "\n",
    "most_important_features"
   ]
  },
  {
   "cell_type": "markdown",
   "metadata": {
    "deletable": false,
    "editable": false,
    "nbgrader": {
     "grade": false,
     "grade_id": "cell-099ecaf666f3e62e",
     "locked": true,
     "schema_version": 3,
     "solution": false,
     "task": false
    }
   },
   "source": [
    "We can see how often each of the features selected appears in the tweets:"
   ]
  },
  {
   "cell_type": "code",
   "execution_count": 19,
   "metadata": {
    "deletable": false,
    "editable": false,
    "nbgrader": {
     "grade": false,
     "grade_id": "cell-75fa0016fc29f7e0",
     "locked": true,
     "schema_version": 3,
     "solution": false,
     "task": false
    }
   },
   "outputs": [
    {
     "name": "stdout",
     "output_type": "stream",
     "text": [
      "Documents that contains the word(s) \"after\"\n",
      "----\n",
      "1    139\n",
      "0     60\n",
      "Name: target, dtype: int64\n",
      "\n",
      "\n",
      "Documents that contains the word(s) \"atomic\"\n",
      "----\n",
      "1    36\n",
      "0     3\n",
      "Name: target, dtype: int64\n",
      "\n",
      "\n",
      "Documents that contains the word(s) \"bomber\"\n",
      "----\n",
      "1    40\n",
      "Name: target, dtype: int64\n",
      "\n",
      "\n",
      "Documents that contains the word(s) \"bombing\"\n",
      "----\n",
      "1    48\n",
      "0     3\n",
      "Name: target, dtype: int64\n",
      "\n",
      "\n",
      "Documents that contains the word(s) \"california\"\n",
      "----\n",
      "1    84\n",
      "0     7\n",
      "Name: target, dtype: int64\n",
      "\n",
      "\n",
      "Documents that contains the word(s) \"confirmed\"\n",
      "----\n",
      "1    33\n",
      "0     8\n",
      "Name: target, dtype: int64\n",
      "\n",
      "\n",
      "Documents that contains the word(s) \"debris\"\n",
      "----\n",
      "1    31\n",
      "Name: target, dtype: int64\n",
      "\n",
      "\n",
      "Documents that contains the word(s) \"derailment\"\n",
      "----\n",
      "1    29\n",
      "Name: target, dtype: int64\n",
      "\n",
      "\n",
      "Documents that contains the word(s) \"families\"\n",
      "----\n",
      "1    37\n",
      "0     4\n",
      "Name: target, dtype: int64\n",
      "\n",
      "\n",
      "Documents that contains the word(s) \"fires\"\n",
      "----\n",
      "1    68\n",
      "0     7\n",
      "Name: target, dtype: int64\n",
      "\n",
      "\n",
      "Documents that contains the word(s) \"hiroshima\"\n",
      "----\n",
      "1    64\n",
      "0     1\n",
      "Name: target, dtype: int64\n",
      "\n",
      "\n",
      "Documents that contains the word(s) \"homes\"\n",
      "----\n",
      "1    36\n",
      "0     2\n",
      "Name: target, dtype: int64\n",
      "\n",
      "\n",
      "Documents that contains the word(s) \"http\"\n",
      "----\n",
      "1    1513\n",
      "0    1285\n",
      "Name: target, dtype: int64\n",
      "\n",
      "\n",
      "Documents that contains the word(s) \"in\"\n",
      "----\n",
      "0    1988\n",
      "1    1690\n",
      "Name: target, dtype: int64\n",
      "\n",
      "\n",
      "Documents that contains the word(s) \"japan\"\n",
      "----\n",
      "1    49\n",
      "0     4\n",
      "Name: target, dtype: int64\n",
      "\n",
      "\n",
      "Documents that contains the word(s) \"killed\"\n",
      "----\n",
      "1    61\n",
      "0     2\n",
      "Name: target, dtype: int64\n",
      "\n",
      "\n",
      "Documents that contains the word(s) \"legionnaires\"\n",
      "----\n",
      "1    25\n",
      "Name: target, dtype: int64\n",
      "\n",
      "\n",
      "Documents that contains the word(s) \"malaysia\"\n",
      "----\n",
      "1    38\n",
      "0     1\n",
      "Name: target, dtype: int64\n",
      "\n",
      "\n",
      "Documents that contains the word(s) \"mh370\"\n",
      "----\n",
      "1    47\n",
      "Name: target, dtype: int64\n",
      "\n",
      "\n",
      "Documents that contains the word(s) \"my\"\n",
      "----\n",
      "0    407\n",
      "1    153\n",
      "Name: target, dtype: int64\n",
      "\n",
      "\n",
      "Documents that contains the word(s) \"northern\"\n",
      "----\n",
      "1    44\n",
      "Name: target, dtype: int64\n",
      "\n",
      "\n",
      "Documents that contains the word(s) \"obama\"\n",
      "----\n",
      "1    31\n",
      "0     7\n",
      "Name: target, dtype: int64\n",
      "\n",
      "\n",
      "Documents that contains the word(s) \"severe\"\n",
      "----\n",
      "1    32\n",
      "Name: target, dtype: int64\n",
      "\n",
      "\n",
      "Documents that contains the word(s) \"spill\"\n",
      "----\n",
      "1    35\n",
      "0     1\n",
      "Name: target, dtype: int64\n",
      "\n",
      "\n",
      "Documents that contains the word(s) \"suicide\"\n",
      "----\n",
      "1    73\n",
      "0     7\n",
      "Name: target, dtype: int64\n",
      "\n",
      "\n",
      "Documents that contains the word(s) \"train\"\n",
      "----\n",
      "1    70\n",
      "0    16\n",
      "Name: target, dtype: int64\n",
      "\n",
      "\n",
      "Documents that contains the word(s) \"typhoon\"\n",
      "----\n",
      "1    45\n",
      "0     1\n",
      "Name: target, dtype: int64\n",
      "\n",
      "\n",
      "Documents that contains the word(s) \"wildfire\"\n",
      "----\n",
      "1    58\n",
      "0     1\n",
      "Name: target, dtype: int64\n",
      "\n",
      "\n",
      "Documents that contains the word(s) \"wreckage\"\n",
      "----\n",
      "1    28\n",
      "0     1\n",
      "Name: target, dtype: int64\n",
      "\n",
      "\n",
      "Documents that contains the word(s) \"you\"\n",
      "----\n",
      "0    542\n",
      "1    152\n",
      "Name: target, dtype: int64\n",
      "\n",
      "\n"
     ]
    }
   ],
   "source": [
    "for feature in most_important_features:\n",
    "    print('Documents that contains the word(s) \"%s\"' % feature)\n",
    "    print('----')\n",
    "    docs = X_train.str.lower().str.contains(feature)\n",
    "    print(str(y_train[docs].value_counts()) + '\\n\\n')"
   ]
  },
  {
   "cell_type": "markdown",
   "metadata": {
    "deletable": false,
    "editable": false,
    "nbgrader": {
     "grade": false,
     "grade_id": "cell-d1563c9a666e59d8",
     "locked": true,
     "schema_version": 3,
     "solution": false,
     "task": false
    }
   },
   "source": [
    "It should be visible that most features selected are linked to the \"disaster\" class (1)."
   ]
  },
  {
   "cell_type": "markdown",
   "metadata": {
    "deletable": false,
    "editable": false,
    "nbgrader": {
     "grade": false,
     "grade_id": "cell-32139b7e67be8642",
     "locked": true,
     "schema_version": 3,
     "solution": false,
     "task": false
    }
   },
   "source": [
    "## Q2.\n",
    "\n",
    "### Time for some modelling\n",
    "\n",
    "You finally decide to put everything together and get your first baseline. \n",
    "\n",
    "First of all, you figure you should use precision and recall to measure your models performance. Even though our data is not inbalanced it can give you more granularity over your target class - predicting a tweet is about disaster - even if a few tweets of the other class get mislabeled.\n",
    "\n",
    "Implement a function to compute precision and recall given your predictions and true labels:\n"
   ]
  },
  {
   "cell_type": "code",
   "execution_count": 20,
   "metadata": {
    "deletable": false,
    "nbgrader": {
     "grade": false,
     "grade_id": "cell-3f3f4bf976a21164",
     "locked": false,
     "schema_version": 3,
     "solution": true,
     "task": false
    }
   },
   "outputs": [],
   "source": [
    "def get_precision_recall(y_test, y_pred):\n",
    "    \"\"\"Returns the precision and recall of the disaster class (label = 1)\n",
    "    \n",
    "    Parameters:\n",
    "        y_test (Series): Labels corresponding to X_test\n",
    "        y_pred (Series): Predictions corresponding to X_test\n",
    "\n",
    "    Returns:\n",
    "        precision (float): The precision score of the disaster class (1) on the test data\n",
    "        recall (float): The recall score of the disaster class (1) on the test data\n",
    "    \"\"\"\n",
    "    precision = precision_score(y_test, y_pred)\n",
    "    recall = recall_score(y_test, y_pred)\n",
    "    \n",
    "    return (precision, recall)"
   ]
  },
  {
   "cell_type": "code",
   "execution_count": 21,
   "metadata": {
    "deletable": false,
    "editable": false,
    "nbgrader": {
     "grade": true,
     "grade_id": "cell-b980bb01bd920a45",
     "locked": true,
     "points": 1,
     "schema_version": 3,
     "solution": false,
     "task": false
    }
   },
   "outputs": [],
   "source": [
    "np.random.seed(42)\n",
    "precision, recall = get_precision_recall(pd.Series(np.random.choice([0, 1], size=30)), pd.Series(np.random.choice([0, 1], size=30)))\n",
    "assert precision == 0.4\n",
    "assert recall == 0.375\n",
    "\n",
    "vectorizer, np.random.seed(30)\n",
    "precision, recall = get_precision_recall(pd.Series(np.random.choice([0, 1], size=30)), pd.Series(np.random.choice([0, 1], size=30)))\n",
    "assert precision == 0.45\n",
    "assert recall == 0.5294117647058824\n",
    "\n",
    "vectorizer, np.random.seed(12)\n",
    "precision, recall = get_precision_recall(pd.Series(np.random.choice([0, 1], size=30)), pd.Series(np.random.choice([0, 1], size=30)))\n",
    "assert precision == 0.6\n",
    "assert recall == 0.6"
   ]
  },
  {
   "cell_type": "markdown",
   "metadata": {
    "deletable": false,
    "editable": false,
    "nbgrader": {
     "grade": false,
     "grade_id": "cell-4e733baddb2a1ae3",
     "locked": true,
     "schema_version": 3,
     "solution": false,
     "task": false
    }
   },
   "source": [
    "\n",
    "Now that your metrics are ready, you jump to the model. \n",
    "\n",
    "As stopwords appeared in the list of features also, you decide to provide an option to remove stop words.\n",
    "\n",
    "Write up a function that receives the train and test data, vectorizes it, selects a given number of features with chi-squared, and finally trains a multinomial Naive Bayes model to classify the tweets. Expose your predictions precision and recall."
   ]
  },
  {
   "cell_type": "code",
   "execution_count": 22,
   "metadata": {
    "deletable": false,
    "nbgrader": {
     "grade": false,
     "grade_id": "cell-5802f58ce8de2c27",
     "locked": false,
     "schema_version": 3,
     "solution": true,
     "task": false
    }
   },
   "outputs": [],
   "source": [
    "def train_model_chi2_naive_bayes(X_train, y_train, X_test, y_test, max_features=100, stopwords=None):\n",
    "    \"\"\"Returns a fitted TfidfVectorizer, the chi squared selector, a naive bayes classifier\n",
    "    and the test predictions computed with these\n",
    "    dd\n",
    "    Parameters:\n",
    "        X_train (Series): Text data for training\n",
    "        y_train (Series): Labels corresponding to X_train\n",
    "        X_test (Series): Text data for testing\n",
    "        y_test (Series): Labels corresponding to X_test\n",
    "        max_features (int): maximum number of features to use\n",
    "        stopwords (str): stopwords to use (if None does not use stopwords). eg 'english'\n",
    "\n",
    "    Returns:\n",
    "        vectorizer (TfidfVectorizer): TfidfVectorizer, fitted to X_train\n",
    "        ch2 (SelectKBest): SelectKBest with score function chi2 and provided number of features, \n",
    "                           fitted to vectorized X_train\n",
    "        clf (MultinomialNB): MultinomialNB classifier fitted to the feature-selected training data\n",
    "        y_pred (Series): The predictions computed with our classifier\n",
    "    \"\"\"\n",
    "    \n",
    "    # vectorize\n",
    "    vectorizer = TfidfVectorizer(stop_words=stopwords)\n",
    "    X_train_vec = vectorizer.fit_transform(X_train, y_train)\n",
    "    X_test_vec = vectorizer.transform(X_test)\n",
    "    \n",
    "    # feature selection\n",
    "    ch2 = SelectKBest(chi2, k=max_features)\n",
    "    X_train_ch2 = ch2.fit_transform(X_train_vec, y_train)\n",
    "    X_test_ch2 = ch2.transform(X_test_vec)\n",
    "    \n",
    "    # model\n",
    "    clf = MultinomialNB()\n",
    "    clf.fit(X_train_ch2, y_train)\n",
    "    y_pred = clf.predict(X_test_ch2)\n",
    "    \n",
    "    return (vectorizer, ch2, clf, y_pred)"
   ]
  },
  {
   "cell_type": "code",
   "execution_count": 23,
   "metadata": {
    "deletable": false,
    "editable": false,
    "nbgrader": {
     "grade": true,
     "grade_id": "cell-250e86b596a87818",
     "locked": true,
     "points": 2,
     "schema_version": 3,
     "solution": false,
     "task": false
    }
   },
   "outputs": [],
   "source": [
    "vectorizer, ch2, clf, y_pred_200 = \\\n",
    "    train_model_chi2_naive_bayes(X_train, y_train, X_test, y_test, max_features=200, stopwords=\"english\")\n",
    "assert np.mean(y_pred_200) == 0.17075306479859895\n",
    "assert np.sum(y_pred_200) == 390\n",
    "assert ch2.k == 200\n",
    "assert vectorizer.get_feature_names()[7424] == 'independence'\n",
    "\n",
    "\n",
    "vectorizer, ch2, clf, y_pred_500 = \\\n",
    "    train_model_chi2_naive_bayes(X_train, y_train, X_test, y_test, max_features=500, stopwords=\"english\")\n",
    "assert np.mean(y_pred_500) == 0.2591943957968476\n",
    "assert np.sum(y_pred_500) == 592\n",
    "assert ch2.k == 500\n",
    "assert vectorizer.get_feature_names()[7424] == 'independence'\n",
    "\n",
    "\n",
    "vectorizer, ch2, clf, y_pred_1000 = \\\n",
    "    train_model_chi2_naive_bayes(X_train, y_train, X_test, y_test, max_features=1000, stopwords=\"english\")\n",
    "assert np.mean(y_pred_1000) == 0.3021015761821366\n",
    "assert np.sum(y_pred_1000) == 690\n",
    "assert ch2.k == 1000\n",
    "assert vectorizer.get_feature_names()[7424] == 'independence'\n"
   ]
  },
  {
   "cell_type": "markdown",
   "metadata": {
    "deletable": false,
    "editable": false,
    "nbgrader": {
     "grade": false,
     "grade_id": "cell-a8fd1c973791e6f4",
     "locked": true,
     "schema_version": 3,
     "solution": false,
     "task": false
    }
   },
   "source": [
    "Now apply your previous precision and recall function to check the metrics of each prediction:"
   ]
  },
  {
   "cell_type": "code",
   "execution_count": 24,
   "metadata": {
    "deletable": false,
    "editable": false,
    "nbgrader": {
     "grade": false,
     "grade_id": "cell-32e077c8cb1aea12",
     "locked": true,
     "schema_version": 3,
     "solution": false,
     "task": false
    }
   },
   "outputs": [
    {
     "name": "stdout",
     "output_type": "stream",
     "text": [
      "\n",
      "Predictions with 200 features: \n",
      "Precision: 0.9282051282051282\n",
      "Recall: 0.36236236236236236\n",
      "\n",
      "Predictions with 500 features: \n",
      "Precision: 0.8766891891891891\n",
      "Recall: 0.5195195195195195\n",
      "\n",
      "Predictions with 1000 features: \n",
      "Precision: 0.8623188405797102\n",
      "Recall: 0.5955955955955956\n"
     ]
    }
   ],
   "source": [
    "precision, recall = get_precision_recall(y_test, y_pred_200)     \n",
    "print(\"\\nPredictions with 200 features: \")\n",
    "print(\"Precision: {}\".format(precision))\n",
    "print(\"Recall: {}\".format(recall))\n",
    "\n",
    "precision, recall = get_precision_recall(y_test, y_pred_500)      \n",
    "print(\"\\nPredictions with 500 features: \")\n",
    "print(\"Precision: {}\".format(precision))\n",
    "print(\"Recall: {}\".format(recall))\n",
    "\n",
    "precision, recall = get_precision_recall(y_test, y_pred_1000)     \n",
    "print(\"\\nPredictions with 1000 features: \")\n",
    "print(\"Precision: {}\".format(precision))\n",
    "print(\"Recall: {}\".format(recall))\n"
   ]
  },
  {
   "cell_type": "markdown",
   "metadata": {
    "deletable": false,
    "editable": false,
    "nbgrader": {
     "grade": false,
     "grade_id": "cell-d23a6715e3663773",
     "locked": true,
     "schema_version": 3,
     "solution": false,
     "task": false
    }
   },
   "source": [
    "It seems we have a high precision but a low recall for predicting a disaster. But as you see, as we increase the number of features used we are sacrificing the precision and gaining on recall, probably widening the range of tweets we are classifying as a disaster. \n",
    "\n",
    "This makes sense given that most of the top selected features are linked to the disaster class.\n"
   ]
  },
  {
   "cell_type": "markdown",
   "metadata": {
    "deletable": false,
    "editable": false,
    "nbgrader": {
     "grade": false,
     "grade_id": "cell-9173a0b6dfe2e4d7",
     "locked": true,
     "schema_version": 3,
     "solution": false,
     "task": false
    }
   },
   "source": [
    "## Q3.\n",
    "\n",
    "You are pretty happy with your baseline but you're still using a pretty number of features to get a good precision/recall ratio. You now decide to move on to other techniques, such as SVD and PCA.\n",
    "\n",
    "\n",
    "Start by writting up a similar function to the previous one to train your model, but use SVD and classify your model with Support Vector Classification."
   ]
  },
  {
   "cell_type": "code",
   "execution_count": 25,
   "metadata": {
    "deletable": false,
    "nbgrader": {
     "grade": false,
     "grade_id": "cell-43a51c434987d044",
     "locked": false,
     "schema_version": 3,
     "solution": true,
     "task": false
    }
   },
   "outputs": [],
   "source": [
    "def train_model_svd_svm(X_train, y_train, X_test, y_test, num_features=100, seed=42):\n",
    "    \"\"\"Returns a fitted TfidfVectorizer, the truncated svd used, a support vector classifier\n",
    "    and the test predictions computed with these\n",
    "    \n",
    "    Parameters:\n",
    "        X_train (Series): Text data for training\n",
    "        y_train (Series): Labels corresponding to X_train\n",
    "        X_test (Series): Text data for testing\n",
    "        y_test (Series): Labels corresponding to X_test\n",
    "        num_features (int): maximum number of features to use\n",
    "        seed (int): Seed to use for random state\n",
    "\n",
    "    Returns:\n",
    "        vectorizer (TfidfVectorizer): TfidfVectorizer, fitted to X_train\n",
    "        svd (TruncatedSVD): TruncatedSVD with provided number of features as components\n",
    "        clf (SVC): SVC classifier fitted to the feature-selected training data\n",
    "        y_pred (Series): The predictions computed with our classifier\n",
    "    \"\"\"\n",
    "    \n",
    "    # vectorize\n",
    "    vectorizer = TfidfVectorizer()\n",
    "    X_train_vec = vectorizer.fit_transform(X_train, y_train)\n",
    "    X_test_vec = vectorizer.transform(X_test)\n",
    "    \n",
    "    # feature selection\n",
    "    svd = TruncatedSVD(n_components=num_features, random_state=seed)\n",
    "    X_train_svd = svd.fit_transform(X_train_vec, y_train)\n",
    "    X_test_svd = svd.transform(X_test_vec)\n",
    "    \n",
    "    # model\n",
    "    clf = SVC()\n",
    "    clf.fit(X_train_svd, y_train)\n",
    "    y_pred = clf.predict(X_test_svd)\n",
    "    \n",
    "    return (vectorizer, svd, clf, y_pred)"
   ]
  },
  {
   "cell_type": "code",
   "execution_count": 26,
   "metadata": {
    "deletable": false,
    "editable": false,
    "nbgrader": {
     "grade": true,
     "grade_id": "cell-20f21581792161ac",
     "locked": true,
     "points": 3,
     "schema_version": 3,
     "solution": false,
     "task": false
    }
   },
   "outputs": [
    {
     "name": "stdout",
     "output_type": "stream",
     "text": [
      "----- Computed for 30 features -----\n",
      "\n",
      "----- Computed for 50 features -----\n",
      "\n",
      "----- Computed for 100 features -----\n",
      "\n"
     ]
    }
   ],
   "source": [
    "vectorizer, svd, clf, y_pred_30 = train_model_svd_svm(X_train, y_train, X_test, y_test, num_features=30, seed=42)\n",
    "print(\"----- Computed for 30 features -----\\n\")\n",
    "assert np.mean(y_pred_30) == 0.30122591943957966\n",
    "assert np.sum(y_pred_30) == 688\n",
    "assert svd.n_components == 30\n",
    "assert vectorizer.get_feature_names()[5424] == 'exploit'\n",
    "\n",
    "\n",
    "vectorizer, svd, clf, y_pred_50 = train_model_svd_svm(X_train, y_train, X_test, y_test, num_features=50, seed=42)\n",
    "print(\"----- Computed for 50 features -----\\n\")\n",
    "assert np.mean(y_pred_50) == 0.3261821366024518\n",
    "assert np.sum(y_pred_50) == 745\n",
    "assert svd.n_components == 50\n",
    "assert vectorizer.get_feature_names()[5424] == 'exploit'\n",
    "\n",
    "vectorizer, svd, clf, y_pred_100 = train_model_svd_svm(X_train, y_train, X_test, y_test, num_features=100, seed=42)\n",
    "print(\"----- Computed for 100 features -----\\n\")\n",
    "assert np.mean(y_pred_100) == 0.3445709281961471\n",
    "assert np.sum(y_pred_100) == 787\n",
    "assert svd.n_components == 100\n",
    "assert vectorizer.get_feature_names()[5424] == 'exploit'"
   ]
  },
  {
   "cell_type": "markdown",
   "metadata": {
    "deletable": false,
    "editable": false,
    "nbgrader": {
     "grade": false,
     "grade_id": "cell-600f1f3be994d779",
     "locked": true,
     "schema_version": 3,
     "solution": false,
     "task": false
    }
   },
   "source": [
    "We can obtain the precision and recall as before and compare with the previous results:"
   ]
  },
  {
   "cell_type": "code",
   "execution_count": 27,
   "metadata": {
    "deletable": false,
    "editable": false,
    "nbgrader": {
     "grade": false,
     "grade_id": "cell-3e0298dc6a13452a",
     "locked": true,
     "schema_version": 3,
     "solution": false,
     "task": false
    }
   },
   "outputs": [
    {
     "name": "stdout",
     "output_type": "stream",
     "text": [
      "\n",
      "Predictions with 30 features: \n",
      "Precision: 0.7921511627906976\n",
      "Recall: 0.5455455455455456\n",
      "\n",
      "Predictions with 50 features: \n",
      "Precision: 0.8040268456375839\n",
      "Recall: 0.5995995995995996\n",
      "\n",
      "Predictions with 100 features: \n",
      "Precision: 0.8195679796696315\n",
      "Recall: 0.6456456456456456\n"
     ]
    }
   ],
   "source": [
    "precision, recall = get_precision_recall(y_test, y_pred_30)     \n",
    "print(\"\\nPredictions with 30 features: \")\n",
    "print(\"Precision: {}\".format(precision))\n",
    "print(\"Recall: {}\".format(recall))\n",
    "\n",
    "precision, recall = get_precision_recall(y_test, y_pred_50)      \n",
    "print(\"\\nPredictions with 50 features: \")\n",
    "print(\"Precision: {}\".format(precision))\n",
    "print(\"Recall: {}\".format(recall))\n",
    "\n",
    "precision, recall = get_precision_recall(y_test, y_pred_100)     \n",
    "print(\"\\nPredictions with 100 features: \")\n",
    "print(\"Precision: {}\".format(precision))\n",
    "print(\"Recall: {}\".format(recall))"
   ]
  },
  {
   "cell_type": "markdown",
   "metadata": {
    "deletable": false,
    "editable": false,
    "nbgrader": {
     "grade": false,
     "grade_id": "cell-8be788c4e7462464",
     "locked": true,
     "schema_version": 3,
     "solution": false,
     "task": false
    }
   },
   "source": [
    "## Q4.\n",
    "\n",
    "With much less features we get a better recall and only slightly lower precision, nice! Remember now some of the pros and cons of SVD and other dimensionality reduction techniques. While SVD performed better, likely because in theory it can capture information from more than 50 ngrams (whereas in chi-squared the number of features was in a direct correspondence with the number of ngrams), with SVD we lose interpretability and can't examine the most important features!\n",
    "\n",
    "Now let's try PCA.\n",
    "\n",
    "Write a similar function to Q3 but now using PCA to see how it compares to SVD"
   ]
  },
  {
   "cell_type": "code",
   "execution_count": 28,
   "metadata": {
    "deletable": false,
    "nbgrader": {
     "grade": false,
     "grade_id": "cell-c323629aaea537dd",
     "locked": false,
     "schema_version": 3,
     "solution": true,
     "task": false
    }
   },
   "outputs": [],
   "source": [
    "def train_model_pca_svm(X_train, y_train, X_test, y_test, num_features=100, seed=42):\n",
    "    \"\"\"Returns a fitted TfidfVectorizer, the truncated svd used, a support vector classifier\n",
    "    and the test predictions computed with these\n",
    "    \n",
    "    Parameters:\n",
    "        X_train (Series): Text data for training\n",
    "        y_train (Series): Labels corresponding to X_train\n",
    "        X_test (Series): Text data for testing\n",
    "        y_test (Series): Labels corresponding to X_test\n",
    "        num_features (int): maximum number of features to use\n",
    "        seed (int): Seed to use for random state\n",
    "\n",
    "    Returns:\n",
    "        vectorizer (TfidfVectorizer): TfidfVectorizer, fitted to X_train\n",
    "        pca (PCA): PCA with provided number of features as components\n",
    "        clf (SVC): SVC classifier fitted to the feature-selected training data\n",
    "        y_pred (Series): The predictions computed with our classifier\n",
    "    \"\"\"\n",
    "    # vectorize\n",
    "    vectorizer = TfidfVectorizer()\n",
    "    X_train_vec = vectorizer.fit_transform(X_train, y_train)\n",
    "    X_test_vec = vectorizer.transform(X_test)\n",
    "    \n",
    "    # feature selection\n",
    "    pca = PCA(n_components=num_features, random_state=seed)\n",
    "    X_train_pca = pca.fit_transform(X_train_vec.todense(), y_train)\n",
    "    X_test_pca = pca.transform(X_test_vec.todense())\n",
    "    \n",
    "    # model\n",
    "    clf = SVC()\n",
    "    clf.fit(X_train_pca, y_train)\n",
    "    y_pred = clf.predict(X_test_pca)\n",
    "    \n",
    "    return (vectorizer, pca, clf, y_pred)"
   ]
  },
  {
   "cell_type": "code",
   "execution_count": 29,
   "metadata": {
    "deletable": false,
    "editable": false,
    "nbgrader": {
     "grade": true,
     "grade_id": "cell-e0c931cb07614c23",
     "locked": true,
     "points": 3,
     "schema_version": 3,
     "solution": false,
     "task": false
    }
   },
   "outputs": [
    {
     "name": "stdout",
     "output_type": "stream",
     "text": [
      "----- Computed for 30 features -----\n",
      "\n",
      "----- Computed for 50 features -----\n",
      "\n",
      "----- Computed for 100 features -----\n",
      "\n"
     ]
    }
   ],
   "source": [
    "vectorizer, pca, clf, y_pred_30 = train_model_pca_svm(X_train, y_train, X_test, y_test, num_features=30, seed=42)\n",
    "print(\"----- Computed for 30 features -----\\n\")\n",
    "assert np.mean(y_pred_30) == 0.30035026269702275\n",
    "assert np.sum(y_pred_30) == 686\n",
    "assert pca.n_components == 30\n",
    "assert vectorizer.get_feature_names()[5424] == 'exploit'\n",
    "\n",
    "vectorizer, pca, clf, y_pred_50 = train_model_pca_svm(X_train, y_train, X_test, y_test, num_features=50, seed=42)\n",
    "print(\"----- Computed for 50 features -----\\n\")\n",
    "assert np.mean(y_pred_50) == 0.3126094570928196\n",
    "assert np.sum(y_pred_50) == 714\n",
    "assert pca.n_components == 50\n",
    "assert vectorizer.get_feature_names()[5424] == 'exploit'\n",
    "\n",
    "vectorizer, pca, clf, y_pred_100 = train_model_pca_svm(X_train, y_train, X_test, y_test, num_features=100, seed=42)\n",
    "print(\"----- Computed for 100 features -----\\n\")\n",
    "assert np.mean(y_pred_100) == 0.33887915936952717\n",
    "assert np.sum(y_pred_100) == 774\n",
    "assert pca.n_components == 100\n",
    "assert vectorizer.get_feature_names()[5424] == 'exploit'"
   ]
  },
  {
   "cell_type": "markdown",
   "metadata": {
    "deletable": false,
    "editable": false,
    "nbgrader": {
     "grade": false,
     "grade_id": "cell-d1ecb5e0f82ec689",
     "locked": true,
     "schema_version": 3,
     "solution": false,
     "task": false
    }
   },
   "source": [
    "We can obtain the precision and recall as before and compare with the previous results:"
   ]
  },
  {
   "cell_type": "code",
   "execution_count": 30,
   "metadata": {
    "deletable": false,
    "editable": false,
    "nbgrader": {
     "grade": false,
     "grade_id": "cell-4362d8b3356bd257",
     "locked": true,
     "schema_version": 3,
     "solution": false,
     "task": false
    }
   },
   "outputs": [
    {
     "name": "stdout",
     "output_type": "stream",
     "text": [
      "\n",
      "Predictions with 30 features: \n",
      "Precision: 0.8002915451895044\n",
      "Recall: 0.5495495495495496\n",
      "\n",
      "Predictions with 50 features: \n",
      "Precision: 0.8081232492997199\n",
      "Recall: 0.5775775775775776\n",
      "\n",
      "Predictions with 100 features: \n",
      "Precision: 0.8281653746770026\n",
      "Recall: 0.6416416416416416\n"
     ]
    }
   ],
   "source": [
    "precision, recall = get_precision_recall(y_test, y_pred_30)     \n",
    "print(\"\\nPredictions with 30 features: \")\n",
    "print(\"Precision: {}\".format(precision))\n",
    "print(\"Recall: {}\".format(recall))\n",
    "\n",
    "precision, recall = get_precision_recall(y_test, y_pred_50)      \n",
    "print(\"\\nPredictions with 50 features: \")\n",
    "print(\"Precision: {}\".format(precision))\n",
    "print(\"Recall: {}\".format(recall))\n",
    "\n",
    "precision, recall = get_precision_recall(y_test, y_pred_100)     \n",
    "print(\"\\nPredictions with 100 features: \")\n",
    "print(\"Precision: {}\".format(precision))\n",
    "print(\"Recall: {}\".format(recall))"
   ]
  },
  {
   "cell_type": "markdown",
   "metadata": {
    "deletable": false,
    "editable": false,
    "nbgrader": {
     "grade": false,
     "grade_id": "cell-5b17e715e9161796",
     "locked": true,
     "schema_version": 3,
     "solution": false,
     "task": false
    }
   },
   "source": [
    "## Q5.\n",
    "\n",
    "Now we'll change gears a bit and look into word vectors. In Learning Notebook 3 we told you that word vectors can be visualized after being projected into 2D space, and we showed you this diagram:\n",
    "\n",
    "<img src=\"./media/word-vectors-projection.png\" width=\"600\">\n",
    "\n",
    "Now we'll try to combine what you've learned about word embeddings and PCA to make our own visualization!"
   ]
  },
  {
   "cell_type": "code",
   "execution_count": 31,
   "metadata": {
    "deletable": false,
    "editable": false,
    "nbgrader": {
     "grade": false,
     "grade_id": "cell-b3847eb100057a7d",
     "locked": true,
     "schema_version": 3,
     "solution": false,
     "task": false
    }
   },
   "outputs": [],
   "source": [
    "# load word embeddings\n",
    "\n",
    "nlp = spacy.load('en_core_web_md')"
   ]
  },
  {
   "cell_type": "markdown",
   "metadata": {
    "deletable": false,
    "editable": false,
    "nbgrader": {
     "grade": false,
     "grade_id": "cell-3b982ddaa87eec51",
     "locked": true,
     "schema_version": 3,
     "solution": false,
     "task": false
    }
   },
   "source": [
    "### Q5.a)\n",
    "\n",
    "First, to get comfortable with spacy, get the vector for the word \"disaster\" "
   ]
  },
  {
   "cell_type": "code",
   "execution_count": 32,
   "metadata": {
    "deletable": false,
    "nbgrader": {
     "grade": false,
     "grade_id": "cell-34ae448736fdde6b",
     "locked": false,
     "schema_version": 3,
     "solution": true,
     "task": false
    }
   },
   "outputs": [],
   "source": [
    "disaster_vector = nlp('disaster').vector"
   ]
  },
  {
   "cell_type": "code",
   "execution_count": 33,
   "metadata": {
    "deletable": false,
    "editable": false,
    "nbgrader": {
     "grade": true,
     "grade_id": "cell-5cdd4b59c690522a",
     "locked": true,
     "points": 1,
     "schema_version": 3,
     "solution": false,
     "task": false
    }
   },
   "outputs": [],
   "source": [
    "assert math.isclose(disaster_vector.sum(), -6.004221, abs_tol=0.00001)\n",
    "assert disaster_vector.shape[0] == 300"
   ]
  },
  {
   "cell_type": "markdown",
   "metadata": {
    "deletable": false,
    "editable": false,
    "nbgrader": {
     "grade": false,
     "grade_id": "cell-c7566702b1fd9755",
     "locked": true,
     "schema_version": 3,
     "solution": false,
     "task": false
    }
   },
   "source": [
    "### Q5.b) \n",
    "\n",
    "Next, write a function that uses sklearn's PCA to reduce our vectors to a convenient number of dimensions for plotting. The function should return the reduced dimension word vectors."
   ]
  },
  {
   "cell_type": "code",
   "execution_count": 34,
   "metadata": {
    "deletable": false,
    "nbgrader": {
     "grade": false,
     "grade_id": "cell-8c4ffc6d44920880",
     "locked": false,
     "schema_version": 3,
     "solution": true,
     "task": false
    }
   },
   "outputs": [],
   "source": [
    "def reduce_word_vecs(vectors, random_state):\n",
    "    \"\"\"\n",
    "    Returns PCA-reduced word vectors of the input vectors for plotting\n",
    "    \n",
    "    Parameters:\n",
    "        vectors (np.array): Word vectors to be reduced\n",
    "        random_state (int): random state to use in PCA\n",
    "\n",
    "    Returns:\n",
    "        reduced_vecs (np.array): Word vectors reduced to the number of dimensions\n",
    "                                 suitable for plotting with given random_state\n",
    "    \"\"\"\n",
    "    pca = PCA(random_state=random_state, n_components=2)\n",
    "    reduced_vecs = pca.fit_transform(vectors)\n",
    "    \n",
    "    return reduced_vecs"
   ]
  },
  {
   "cell_type": "code",
   "execution_count": 35,
   "metadata": {
    "deletable": false,
    "editable": false,
    "nbgrader": {
     "grade": true,
     "grade_id": "cell-05bdaa52733db9e2",
     "locked": true,
     "points": 1,
     "schema_version": 3,
     "solution": false,
     "task": false
    }
   },
   "outputs": [],
   "source": [
    "test_vectors = np.array([[0.1, 0.2, 0.3, 0.4], [0.3, 0.5, 0.1, 0.7], [0.8, 0.6, 0.2, 0.4]])\n",
    "reduced_vecs = reduce_word_vecs(test_vectors, random_state=42)\n",
    "\n",
    "assert reduced_vecs.shape == (3,2)\n",
    "assert math.isclose(reduced_vecs[1][1], 0.24736592153367926)\n",
    "assert math.isclose(reduced_vecs[2][0], 0.43388622222454437)"
   ]
  },
  {
   "cell_type": "markdown",
   "metadata": {
    "deletable": false,
    "editable": false,
    "nbgrader": {
     "grade": false,
     "grade_id": "cell-1f75d7362f3b5b18",
     "locked": true,
     "schema_version": 3,
     "solution": false,
     "task": false
    }
   },
   "source": [
    "Now, we'll create an array of ~75,000 of spacy's word vectors and use your PCA function to reduce them. If you're curious about using the full amount of word vectors, you can change the code to iterate over all vocab words - `list(nlp.vocab.strings)` - instead of our own `vocab_strings`, but beware it will use a lot of memory!\n",
    "\n",
    "We'll also set a list of words that we'll plot later and force our set of vectors to include these."
   ]
  },
  {
   "cell_type": "code",
   "execution_count": 36,
   "metadata": {
    "deletable": false,
    "editable": false,
    "nbgrader": {
     "grade": false,
     "grade_id": "cell-5d7c693a88480b94",
     "locked": true,
     "schema_version": 3,
     "solution": false,
     "task": false
    }
   },
   "outputs": [],
   "source": [
    "words_to_plot = ['banana', 'pineapple', 'mango', 'red', 'blue', 'yellow', 'woman', 'man', 'child', 'playing',\n",
    "                 'reading', 'studying', 'nintendo', 'sony', 'xbox', 'sad', 'angry', 'bored']"
   ]
  },
  {
   "cell_type": "code",
   "execution_count": 37,
   "metadata": {
    "deletable": false,
    "editable": false,
    "nbgrader": {
     "grade": false,
     "grade_id": "cell-644c6807023bc77f",
     "locked": true,
     "schema_version": 3,
     "solution": false,
     "task": false
    }
   },
   "outputs": [],
   "source": [
    "with open('datasets/word_subset.txt') as fwords:\n",
    "    vocab_strings = fwords.read().splitlines()\n",
    "\n",
    "full_vocab_vecs = []\n",
    "for tok in vocab_strings:\n",
    "    full_vocab_vecs.append(nlp.vocab.get_vector(tok))\n",
    "\n",
    "vocab_array = np.array(full_vocab_vecs)"
   ]
  },
  {
   "cell_type": "code",
   "execution_count": 38,
   "metadata": {},
   "outputs": [
    {
     "name": "stdout",
     "output_type": "stream",
     "text": [
      "Word vectors shape pre-PCA: (103202, 300)\n",
      "Word vectors shape after PCA: (103202, 2)\n"
     ]
    }
   ],
   "source": [
    "print('Word vectors shape pre-PCA: {}'.format(vocab_array.shape))\n",
    "\n",
    "full_vocab_reduced = reduce_word_vecs(vocab_array, random_state=42)\n",
    "\n",
    "print('Word vectors shape after PCA: {}'.format(full_vocab_reduced.shape))"
   ]
  },
  {
   "cell_type": "code",
   "execution_count": 39,
   "metadata": {
    "deletable": false,
    "editable": false,
    "nbgrader": {
     "grade": true,
     "grade_id": "cell-93396749fc10fb39",
     "locked": true,
     "points": 1,
     "schema_version": 3,
     "solution": false,
     "task": false
    }
   },
   "outputs": [],
   "source": [
    "assert math.isclose(full_vocab_reduced[100][0], -3.0880196, abs_tol=0.00001)\n",
    "assert math.isclose(full_vocab_reduced[9999][0], -0.9480563, abs_tol=0.00001)"
   ]
  },
  {
   "cell_type": "markdown",
   "metadata": {
    "deletable": false,
    "editable": false,
    "nbgrader": {
     "grade": false,
     "grade_id": "cell-a0feaee69a29da92",
     "locked": true,
     "schema_version": 3,
     "solution": false,
     "task": false
    }
   },
   "source": [
    "### Q5.c)\n",
    "\n",
    "Time to plot! For this, we'll limit the visualized words to a small subset."
   ]
  },
  {
   "cell_type": "code",
   "execution_count": 40,
   "metadata": {
    "deletable": false,
    "editable": false,
    "nbgrader": {
     "grade": false,
     "grade_id": "cell-9415c85fbda3dbb5",
     "locked": true,
     "schema_version": 3,
     "solution": false,
     "task": false
    }
   },
   "outputs": [],
   "source": [
    "coords = []\n",
    "for word in words_to_plot:\n",
    "    idx = vocab_strings.index(word)\n",
    "    coords.append(full_vocab_reduced[idx])\n",
    "\n",
    "coords_array = np.array(coords)"
   ]
  },
  {
   "cell_type": "code",
   "execution_count": 41,
   "metadata": {
    "deletable": false,
    "editable": false,
    "nbgrader": {
     "grade": false,
     "grade_id": "cell-d7c059bc4a449b27",
     "locked": true,
     "schema_version": 3,
     "solution": false,
     "task": false
    }
   },
   "outputs": [
    {
     "data": {
      "image/png": "[encoded data removed]",
      "text/plain": [
       "<Figure size 640x640 with 1 Axes>"
      ]
     },
     "metadata": {},
     "output_type": "display_data"
    }
   ],
   "source": [
    "plt.figure(num=None, figsize=(8, 8), dpi=80, facecolor='w', edgecolor='k')\n",
    "\n",
    "plt.xlim(min([x for x in coords_array[:,0]]), max([x for x in coords_array[:,0]]))\n",
    "plt.ylim(min([y for y in coords_array[:,1]]), max([y for y in coords_array[:,1]]))\n",
    "plt.scatter(coords_array[:,0], coords_array[:,1])\n",
    "\n",
    "for item, x, y in zip(words_to_plot, coords_array[:,0], coords_array[:,1]):\n",
    "    plt.annotate(item, xy=(x, y), xytext=(-2, 2), textcoords='offset points', \n",
    "                 ha='right', va='bottom', color='purple', fontsize=14 )\n",
    "plt.show()"
   ]
  },
  {
   "cell_type": "markdown",
   "metadata": {
    "deletable": false,
    "editable": false,
    "nbgrader": {
     "grade": false,
     "grade_id": "cell-2dcc429eed65a7f5",
     "locked": true,
     "schema_version": 3,
     "solution": false,
     "task": false
    }
   },
   "source": [
    "The PCA seems to have worked! In the diagram we can see similar types of words closer together. But of course, take these visualizations with a grain of salt because it is practically impossible to preserve all distances in a high dimensional space in just 2 dimensions."
   ]
  },
  {
   "cell_type": "markdown",
   "metadata": {
    "deletable": false,
    "editable": false,
    "nbgrader": {
     "grade": false,
     "grade_id": "cell-6a980c450673e4fe",
     "locked": true,
     "schema_version": 3,
     "solution": false,
     "task": false
    }
   },
   "source": [
    "### Q5.d) \n",
    "\n",
    "As a final exercise, we'll look at some word similarities.\n",
    "\n",
    "Write a function that returns the next closest word in terms of cosine similarity to a given word. If there are multiple words with the same highest similarity, return all of them.\n",
    "\n",
    "Hint: you can use the already-imported `cosine_similarity` function from sklearn to compute cosine similarity."
   ]
  },
  {
   "cell_type": "code",
   "execution_count": 42,
   "metadata": {
    "deletable": false,
    "nbgrader": {
     "grade": false,
     "grade_id": "cell-72bc3a66c2a8f550",
     "locked": false,
     "schema_version": 3,
     "solution": true,
     "task": false
    }
   },
   "outputs": [],
   "source": [
    "def closest_word(input_word, words_in_vocab, word_vectors):\n",
    "    '''Returns a list of the closest word or words to the input word, based on cosine similarities\n",
    "       of the word vectors given\n",
    "    \n",
    "    Parameters:\n",
    "        input_word (string): Search for the closest words to this word\n",
    "        words_in_vocab (list): Vocabulary associated with the vectors in word_vectors\n",
    "        word_vectors (np.array): Word vectors associated with the strings in words_in_vocab\n",
    "\n",
    "    Returns:\n",
    "        closest_words_list (list): List of strings containing the closest word or words to\n",
    "                                   input_word, based on cosine similarities of the word_vectors\n",
    "    '''\n",
    "    # get feature vector for input word\n",
    "    input_word_vector = word_vectors[words_in_vocab.index(input_word)]\n",
    "    \n",
    "    # calculate similarity scores\n",
    "    similarity_scores = cosine_similarity(input_word_vector.reshape(1, -1), word_vectors).T\n",
    "    \n",
    "    # get closest\n",
    "    closest_words_list = [[tup[0] for tup in sorted(zip(words_in_vocab, similarity_scores), key=lambda x: x[1], reverse=True)][1]]\n",
    "    \n",
    "    return closest_words_list"
   ]
  },
  {
   "cell_type": "code",
   "execution_count": 43,
   "metadata": {
    "deletable": false,
    "editable": false,
    "nbgrader": {
     "grade": true,
     "grade_id": "cell-d06a90ba7d38c797",
     "locked": true,
     "points": 1,
     "schema_version": 3,
     "solution": false,
     "task": false
    }
   },
   "outputs": [],
   "source": [
    "assert(hashlib.sha256(closest_word('nintendo', words_to_plot, coords_array)[0].encode()).hexdigest() == \"f711da60664c04c146d7a47b722c38a8d0bf46c3f52c2084c5c8d1cb78138e73\")\n",
    "assert(hashlib.sha256(closest_word('playing', words_to_plot, coords_array)[0].encode()).hexdigest() == \"435c149cbc6a5e5cc373cd33347d4c336a22160e06b7df61092b66e56f4d55ec\")\n",
    "assert(hashlib.sha256(closest_word('pineapple', words_to_plot, coords_array)[0].encode()).hexdigest() == \"6815f3c300383519de8e437497e2c3e97852fe8d717a5419d5aafb00cb43c494\")"
   ]
  },
  {
   "cell_type": "code",
   "execution_count": 44,
   "metadata": {},
   "outputs": [
    {
     "name": "stdout",
     "output_type": "stream",
     "text": [
      "\n",
      "Closest words to nintendo:\n",
      "['xbox']\n",
      "\n",
      "Closest words to playing:\n",
      "['studying']\n",
      "\n",
      "Closest words to pineapple:\n",
      "['mango']\n"
     ]
    }
   ],
   "source": [
    "print(\"\\nClosest words to nintendo:\")\n",
    "print(closest_word('nintendo', words_to_plot, coords_array))\n",
    "\n",
    "print(\"\\nClosest words to playing:\")\n",
    "print(closest_word('playing', words_to_plot, coords_array))\n",
    "\n",
    "print(\"\\nClosest words to pineapple:\")\n",
    "print(closest_word('pineapple', words_to_plot, coords_array))"
   ]
  }
 ],
 "metadata": {
  "kernelspec": {
   "display_name": "Python 3",
   "language": "python",
   "name": "python3"
  },
  "language_info": {
   "codemirror_mode": {
    "name": "ipython",
    "version": 3
   },
   "file_extension": ".py",
   "mimetype": "text/x-python",
   "name": "python",
   "nbconvert_exporter": "python",
   "pygments_lexer": "ipython3",
   "version": "3.6.9"
  }
 },
 "nbformat": 4,
 "nbformat_minor": 2
}
