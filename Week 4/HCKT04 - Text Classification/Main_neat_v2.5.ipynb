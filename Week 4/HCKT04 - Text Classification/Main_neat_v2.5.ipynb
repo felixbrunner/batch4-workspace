{
 "cells": [
  {
   "cell_type": "code",
   "execution_count": 50,
   "metadata": {},
   "outputs": [],
   "source": [
    "import math\n",
    "import hashlib\n",
    "import inspect\n",
    "import json\n",
    "import pandas as pd\n",
    "import numpy as np\n",
    "import re\n",
    "from hashlib import sha256\n",
    "from collections import Counter\n",
    "import string\n",
    "import os\n",
    "import random\n",
    "\n",
    "\n",
    "import numpy as np\n",
    "from numpy import dot\n",
    "from numpy.linalg import norm\n",
    "\n",
    "\n",
    "# from bs4 import BeautifulSoup\n",
    "from sklearn.feature_extraction.text import TfidfVectorizer\n",
    "from nltk.tokenize import WordPunctTokenizer\n",
    "from sklearn.ensemble import RandomForestClassifier\n",
    "from sklearn.model_selection import train_test_split\n",
    "from sklearn.pipeline import Pipeline, FeatureUnion\n",
    "from sklearn.base import BaseEstimator, TransformerMixin\n",
    "from sklearn.preprocessing import StandardScaler\n",
    "import spacy\n",
    "from spacy.matcher import Matcher\n",
    "from nltk.tokenize import WordPunctTokenizer\n",
    "from spacy.lang.en import English\n",
    "from spacy.matcher import Matcher\n",
    "\n",
    "from sklearn.feature_selection import SelectKBest, chi2\n",
    "\n",
    "from sklearn.metrics import f1_score\n",
    "\n",
    "from sklearn.metrics import confusion_matrix\n"
   ]
  },
  {
   "cell_type": "code",
   "execution_count": 51,
   "metadata": {},
   "outputs": [],
   "source": [
    "df = pd.read_csv(\"hackathon/hckt04/HCKT04 - Text Classification/data/covid19_data.csv\")"
   ]
  },
  {
   "cell_type": "code",
   "execution_count": null,
   "metadata": {},
   "outputs": [],
   "source": []
  },
  {
   "cell_type": "code",
   "execution_count": 52,
   "metadata": {},
   "outputs": [],
   "source": [
    "def true_or_false(x, next_phase=False): # clara's\n",
    "    \n",
    "    if next_phase:\n",
    "        if x.lower() in [\"correct\", \"true\", \"explanatory\", \"correct attribution\", \"news\", \"mostly true\",\"half true\", \"collections\", \"half truth\", \"partially true\"]:\n",
    "            x = \"true\"\n",
    "        else:\n",
    "            x = \"false\"\n",
    "    else:\n",
    "\n",
    "        if x.lower() in [\"correct\", \"true\", \"explanatory\", \"correct attribution\", \"news\", \"mostly true\"]:\n",
    "            x = \"true\"\n",
    "        else:\n",
    "            x = \"false\"\n",
    "    return x"
   ]
  },
  {
   "cell_type": "code",
   "execution_count": 53,
   "metadata": {},
   "outputs": [],
   "source": [
    "df[\"class\"]=df[\"class\"].apply(str).apply(true_or_false)"
   ]
  },
  {
   "cell_type": "markdown",
   "metadata": {},
   "source": [
    "## Baseline"
   ]
  },
  {
   "cell_type": "code",
   "execution_count": 54,
   "metadata": {},
   "outputs": [],
   "source": [
    "train_test_split?"
   ]
  },
  {
   "cell_type": "code",
   "execution_count": 55,
   "metadata": {},
   "outputs": [
    {
     "data": {
      "text/plain": [
       "0.2608695652173913"
      ]
     },
     "execution_count": 55,
     "metadata": {},
     "output_type": "execute_result"
    }
   ],
   "source": [
    "# with just title, no preprocessing, vectorizer, chi2 selector, and random_forest clf\n",
    "\n",
    "# Split in train and validation\n",
    "train_data, test_data = train_test_split(df, test_size=0.2,stratify=df[\"class\"])\n",
    "\n",
    "# Build the pipeline\n",
    "text_clf = Pipeline([('tfidf', TfidfVectorizer()),\n",
    "                     (\"ch2\" , SelectKBest(chi2, k=20)),\n",
    "                     ('classifier', RandomForestClassifier())])\n",
    "\n",
    "# Train the classifier\n",
    "text_clf.fit(train_data['title'].values, train_data[\"class\"].values)\n",
    "\n",
    "predicted = text_clf.predict(test_data['title'].values)\n",
    "\n",
    "f1_score(y_true=test_data[\"class\"].values, y_pred=predicted, pos_label=\"true\")"
   ]
  },
  {
   "cell_type": "code",
   "execution_count": 56,
   "metadata": {
    "scrolled": true
   },
   "outputs": [
    {
     "data": {
      "text/plain": [
       "array([[1087,    1],\n",
       "       [  16,    3]])"
      ]
     },
     "execution_count": 56,
     "metadata": {},
     "output_type": "execute_result"
    }
   ],
   "source": [
    "confusion_matrix(test_data[\"class\"].values, predicted)"
   ]
  },
  {
   "cell_type": "code",
   "execution_count": 57,
   "metadata": {},
   "outputs": [],
   "source": [
    "def build_submission(predictions, file_name):\n",
    "    submission = pd.DataFrame()\n",
    "    submission['class'] = predictions\n",
    "    submission.to_csv('./'+file_name+'.csv', index=False)\n",
    "    return submission"
   ]
  },
  {
   "cell_type": "code",
   "execution_count": 58,
   "metadata": {},
   "outputs": [],
   "source": [
    "# actual_test_df = pd.read_csv(\"data/covid19_unlabelled_test.csv\")\n",
    "# actual_pred = text_clf.predict(actual_test_df['title'].values)\n",
    "\n",
    "# build_submission(actual_pred)"
   ]
  },
  {
   "cell_type": "markdown",
   "metadata": {},
   "source": [
    "## Adding title length"
   ]
  },
  {
   "cell_type": "code",
   "execution_count": 59,
   "metadata": {},
   "outputs": [],
   "source": [
    "df['title_length'] = df['title'].str.split().map(len)"
   ]
  },
  {
   "cell_type": "code",
   "execution_count": 60,
   "metadata": {},
   "outputs": [],
   "source": [
    "class Selector(BaseEstimator, TransformerMixin):\n",
    "    \"\"\"\n",
    "    Transformer to select a column from the dataframe to perform additional transformations on\n",
    "    \"\"\" \n",
    "    def __init__(self, key):\n",
    "        self.key = key\n",
    "        \n",
    "    def fit(self, X, y=None):\n",
    "        return self\n",
    "    \n",
    "    \n",
    "\n",
    "class TextSelector(Selector):\n",
    "    \"\"\"\n",
    "    Transformer to select a single column from the data frame to perform additional transformations on\n",
    "    Use on text columns in the data\n",
    "    \"\"\"\n",
    "    def transform(self, X):\n",
    "        return X[self.key]\n",
    "    \n",
    "    \n",
    "class NumberSelector(Selector):\n",
    "    \"\"\"\n",
    "    Transformer to select a single column from the data frame to perform additional transformations on\n",
    "    Use on numeric columns in the data\n",
    "    \"\"\"\n",
    "    def transform(self, X):\n",
    "        return X[[self.key]]"
   ]
  },
  {
   "cell_type": "code",
   "execution_count": 91,
   "metadata": {},
   "outputs": [
    {
     "data": {
      "text/plain": [
       "count     5531\n",
       "unique      96\n",
       "top        AFP\n",
       "freq       515\n",
       "Name: verifiedby, dtype: object"
      ]
     },
     "execution_count": 91,
     "metadata": {},
     "output_type": "execute_result"
    }
   ],
   "source": [
    "# Split in train and validation\n",
    "train_data, test_data = train_test_split(df, test_size=0.2, random_state=42)\n",
    "\n",
    "# Build the pipeline\n",
    "# first text\n",
    "title_pipe = Pipeline([\n",
    "                ('selector', TextSelector(\"title\")),\n",
    "                ('tfidf', TfidfVectorizer(ngram_range=(1,2))),\n",
    "                (\"ch2\" , SelectKBest(chi2, k=20))\n",
    "                ])\n",
    "\n",
    "# then numbers\n",
    "title_lenght_pipe  = Pipeline([\n",
    "                ('selector', NumberSelector(\"title_length\")),\n",
    "                ('scaler', StandardScaler())\n",
    "                ])\n",
    "\n",
    "# unite them\n",
    "\n",
    "title_feats = FeatureUnion([('title', title_pipe), \n",
    "                            ('title_length', title_lenght_pipe)\n",
    "                           ])\n",
    "\n",
    "\n",
    "\n",
    "final_pipeline = Pipeline([\n",
    "    ('title_feats',title_feats),\n",
    "    ('classifier', RandomForestClassifier(random_state=42)),\n",
    "])"
   ]
  },
  {
   "cell_type": "code",
   "execution_count": 83,
   "metadata": {
    "scrolled": true
   },
   "outputs": [
    {
     "data": {
      "text/plain": [
       "0.25"
      ]
     },
     "execution_count": 83,
     "metadata": {},
     "output_type": "execute_result"
    }
   ],
   "source": [
    "final_pipeline.fit(train_data, train_data[\"class\"].values)\n",
    "\n",
    "predicted = final_pipeline.predict(test_data)\n",
    "\n",
    "f1_score(y_true=test_data[\"class\"].values, y_pred=predicted, pos_label=\"true\")\n"
   ]
  },
  {
   "cell_type": "code",
   "execution_count": 74,
   "metadata": {},
   "outputs": [
    {
     "data": {
      "text/plain": [
       "13"
      ]
     },
     "execution_count": 74,
     "metadata": {},
     "output_type": "execute_result"
    }
   ],
   "source": [
    "(test_data[\"class\"]==\"true\").sum()"
   ]
  },
  {
   "cell_type": "code",
   "execution_count": 75,
   "metadata": {
    "scrolled": true
   },
   "outputs": [
    {
     "data": {
      "text/plain": [
       "array([[1094,    0],\n",
       "       [   7,    6]])"
      ]
     },
     "execution_count": 75,
     "metadata": {},
     "output_type": "execute_result"
    }
   ],
   "source": [
    "confusion_matrix(test_data[\"class\"], predicted)"
   ]
  },
  {
   "cell_type": "code",
   "execution_count": 76,
   "metadata": {
    "scrolled": true
   },
   "outputs": [
    {
     "data": {
      "text/html": [
       "<div>\n",
       "<style scoped>\n",
       "    .dataframe tbody tr th:only-of-type {\n",
       "        vertical-align: middle;\n",
       "    }\n",
       "\n",
       "    .dataframe tbody tr th {\n",
       "        vertical-align: top;\n",
       "    }\n",
       "\n",
       "    .dataframe thead th {\n",
       "        text-align: right;\n",
       "    }\n",
       "</style>\n",
       "<table border=\"1\" class=\"dataframe\">\n",
       "  <thead>\n",
       "    <tr style=\"text-align: right;\">\n",
       "      <th></th>\n",
       "      <th>class</th>\n",
       "    </tr>\n",
       "  </thead>\n",
       "  <tbody>\n",
       "    <tr>\n",
       "      <th>0</th>\n",
       "      <td>false</td>\n",
       "    </tr>\n",
       "    <tr>\n",
       "      <th>1</th>\n",
       "      <td>true</td>\n",
       "    </tr>\n",
       "    <tr>\n",
       "      <th>2</th>\n",
       "      <td>false</td>\n",
       "    </tr>\n",
       "    <tr>\n",
       "      <th>3</th>\n",
       "      <td>false</td>\n",
       "    </tr>\n",
       "    <tr>\n",
       "      <th>4</th>\n",
       "      <td>false</td>\n",
       "    </tr>\n",
       "    <tr>\n",
       "      <th>...</th>\n",
       "      <td>...</td>\n",
       "    </tr>\n",
       "    <tr>\n",
       "      <th>2087</th>\n",
       "      <td>false</td>\n",
       "    </tr>\n",
       "    <tr>\n",
       "      <th>2088</th>\n",
       "      <td>false</td>\n",
       "    </tr>\n",
       "    <tr>\n",
       "      <th>2089</th>\n",
       "      <td>false</td>\n",
       "    </tr>\n",
       "    <tr>\n",
       "      <th>2090</th>\n",
       "      <td>false</td>\n",
       "    </tr>\n",
       "    <tr>\n",
       "      <th>2091</th>\n",
       "      <td>false</td>\n",
       "    </tr>\n",
       "  </tbody>\n",
       "</table>\n",
       "<p>2092 rows × 1 columns</p>\n",
       "</div>"
      ],
      "text/plain": [
       "      class\n",
       "0     false\n",
       "1      true\n",
       "2     false\n",
       "3     false\n",
       "4     false\n",
       "...     ...\n",
       "2087  false\n",
       "2088  false\n",
       "2089  false\n",
       "2090  false\n",
       "2091  false\n",
       "\n",
       "[2092 rows x 1 columns]"
      ]
     },
     "execution_count": 76,
     "metadata": {},
     "output_type": "execute_result"
    }
   ],
   "source": [
    "actual_test_df = pd.read_csv(\"hackathon/hckt04/HCKT04 - Text Classification/data/covid19_unlabelled_test.csv\")\n",
    "actual_test_df['title_length'] = actual_test_df['title'].str.split().map(len)\n",
    "actual_pred = final_pipeline.predict(actual_test_df)\n",
    "\n",
    "build_submission(actual_pred, \"submission2\")"
   ]
  },
  {
   "cell_type": "markdown",
   "metadata": {},
   "source": []
  },
  {
   "cell_type": "markdown",
   "metadata": {},
   "source": [
    "## ver2.5 "
   ]
  },
  {
   "cell_type": "code",
   "execution_count": 84,
   "metadata": {},
   "outputs": [],
   "source": []
  },
  {
   "cell_type": "code",
   "execution_count": 108,
   "metadata": {},
   "outputs": [],
   "source": [
    "# Split in train and validation\n",
    "train_data, test_data = train_test_split(df, test_size=0.2, random_state=42)\n",
    "\n",
    "# Build the pipeline\n",
    "# first title text\n",
    "title_pipe = Pipeline([\n",
    "                ('selector', TextSelector(\"title\")),\n",
    "                ('tfidf', TfidfVectorizer(ngram_range=(1,2))),\n",
    "                (\"ch2\" , SelectKBest(chi2, k=20))\n",
    "                ])\n",
    "#debunker titles translated\n",
    "verified_pipe = Pipeline([\n",
    "                ('selector', TextSelector(\"verifiedby\")),\n",
    "                ('tfidf', TfidfVectorizer(ngram_range=(1,2))),\n",
    "                (\"ch2\" , SelectKBest(chi2, k=20))\n",
    "                ])\n",
    "\n",
    "ref_source_pipe = Pipeline([\n",
    "                ('selector', TextSelector(\"ref_source\")),\n",
    "                ('tfidf', TfidfVectorizer()),\n",
    "                (\"ch2\" , SelectKBest(chi2, k=20))\n",
    "                ])\n",
    "\n",
    "#then numbers\n",
    "title_lenght_pipe  = Pipeline([\n",
    "                ('selector', NumberSelector(\"title_length\")),\n",
    "                ('scaler', StandardScaler())\n",
    "                ])\n",
    "\n",
    "# unite them\n",
    "\n",
    "title_feats = FeatureUnion([\n",
    "                            ('title', title_pipe),\n",
    "                            ('verified_pipe', verified_pipe),\n",
    "                            #('ref_source_pipe', ref_source_pipe),    \n",
    "                            ('title_lenght_pipe', title_lenght_pipe) \n",
    "                           ])\n",
    "\n",
    "\n",
    "\n",
    "final_pipeline = Pipeline([\n",
    "    ('title_feats',title_feats),\n",
    "    ('classifier', RandomForestClassifier(random_state=42)),\n",
    "])\n"
   ]
  },
  {
   "cell_type": "code",
   "execution_count": 109,
   "metadata": {
    "scrolled": true
   },
   "outputs": [
    {
     "data": {
      "text/plain": [
       "0.6666666666666667"
      ]
     },
     "execution_count": 109,
     "metadata": {},
     "output_type": "execute_result"
    }
   ],
   "source": [
    "final_pipeline.fit(train_data, train_data[\"class\"].values)\n",
    "\n",
    "predicted = final_pipeline.predict(test_data)\n",
    "\n",
    "f1_score(y_true=test_data[\"class\"].values, y_pred=predicted, pos_label=\"true\")\n"
   ]
  },
  {
   "cell_type": "code",
   "execution_count": 110,
   "metadata": {},
   "outputs": [
    {
     "data": {
      "text/plain": [
       "13"
      ]
     },
     "execution_count": 110,
     "metadata": {},
     "output_type": "execute_result"
    }
   ],
   "source": [
    "(test_data[\"class\"]==\"true\").sum()"
   ]
  },
  {
   "cell_type": "code",
   "execution_count": 111,
   "metadata": {
    "scrolled": true
   },
   "outputs": [
    {
     "data": {
      "text/plain": [
       "array([[1093,    1],\n",
       "       [   6,    7]])"
      ]
     },
     "execution_count": 111,
     "metadata": {},
     "output_type": "execute_result"
    }
   ],
   "source": [
    "confusion_matrix(test_data[\"class\"], predicted)"
   ]
  },
  {
   "cell_type": "code",
   "execution_count": 112,
   "metadata": {
    "scrolled": true
   },
   "outputs": [
    {
     "data": {
      "text/html": [
       "<div>\n",
       "<style scoped>\n",
       "    .dataframe tbody tr th:only-of-type {\n",
       "        vertical-align: middle;\n",
       "    }\n",
       "\n",
       "    .dataframe tbody tr th {\n",
       "        vertical-align: top;\n",
       "    }\n",
       "\n",
       "    .dataframe thead th {\n",
       "        text-align: right;\n",
       "    }\n",
       "</style>\n",
       "<table border=\"1\" class=\"dataframe\">\n",
       "  <thead>\n",
       "    <tr style=\"text-align: right;\">\n",
       "      <th></th>\n",
       "      <th>class</th>\n",
       "    </tr>\n",
       "  </thead>\n",
       "  <tbody>\n",
       "    <tr>\n",
       "      <th>0</th>\n",
       "      <td>false</td>\n",
       "    </tr>\n",
       "    <tr>\n",
       "      <th>1</th>\n",
       "      <td>true</td>\n",
       "    </tr>\n",
       "    <tr>\n",
       "      <th>2</th>\n",
       "      <td>false</td>\n",
       "    </tr>\n",
       "    <tr>\n",
       "      <th>3</th>\n",
       "      <td>false</td>\n",
       "    </tr>\n",
       "    <tr>\n",
       "      <th>4</th>\n",
       "      <td>false</td>\n",
       "    </tr>\n",
       "    <tr>\n",
       "      <th>...</th>\n",
       "      <td>...</td>\n",
       "    </tr>\n",
       "    <tr>\n",
       "      <th>2087</th>\n",
       "      <td>false</td>\n",
       "    </tr>\n",
       "    <tr>\n",
       "      <th>2088</th>\n",
       "      <td>false</td>\n",
       "    </tr>\n",
       "    <tr>\n",
       "      <th>2089</th>\n",
       "      <td>false</td>\n",
       "    </tr>\n",
       "    <tr>\n",
       "      <th>2090</th>\n",
       "      <td>false</td>\n",
       "    </tr>\n",
       "    <tr>\n",
       "      <th>2091</th>\n",
       "      <td>false</td>\n",
       "    </tr>\n",
       "  </tbody>\n",
       "</table>\n",
       "<p>2092 rows × 1 columns</p>\n",
       "</div>"
      ],
      "text/plain": [
       "      class\n",
       "0     false\n",
       "1      true\n",
       "2     false\n",
       "3     false\n",
       "4     false\n",
       "...     ...\n",
       "2087  false\n",
       "2088  false\n",
       "2089  false\n",
       "2090  false\n",
       "2091  false\n",
       "\n",
       "[2092 rows x 1 columns]"
      ]
     },
     "execution_count": 112,
     "metadata": {},
     "output_type": "execute_result"
    }
   ],
   "source": [
    "actual_test_df = pd.read_csv(\"hackathon/hckt04/HCKT04 - Text Classification/data/covid19_unlabelled_test.csv\")\n",
    "actual_test_df['title_length'] = actual_test_df['title'].str.split().map(len)\n",
    "actual_pred = final_pipeline.predict(actual_test_df)\n",
    "\n",
    "build_submission(actual_pred, \"submission2\")"
   ]
  },
  {
   "cell_type": "markdown",
   "metadata": {},
   "source": [
    "## 3rd submission add country rate\n"
   ]
  },
  {
   "cell_type": "code",
   "execution_count": null,
   "metadata": {},
   "outputs": [],
   "source": []
  }
 ],
 "metadata": {
  "kernelspec": {
   "display_name": "Python 3",
   "language": "python",
   "name": "python3"
  },
  "language_info": {
   "codemirror_mode": {
    "name": "ipython",
    "version": 3
   },
   "file_extension": ".py",
   "mimetype": "text/x-python",
   "name": "python",
   "nbconvert_exporter": "python",
   "pygments_lexer": "ipython3",
   "version": "3.6.9"
  }
 },
 "nbformat": 4,
 "nbformat_minor": 4
}
