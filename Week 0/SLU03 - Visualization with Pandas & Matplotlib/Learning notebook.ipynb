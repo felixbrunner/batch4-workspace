{
 "cells": [
  {
   "cell_type": "markdown",
   "metadata": {},
   "source": [
    "# SLU03-Visualization with Pandas & Matplotlib: Learning notebook\n",
    "\n",
    "In this notebook we will cover the following: \n",
    "\n",
    "- Scatterplots\n",
    "- Line charts\n",
    "- Bar charts\n",
    "- Histograms\n",
    "- Box plots\n",
    "- Scaling plots\n",
    "- Chartjunk\n",
    "- Matplotlib basics\n",
    "- How to choose the right chart"
   ]
  },
  {
   "cell_type": "markdown",
   "metadata": {},
   "source": [
    "# Some theory first!"
   ]
  },
  {
   "cell_type": "markdown",
   "metadata": {},
   "source": [
    "Data Visualization techniques serve 3 main purposes:"
   ]
  },
  {
   "cell_type": "markdown",
   "metadata": {},
   "source": [
    "**Purpose 1.Communicate an idea**\n",
    "\n",
    "Data Visualization (or *DataViz*) techniques can be used very effectively to communicate an idea to an external party.\n",
    "\n",
    "Here is an example:\n",
    "\n",
    "![cholera_map](./data/map.jpeg)"
   ]
  },
  {
   "cell_type": "markdown",
   "metadata": {},
   "source": [
    "This map is one of the oldest dataviz examples that exist. In 1854, London was being ravaged by a deadly cholera outbreak. \n",
    "\n",
    "At that time, doctors believed that cholera vector of contagion was by the air, via what they called *“bad humours”*, that is , bad air floating around. Doctor John Snow had a different idea, as he believed water was the main way of spreading the disease.\n",
    "\n",
    "So what he did is he went to the area with the most cholera cases detected, and did a survey, counting how many people had been infected in each neighbourhood block. And then he displayed it on a map. Here each tiny black rectangle represents an infected person. \n",
    "\n",
    "At that point it became obvious that the biggest focus of disease emanated from a well on Broad Street (you can see it labelled \"pump\" right at the epicenter of the infected cases). After using this map to convince both his colleagues and the local authorities, John Snow managed to close the infected well, and soon after the cholera outbreak stopped.\n",
    "\n",
    "[Here](https://www.rcseng.ac.uk/library-and-publications/library/blog/mapping-disease-john-snow-and-cholera/) is an in-depth article about John Snow's map\n"
   ]
  },
  {
   "cell_type": "markdown",
   "metadata": {},
   "source": [
    "**Purpose 2.Data Understanding**\n",
    "\n",
    "For any scientist, or analyst, data visualization really helps to gain a better understanding  and discover patterns on the data we are analyzing.\n",
    "\n",
    "A classic example of this is the  Anscombe Quartet:\n",
    "\n",
    "![anscombe](./data/anscombe.jpeg)"
   ]
  },
  {
   "cell_type": "markdown",
   "metadata": {},
   "source": [
    " This is a dataset, created by Francis Anscombe, that consists of 4 different series of x and y (shown on the top left of the image above). If a statistician were to analyze this dataset just by looking at some summary statistics (shown on the top right of the image above), he would see that for each one of these series, the statistics are the same. Same mean of x, mean of y, variance. So he could get to the conclusion that he had the same series of x and y repeated 4 times!\n",
    "\n",
    "Well, if instead of just looking at summary statistics he had plotted each series independently (shown on the bottom of the image above), he would have realized that each one of the 4 series is completely different, just happen to have the same statistics."
   ]
  },
  {
   "cell_type": "markdown",
   "metadata": {},
   "source": [
    "**Purpose 3.Monitorization**\n",
    "\n",
    "Another use of data visualization is to help monitoring processes or performance of a company. This monitorization is usually performed via a dashboard.\n",
    "\n",
    "A dashboard is basically a visual interface where key metrics are displayed. This way the person or department who owns such dashboard can check very easily the current status of whatever they are in charge of.\n",
    "\n",
    "Look at this example:\n",
    "\n",
    "![dashboard](./data/dashboard.png)\n",
    "\n",
    "\n",
    "The image on the left shows a \"report\" consisting of tens of columns and rows that was sent to a company's CFO, the image on the right is a dashboard representing the same data. We can see that by representing the data visually, we are doing the job of processing the data, so the person in charge (the CFO) can focus on their expertise, that is finding insights and making decisions. "
   ]
  },
  {
   "cell_type": "markdown",
   "metadata": {},
   "source": [
    "We are going to proceed now to learn the basics of visualization with python, but just before that, a word of caution about one of the pitfalls of data visualization, **Chartjunk**.\n",
    "\n",
    "What is chartjunk? well, it is easily described with an example:\n",
    "\n",
    "![chartjunk1](./data/chartjunk1.jpg)\n",
    "\n",
    "Not clear? How about this one:\n",
    "\n",
    "![chartjunk2](./data/chartjunk2.png)\n",
    "\n",
    "\n",
    "[Chartjunk](https://www.edwardtufte.com/bboard/q-and-a-fetch-msg?msg_id=00040Z) consist of any visual information that doesn't help the visualization, and that in facts makes it harder to understand.  Since Data visualization is a very creative part of Data Science, we are sometimes tempted to make compelling, innovative visualizations. This is great, but we need to always be aware of the elements we are adding to our visualization. Are they absolutely necessary?  As a rule of thumb, if you have to explain your visualization, it's probably too complex.\n",
    "\n",
    "---"
   ]
  },
  {
   "cell_type": "markdown",
   "metadata": {},
   "source": [
    "# Let's move to the practice!"
   ]
  },
  {
   "cell_type": "markdown",
   "metadata": {},
   "source": [
    "We start by importing pandas and matplotlib."
   ]
  },
  {
   "cell_type": "code",
   "execution_count": 1,
   "metadata": {},
   "outputs": [
    {
     "ename": "ModuleNotFoundError",
     "evalue": "No module named 'matplotlib.artist'",
     "output_type": "error",
     "traceback": [
      "\u001b[1;31m---------------------------------------------------------------------------\u001b[0m",
      "\u001b[1;31mModuleNotFoundError\u001b[0m                       Traceback (most recent call last)",
      "\u001b[1;32m<ipython-input-1-71225e3ad40e>\u001b[0m in \u001b[0;36m<module>\u001b[1;34m()\u001b[0m\n\u001b[0;32m      1\u001b[0m \u001b[1;32mimport\u001b[0m \u001b[0mpandas\u001b[0m \u001b[1;32mas\u001b[0m \u001b[0mpd\u001b[0m\u001b[1;33m\u001b[0m\u001b[0m\n\u001b[1;32m----> 2\u001b[1;33m \u001b[1;32mimport\u001b[0m \u001b[0mmatplotlib\u001b[0m\u001b[1;33m.\u001b[0m\u001b[0mpyplot\u001b[0m \u001b[1;32mas\u001b[0m \u001b[0mplt\u001b[0m\u001b[1;33m\u001b[0m\u001b[0m\n\u001b[0m",
      "\u001b[1;32mC:\\ProgramData\\Anaconda3\\lib\\site-packages\\matplotlib\\pyplot.py\u001b[0m in \u001b[0;36m<module>\u001b[1;34m()\u001b[0m\n\u001b[0;32m     30\u001b[0m \u001b[1;32mfrom\u001b[0m \u001b[0mcycler\u001b[0m \u001b[1;32mimport\u001b[0m \u001b[0mcycler\u001b[0m\u001b[1;33m\u001b[0m\u001b[0m\n\u001b[0;32m     31\u001b[0m \u001b[1;32mimport\u001b[0m \u001b[0mmatplotlib\u001b[0m\u001b[1;33m\u001b[0m\u001b[0m\n\u001b[1;32m---> 32\u001b[1;33m \u001b[1;32mimport\u001b[0m \u001b[0mmatplotlib\u001b[0m\u001b[1;33m.\u001b[0m\u001b[0mcolorbar\u001b[0m\u001b[1;33m\u001b[0m\u001b[0m\n\u001b[0m\u001b[0;32m     33\u001b[0m \u001b[1;32mimport\u001b[0m \u001b[0mmatplotlib\u001b[0m\u001b[1;33m.\u001b[0m\u001b[0mimage\u001b[0m\u001b[1;33m\u001b[0m\u001b[0m\n\u001b[0;32m     34\u001b[0m \u001b[1;32mfrom\u001b[0m \u001b[0mmatplotlib\u001b[0m \u001b[1;32mimport\u001b[0m \u001b[0mrcsetup\u001b[0m\u001b[1;33m,\u001b[0m \u001b[0mstyle\u001b[0m\u001b[1;33m\u001b[0m\u001b[0m\n",
      "\u001b[1;32mC:\\ProgramData\\Anaconda3\\lib\\site-packages\\matplotlib\\colorbar.py\u001b[0m in \u001b[0;36m<module>\u001b[1;34m()\u001b[0m\n\u001b[0;32m     26\u001b[0m \u001b[1;33m\u001b[0m\u001b[0m\n\u001b[0;32m     27\u001b[0m \u001b[1;32mimport\u001b[0m \u001b[0mmatplotlib\u001b[0m \u001b[1;32mas\u001b[0m \u001b[0mmpl\u001b[0m\u001b[1;33m\u001b[0m\u001b[0m\n\u001b[1;32m---> 28\u001b[1;33m \u001b[1;32mimport\u001b[0m \u001b[0mmatplotlib\u001b[0m\u001b[1;33m.\u001b[0m\u001b[0martist\u001b[0m \u001b[1;32mas\u001b[0m \u001b[0mmartist\u001b[0m\u001b[1;33m\u001b[0m\u001b[0m\n\u001b[0m\u001b[0;32m     29\u001b[0m \u001b[1;32mimport\u001b[0m \u001b[0mmatplotlib\u001b[0m\u001b[1;33m.\u001b[0m\u001b[0mcbook\u001b[0m \u001b[1;32mas\u001b[0m \u001b[0mcbook\u001b[0m\u001b[1;33m\u001b[0m\u001b[0m\n\u001b[0;32m     30\u001b[0m \u001b[1;32mimport\u001b[0m \u001b[0mmatplotlib\u001b[0m\u001b[1;33m.\u001b[0m\u001b[0mcollections\u001b[0m \u001b[1;32mas\u001b[0m \u001b[0mcollections\u001b[0m\u001b[1;33m\u001b[0m\u001b[0m\n",
      "\u001b[1;31mModuleNotFoundError\u001b[0m: No module named 'matplotlib.artist'"
     ]
    }
   ],
   "source": [
    "import pandas as pd\n",
    "import matplotlib.pyplot as plt"
   ]
  },
  {
   "cell_type": "markdown",
   "metadata": {},
   "source": [
    "Matplotlib is a library initially designed to save charts to files, we usually use the submodule `pyplot` to plot things or customize plots. The convention is importing it as plt, same way as we shorten pandas as pd. (saves a few keystrokes!).\n",
    "\n",
    "When plotting charts on a jupyter notebook we have tell jupyter that we want to render the plots inside the notebook.\n",
    "\n",
    "The most common way to specify this is by using one jupyter notebook [magic commands](http://ipython.readthedocs.io/en/stable/interactive/magics.html), which are ways to modify the default behavior of the notebook.\n",
    "\n",
    "`%matplotlib inline` will set up the notebook to be used with matplotlib.\n",
    "\n",
    "**Note** This is not required when using Jupyter Lab."
   ]
  },
  {
   "cell_type": "code",
   "execution_count": null,
   "metadata": {},
   "outputs": [],
   "source": [
    "%matplotlib inline"
   ]
  },
  {
   "cell_type": "markdown",
   "metadata": {},
   "source": [
    "The dataset we are going to use is a variation of the Online Retail Dataset ([source](http://archive.ics.uci.edu/ml/datasets/online+retail))\n",
    "\n",
    "This is a transnational data set which contains all the transactions occurring between 01/12/2010 and 09/12/2011 for a UK-based and registered non-store online retail.The company mainly sells unique all-occasion gifts. Many customers of the company are wholesalers."
   ]
  },
  {
   "cell_type": "code",
   "execution_count": null,
   "metadata": {},
   "outputs": [],
   "source": [
    "data = pd.read_csv(\"data/online_orders.csv\")"
   ]
  },
  {
   "cell_type": "code",
   "execution_count": null,
   "metadata": {},
   "outputs": [],
   "source": [
    "data.head()"
   ]
  },
  {
   "cell_type": "markdown",
   "metadata": {},
   "source": [
    "The dataset consists of the following fields.\n",
    "\n",
    "- *country*: Country name\n",
    "- *date*: Date the row is showing a summary of\n",
    "- *sales*: Total sales revenue (in UK pounds) for that country and date\n",
    "- *n_items*: Number of items sold\n",
    "- *n_orders*: Number of different online orders\n",
    "- *day_of_week*: Day of week\n"
   ]
  },
  {
   "cell_type": "markdown",
   "metadata": {},
   "source": [
    "### Scatter plots\n",
    "\n",
    "We can use a scatter plot to see the relationship between the number of items sold and the total sales revenue"
   ]
  },
  {
   "cell_type": "code",
   "execution_count": null,
   "metadata": {},
   "outputs": [],
   "source": [
    "data.plot.scatter(x='n_items', y='sales');"
   ]
  },
  {
   "cell_type": "markdown",
   "metadata": {},
   "source": [
    "We have made our very first chart, yaaaay!!"
   ]
  },
  {
   "cell_type": "markdown",
   "metadata": {},
   "source": [
    "**Note**: You see that I add a semicolon (;) at the end of the cell, that is because jupyter notebooks by default return the last value., so if I run the cell without the notebook, the plot object *(some random thing like `matplotlib.axes._subplots.AxesSubplot..`)* will be displayed."
   ]
  },
  {
   "cell_type": "code",
   "execution_count": null,
   "metadata": {},
   "outputs": [],
   "source": [
    "data.plot.scatter(x='n_items', y='sales')"
   ]
  },
  {
   "cell_type": "markdown",
   "metadata": {},
   "source": [
    "Depending on your browser and your screen resolution, you might think that the previous chart is small. We can fix this by changing the matplotlib options to render bigger charts.\n",
    "\n",
    "We can set the chart size globally by changing the matplotlib default settings. These are included in the dictionary `plt.rcParams`."
   ]
  },
  {
   "cell_type": "markdown",
   "metadata": {},
   "source": [
    "The plot size is defined as a list with 2 elements, `[width, height]` in inches"
   ]
  },
  {
   "cell_type": "markdown",
   "metadata": {},
   "source": [
    "So the default chart size is 6 inches wide by 4 inches tall, which is fairly small.\n",
    "\n",
    "For example, if we want to set the chart size as 10 inches wide by 10 inches high, we would do so as:"
   ]
  },
  {
   "cell_type": "code",
   "execution_count": null,
   "metadata": {},
   "outputs": [],
   "source": [
    "plt.rcParams[\"figure.figsize\"] = [14, 14]"
   ]
  },
  {
   "cell_type": "markdown",
   "metadata": {},
   "source": [
    "Now if we plot the same chart again, we see it's bigger:"
   ]
  },
  {
   "cell_type": "code",
   "execution_count": null,
   "metadata": {},
   "outputs": [],
   "source": [
    "data.plot.scatter(x='n_items', y='sales');"
   ]
  },
  {
   "cell_type": "markdown",
   "metadata": {},
   "source": [
    "Alternatively, we can use the `%matplotlib notebook` magic command, which adds a small widget to visualize charts.\n",
    "\n",
    "**NOTE**: the `%matplotlib notebook` magic adds some code to your browser, and might not work as expected. When using this magic, after finishing interacting with one plot, make sure you turn that plot off (by clicking the off button on top of the visualization).  In case it is not working properly, you can click `\"kernel-->restart and clear output\"` to clean your notebook and start over (with `%matplotlib inline` this time)"
   ]
  },
  {
   "cell_type": "code",
   "execution_count": null,
   "metadata": {},
   "outputs": [],
   "source": [
    "%matplotlib notebook"
   ]
  },
  {
   "cell_type": "markdown",
   "metadata": {},
   "source": [
    "Now we can plot the chart again *(if it doesn't work, try running the magic cell again)*"
   ]
  },
  {
   "cell_type": "code",
   "execution_count": null,
   "metadata": {},
   "outputs": [],
   "source": [
    "data.plot.scatter(x='n_items', y='sales');"
   ]
  },
  {
   "cell_type": "markdown",
   "metadata": {},
   "source": [
    "When you use the notebook magic, you get to resize, zoom, and export the image. One important point to note is that the notebook magic embedds a widget in the notebook, and **we need to shut it down every time we do a chart (by clicking the on/off button on top of the widget)**."
   ]
  },
  {
   "cell_type": "markdown",
   "metadata": {},
   "source": [
    "Generally, when we are plotting for our own use (and we do not need to make very big plots), using `%matplotlib inline` and setting a decent plot size is simpler and works."
   ]
  },
  {
   "cell_type": "code",
   "execution_count": null,
   "metadata": {},
   "outputs": [],
   "source": [
    "%matplotlib inline\n",
    "plt.rcParams[\"figure.figsize\"] = [14, 14]"
   ]
  },
  {
   "cell_type": "code",
   "execution_count": null,
   "metadata": {},
   "outputs": [],
   "source": [
    "data.plot.scatter(x='n_items', y='sales');"
   ]
  },
  {
   "cell_type": "markdown",
   "metadata": {},
   "source": [
    "No surprises here, we see that there is a linear relationship between the number of items purchased and the sales revenue"
   ]
  },
  {
   "cell_type": "markdown",
   "metadata": {},
   "source": [
    "We can see for example how do sales relate to the day of week"
   ]
  },
  {
   "cell_type": "code",
   "execution_count": null,
   "metadata": {},
   "outputs": [],
   "source": [
    "data.plot.scatter(x='day_of_week', y=\"sales\");"
   ]
  },
  {
   "cell_type": "markdown",
   "metadata": {},
   "source": [
    "We can see that sales are generally equaly distributed, except a little uptick on Thursdays and no sales at all on Saturday!\n",
    "\n",
    "Here we can see how data visualization can help us with the data QA (Data Quality Assurance), and can help us detect inconsistencies or errors in the data. In this case we would need to make sure everything is correct, since online sales don't usually stop on saturdays."
   ]
  },
  {
   "cell_type": "markdown",
   "metadata": {},
   "source": [
    "For the types of charts that pandas supports we can use a different function to plot them using the `kind` argument.\n",
    "\n",
    "For example we can plot the same scatter plot as above by doing:"
   ]
  },
  {
   "cell_type": "code",
   "execution_count": null,
   "metadata": {},
   "outputs": [],
   "source": [
    "data.plot(x='day_of_week', y=\"sales\", kind=\"scatter\");"
   ]
  },
  {
   "cell_type": "markdown",
   "metadata": {},
   "source": [
    "# Line Chart\n",
    "\n",
    "We use line charts generally when we want to see the trend of one (or many variables) over time. For example, let's say we want to see the sales in germany compared to france over time. Pandas `plot` method tries a line plot by default.\n",
    "\n",
    "We can set the index of the dataframe to the date and pandas plot method will automatically pick it up as the x axis"
   ]
  },
  {
   "cell_type": "code",
   "execution_count": null,
   "metadata": {},
   "outputs": [],
   "source": [
    "data_indexed = data.set_index('date')"
   ]
  },
  {
   "cell_type": "code",
   "execution_count": null,
   "metadata": {},
   "outputs": [],
   "source": [
    "data_indexed.head()"
   ]
  },
  {
   "cell_type": "markdown",
   "metadata": {},
   "source": [
    "Pandas plotting library is just a thin wrapper around matplotlib. Matplotlib has a somewhat convoluted api, and pandas makes plotting common charts much easier.\n",
    "\n",
    "For example, here we call directly matplotlib `legend` to display the legend on top of pandas plots"
   ]
  },
  {
   "cell_type": "code",
   "execution_count": null,
   "metadata": {},
   "outputs": [],
   "source": [
    "data_indexed[data_indexed.country=='Germany'].sales.plot(label=\"Germany\")\n",
    "data_indexed[data_indexed.country=='France'].sales.plot(label=\"France\")\n",
    "plt.legend();"
   ]
  },
  {
   "cell_type": "markdown",
   "metadata": {},
   "source": [
    "We see that sales numbers in France and Germany are generally similar. And that each country has a spike of sales at a certain day in 2011"
   ]
  },
  {
   "cell_type": "markdown",
   "metadata": {},
   "source": [
    "**Using matplotlib api**"
   ]
  },
  {
   "cell_type": "markdown",
   "metadata": {},
   "source": [
    "Sometimes, we want to display some information in a way that pandas `plot` method doesn't allow us to. In those situations we can use matplotlib plt.plot method directly as well. This gives us much more flexibility regarding how we can display the data\n"
   ]
  },
  {
   "cell_type": "code",
   "execution_count": null,
   "metadata": {},
   "outputs": [],
   "source": [
    "for country in data.country.unique():\n",
    "    plt.plot(data[data.country == country].n_items,  # plot this series as the x\n",
    "             data[data.country == country].sales,    #plot this series as the y\n",
    "             marker='o',   #make the markers circle shaped\n",
    "             linestyle='', #don't connect the dots with lines\n",
    "             ms=3,         # size of the markers (in pixels)\n",
    "             label=country # use the country as the label of this plot\n",
    "            )\n",
    "\n",
    "plt.legend();"
   ]
  },
  {
   "cell_type": "markdown",
   "metadata": {},
   "source": [
    "# Bar/Column chart"
   ]
  },
  {
   "cell_type": "markdown",
   "metadata": {},
   "source": [
    "We use bar/column charts to perform comparisons of discrete quantities. Normally you use the horizontal bars to compare across elements without a natural order (categorical variable) and Column charts (vertical bars) to compare among an ordinal variable.\n"
   ]
  },
  {
   "cell_type": "code",
   "execution_count": null,
   "metadata": {},
   "outputs": [],
   "source": [
    "# same thing as data.groupby('country')['sales'].sum().plot(kind=\"barh\");\n",
    "data.groupby('country')['sales'].sum().reset_index().plot.barh(x=\"country\", y=\"sales\");"
   ]
  },
  {
   "cell_type": "markdown",
   "metadata": {},
   "source": [
    "Here we can see that the top countries in terms of sales on the dataset are Netherlands, Germany and EIRE. This does not mean that they are the top countries in terms of sales, because remember, the dataset consist of country + date. "
   ]
  },
  {
   "cell_type": "markdown",
   "metadata": {},
   "source": [
    "# Histograms\n",
    "\n",
    "We can use histograms to make sure that nothing is fishy with the data, as well as to gain an understanding of its distribution. For example, we can use it to see how are sales distributed in EIRE"
   ]
  },
  {
   "cell_type": "code",
   "execution_count": null,
   "metadata": {},
   "outputs": [],
   "source": [
    "# same thing as data[data.country=='EIRE'].sales.plot(kind=\"hist\");\n",
    "data[data.country=='EIRE'].sales.hist();"
   ]
  },
  {
   "cell_type": "markdown",
   "metadata": {},
   "source": [
    "Here we can see that, even though the big majority of sales days in EIRE are less than 2500 GBP, some days there are significantly higher sales.\n",
    "\n",
    "We can limit the extend of the xaxis of a histogram by passing the parameter `xlim` to the plot"
   ]
  },
  {
   "cell_type": "code",
   "execution_count": null,
   "metadata": {},
   "outputs": [],
   "source": [
    "data[data.country=='EIRE'].sales.plot.hist(xlim=(0,7000));"
   ]
  },
  {
   "cell_type": "markdown",
   "metadata": {},
   "source": [
    "We can also specify the number of *groups* of the histogram by using the paramenter `bins`"
   ]
  },
  {
   "cell_type": "code",
   "execution_count": null,
   "metadata": {},
   "outputs": [],
   "source": [
    "data[data.country=='EIRE'].sales.plot.hist(xlim=(0,7000), bins=70);"
   ]
  },
  {
   "cell_type": "markdown",
   "metadata": {},
   "source": [
    "So we see that the most common daily sales revenue in EIRE is 1000 GBP per day"
   ]
  },
  {
   "cell_type": "markdown",
   "metadata": {},
   "source": [
    "### BoxPlot"
   ]
  },
  {
   "cell_type": "markdown",
   "metadata": {},
   "source": [
    "The box plot (also called plot and whisker diagram) is a good chart when you want to compare how a variable is distributed among different groups. For example, on the chart of the left, we are analyzing the weight of all different car models manufactured in 2004 and comparing between the region of origin of those cars\n",
    "\n",
    "Outliers on the boxplot (those points beyond the whiskers) are usually considered as being 1.5* IQ from Quartile 1 (low outliers) and 1.5*IQ from Quartile 3 (high outliers)"
   ]
  },
  {
   "cell_type": "code",
   "execution_count": null,
   "metadata": {},
   "outputs": [],
   "source": [
    "# kind=\"boxplot\" doesn't work since it's not part of the pandas.plot api for legacy reasons\n",
    "data.boxplot(column=\"sales\", by=\"country\");"
   ]
  },
  {
   "cell_type": "markdown",
   "metadata": {},
   "source": [
    "Here we see that the top countries in terms of points (France, Germany and Eire) have a significant number of outliers in terms of sales. Netherlands on the other hand, has sales that are more stable (probably a smaller number of bigger orders)"
   ]
  },
  {
   "cell_type": "markdown",
   "metadata": {},
   "source": [
    "Sometimes we want to show a boxplot horizontally, we can do so by using the argument `vert=False`"
   ]
  },
  {
   "cell_type": "code",
   "execution_count": null,
   "metadata": {},
   "outputs": [],
   "source": [
    "data.boxplot(column=\"sales\", by=\"country\", vert=False);"
   ]
  },
  {
   "cell_type": "markdown",
   "metadata": {},
   "source": [
    "# Customizing plots\n",
    "\n",
    "Using pandas `.plot` as it is is good enough for when doing data analysis (remember, data understanding is one of the main goals of data visualization). \n",
    "\n",
    "However, when we want to share a chart with someone else (wether that person is another data scientist or someone without a technical background), we need to take more steps in order to provide the most effective visualizations.\n",
    "\n",
    "![xkcd labels strip](https://imgs.xkcd.com/comics/convincing.png)\n",
    "\n",
    "When producing charts for external use, always remember:\n",
    "\n",
    "- Add a title describing the chart\n",
    "- Add labels for all the axes.\n",
    "- Check the axes limits to make sure they are appropriate and help convey the right information\n",
    "- Add legends if necessary (when dealing with multiple groups)\n",
    "- Make sure the color palette you choose will display properly on the medium where it is going to be consumed (for example, which color is the background where the chart will be inserted affects how the chart is visualized)\n",
    "- It is good practice, specially if the chart is to be displayed publicly (and thus probably isolated from its original document) to add a footnote to the chart adding the source of the data. "
   ]
  },
  {
   "cell_type": "markdown",
   "metadata": {},
   "source": [
    "#### Styles\n",
    "\n",
    "Pandas uses matplotlib as a plotting backend. Thus, we can use matplotlib styles and api to modify our\n",
    "\n",
    "We can change the style and make use of all of matplotlib styles"
   ]
  },
  {
   "cell_type": "code",
   "execution_count": null,
   "metadata": {},
   "outputs": [],
   "source": [
    "plt.style.available"
   ]
  },
  {
   "cell_type": "markdown",
   "metadata": {},
   "source": [
    "For example, we can change the style of the plots to the style for the package `seaborn`"
   ]
  },
  {
   "cell_type": "code",
   "execution_count": null,
   "metadata": {},
   "outputs": [],
   "source": [
    "plt.style.use('seaborn')"
   ]
  },
  {
   "cell_type": "code",
   "execution_count": null,
   "metadata": {},
   "outputs": [],
   "source": [
    "data[data.country=='EIRE'].sales.plot.hist(xlim=(0,7000), bins=70);"
   ]
  },
  {
   "cell_type": "markdown",
   "metadata": {},
   "source": [
    "We can see that now the plot has a completely different set of fonts, color and sizes"
   ]
  },
  {
   "cell_type": "markdown",
   "metadata": {},
   "source": [
    "Of course we can bypass the applied style  by specifying parameters in the plot. For example if I want to plot the same histograme in a nice pink color I would do it like this:"
   ]
  },
  {
   "cell_type": "code",
   "execution_count": null,
   "metadata": {},
   "outputs": [],
   "source": [
    "data[data.country=='EIRE'].sales.plot.hist(xlim=(0,7000), bins=70, color=\"pink\");"
   ]
  },
  {
   "cell_type": "markdown",
   "metadata": {},
   "source": [
    "# Labels and titles\n",
    "\n",
    "Finally, if we wanted to share our plot with someone else (to display on a paper or to share with a client) we can make use of matplotlib customization to make our plot more explicit and nicer looking"
   ]
  },
  {
   "cell_type": "markdown",
   "metadata": {},
   "source": [
    "For example, we can choose the style of another library *(ggplot, the most famous R plotting library)*"
   ]
  },
  {
   "cell_type": "code",
   "execution_count": null,
   "metadata": {},
   "outputs": [],
   "source": [
    "plt.style.use('ggplot')\n",
    "plt.rcParams[\"figure.figsize\"] = [14, 14] # bigger plots"
   ]
  },
  {
   "cell_type": "markdown",
   "metadata": {},
   "source": [
    "Here we customize the chart to make it ready to be shared. We apply the following modifications:\n",
    "\n",
    "- We use `label` inside the `plot` function to asign a label to each plot. This will draw each line a different color, and will display their name on the legend.\n",
    "- We activate the plot legend with `plt.legend`\n",
    "- We add a title with `plt.legend` (size 25)\n",
    "- We set the range for the y-axis to (0, 12350)\n",
    "- We add a legend for the x axis with `plt.xlabel` (size 20 inches)\n",
    "- We add a legend for the y axis with `plt.ylabel` (size 20 inches)\n",
    "- We add text on a specific position (Starting 54% from the left and 0.8% from the bottom, need to try multiple times to see what looks good)"
   ]
  },
  {
   "cell_type": "code",
   "execution_count": null,
   "metadata": {},
   "outputs": [],
   "source": [
    "data_indexed[data_indexed.country=='Germany'].sales.plot(label=\"Germany\")\n",
    "data_indexed[data_indexed.country=='France'].sales.plot(label=\"France\")\n",
    "plt.ylim(0, 12350)\n",
    "plt.legend()\n",
    "plt.title(\"Daily sales in France and Germany\", size=25)\n",
    "plt.xlabel(\"Date\", size=20)\n",
    "plt.ylabel(\"Sales (GPB)\", size=20)\n",
    "plt.figtext(.54, .08, \"Source: Online Retail Dataset Transactions between 01/12/2010 and 09/12/2011\");"
   ]
  }
 ],
 "metadata": {
  "kernelspec": {
   "display_name": "Python 3",
   "language": "python",
   "name": "python3"
  },
  "language_info": {
   "codemirror_mode": {
    "name": "ipython",
    "version": 3
   },
   "file_extension": ".py",
   "mimetype": "text/x-python",
   "name": "python",
   "nbconvert_exporter": "python",
   "pygments_lexer": "ipython3",
   "version": "3.7.0"
  }
 },
 "nbformat": 4,
 "nbformat_minor": 2
}
